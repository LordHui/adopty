{
 "cells": [
  {
   "cell_type": "code",
   "execution_count": 1,
   "metadata": {},
   "outputs": [],
   "source": [
    "from autograd import grad\n",
    "import autograd.numpy as np\n",
    "import matplotlib.pyplot as plt\n",
    "from lista import LISTA, make_loss\n",
    "from functions import *\n",
    "from generation import generate, get_lambda_max\n",
    "from copy import deepcopy"
   ]
  },
  {
   "cell_type": "code",
   "execution_count": 2,
   "metadata": {},
   "outputs": [],
   "source": [
    "n_train = 1000\n",
    "n_test = 1000\n",
    "k = 3\n",
    "p = 10\n",
    "rng = np.random.RandomState(0)\n",
    "eps = 0.0001\n",
    "fit_loss = 'l2'\n",
    "reg = 'l1'\n",
    "\n",
    "fit_function, der_function = {\n",
    "                              'l2': (l2_fit, l2_der),\n",
    "                              'logreg': (logreg_fit, logreg_der)\n",
    "                              }[fit_loss]\n",
    "reg_function, prox = {\n",
    "                      'l2': (l2_pen, l2_prox),\n",
    "                      'l1': (l1_pen, l1_prox),\n",
    "                      None: (no_pen, no_prox)\n",
    "                      }[reg]\n",
    "loss = make_loss(fit_function, reg_function)"
   ]
  },
  {
   "cell_type": "code",
   "execution_count": 27,
   "metadata": {},
   "outputs": [],
   "source": [
    "m = max(p, k)\n",
    "\n",
    "_, D  = np.linalg.eigh(np.random.randn(m, m))\n",
    "D = np.eye(m)\n",
    "D = D[:k, :p]\n",
    "D = np.random.randn(k, p) * np.arange(1, p + 1)\n",
    "U, S, V = np.linalg.svd(D, full_matrices=False)\n",
    "S = np.linspace(1, 10, min(p, k))\n",
    "#S = np.ones(min(p, k))\n",
    "D = np.dot(U * S[:, None], V)\n",
    "D /= np.sqrt(np.sum(D ** 2, axis=0))"
   ]
  },
  {
   "cell_type": "code",
   "execution_count": 28,
   "metadata": {
    "scrolled": true
   },
   "outputs": [
    {
     "name": "stdout",
     "output_type": "stream",
     "text": [
      "[2.63254172 1.70345502 0.40983544]\n",
      "5.423411539030412\n"
     ]
    }
   ],
   "source": [
    "sigmas = np.linalg.svd(D)[1]\n",
    "\n",
    "gap = sigmas[0] / sigmas[-1] - 1\n",
    "print(sigmas)\n",
    "print(gap)"
   ]
  },
  {
   "cell_type": "code",
   "execution_count": 29,
   "metadata": {},
   "outputs": [
    {
     "name": "stdout",
     "output_type": "stream",
     "text": [
      "1.0000000000000002\n"
     ]
    }
   ],
   "source": [
    "D, X_train, X_test = generate(p, k, n_test, n_train, D=D, binary= fit_loss == 'logreg', rng=rng)\n",
    "X_train /= get_lambda_max(D, X_train, fit_loss, False)\n",
    "X_test /= get_lambda_max(D, X_test, fit_loss, False)\n",
    "lbda_max = get_lambda_max(D, X_train, fit_loss)\n",
    "print(lbda_max)"
   ]
  },
  {
   "cell_type": "code",
   "execution_count": 30,
   "metadata": {},
   "outputs": [],
   "source": [
    "lbda = 0.5"
   ]
  },
  {
   "cell_type": "code",
   "execution_count": 31,
   "metadata": {},
   "outputs": [
    {
     "name": "stdout",
     "output_type": "stream",
     "text": [
      "[[0.37986103 0.24579902 0.05913696]\n",
      " [0.37986103 0.24579902 0.05913696]]\n",
      "-0.008042650619208372\n",
      "[[ 0.40024807  0.43609167  0.34164798]\n",
      " [ 0.38593693  0.21212996 -0.01864704]]\n",
      "-0.06202012268300292\n"
     ]
    }
   ],
   "source": [
    "lista = LISTA(D, lbda, 2, variables='spectrum', learn_levels=False)\n",
    "init_s = lista.spectra\n",
    "print(lista.spectra)\n",
    "print(lista.weights[0][0, 0])\n",
    "lista.fit(X_train, backtrack=True, verbose=False, max_iter=1000)\n",
    "print(lista.spectra)\n",
    "print(lista.weights[0][0, 0])"
   ]
  },
  {
   "cell_type": "code",
   "execution_count": 32,
   "metadata": {
    "scrolled": true
   },
   "outputs": [
    {
     "data": {
      "text/plain": [
       "array([[ 1.05366975,  0.74286255,  0.14001945],\n",
       "       [ 1.01599506,  0.36135384, -0.00764222]])"
      ]
     },
     "execution_count": 32,
     "metadata": {},
     "output_type": "execute_result"
    }
   ],
   "source": [
    "lista.spectra * init_s * lista.L"
   ]
  },
  {
   "cell_type": "code",
   "execution_count": 33,
   "metadata": {},
   "outputs": [],
   "source": [
    "lbda = 0.5"
   ]
  },
  {
   "cell_type": "code",
   "execution_count": 34,
   "metadata": {},
   "outputs": [],
   "source": [
    "f_min = LISTA(D, lbda, 1000).compute_loss(X_test)"
   ]
  },
  {
   "cell_type": "code",
   "execution_count": 44,
   "metadata": {
    "scrolled": true
   },
   "outputs": [
    {
     "name": "stdout",
     "output_type": "stream",
     "text": [
      "2\n",
      "it 0, loss = 4.658e-01, grad_W = 2.72e-02, grad_l = 3.78e-02, l_rate = 1.00e-03\n",
      "it 200, loss = 4.588e-01, grad_W = 1.73e-02, grad_l = 1.11e-01, l_rate = 2.56e-01\n",
      "it 400, loss = 4.566e-01, grad_W = 1.52e-02, grad_l = 9.10e-02, l_rate = 1.28e-01\n",
      "it 600, loss = 4.557e-01, grad_W = 1.23e-02, grad_l = 8.45e-02, l_rate = 1.28e-01\n",
      "it 800, loss = 4.554e-01, grad_W = 1.21e-02, grad_l = 8.20e-02, l_rate = 1.28e-01\n",
      "it 0, loss = 4.665e-01, grad_W = 2.64e-02, grad_l = 3.29e-02, l_rate = 1.00e-03\n",
      "it 200, loss = 4.661e-01, grad_W = 3.66e-04, grad_l = 8.90e-02, l_rate = 4.10e+00\n",
      "it 400, loss = 4.661e-01, grad_W = 2.16e-04, grad_l = 8.88e-02, l_rate = 2.05e+00\n",
      "it 600, loss = 4.661e-01, grad_W = 1.28e-04, grad_l = 8.86e-02, l_rate = 2.05e+00\n",
      "it 800, loss = 4.661e-01, grad_W = 9.36e-05, grad_l = 8.86e-02, l_rate = 2.05e+00\n"
     ]
    }
   ],
   "source": [
    "n_layers = [2]\n",
    "loss_lista = []\n",
    "loss_slista = []\n",
    "\n",
    "learn_levels = False\n",
    "\n",
    "for n_layer in n_layers:\n",
    "    print(n_layer)\n",
    "    lista = LISTA(D, lbda, n_layer, variables='W1', learn_levels=learn_levels)\n",
    "    if n_layer > 1:\n",
    "        lista.weights[:len(old_weights)] = old_weights\n",
    "    lista.fit(X_train, backtrack=True, verbose=200, max_iter=1000)\n",
    "    old_weights = deepcopy(lista.weights)\n",
    "    loss_lista.append(lista.compute_loss(X_test)- f_min)\n",
    "    \n",
    "    slista = LISTA(D, lbda, n_layer, variables='spectrum', learn_levels=learn_levels)\n",
    "    if n_layer > 1:\n",
    "        slista.spectra[:len(old_spectra)] = old_spectra\n",
    "    slista.fit(X_train, backtrack=True, verbose=200, max_iter=1000)\n",
    "    old_spectra = deepcopy(slista.spectra)\n",
    "    loss_slista.append(slista.compute_loss(X_test) - f_min)"
   ]
  },
  {
   "cell_type": "code",
   "execution_count": 45,
   "metadata": {},
   "outputs": [
    {
     "data": {
      "image/png": "[encoded data removed]",
      "text/plain": [
       "<Figure size 432x288 with 1 Axes>"
      ]
     },
     "metadata": {
      "needs_background": "light"
     },
     "output_type": "display_data"
    }
   ],
   "source": [
    "plt.figure()\n",
    "plt.plot(n_layers, loss_lista, label='lista')\n",
    "plt.plot(n_layers, loss_slista, label='slista')\n",
    "plt.title('lbda = %.2e' % lbda)\n",
    "plt.yscale('log')\n",
    "plt.legend()\n",
    "plt.show()"
   ]
  },
  {
   "cell_type": "code",
   "execution_count": 46,
   "metadata": {},
   "outputs": [],
   "source": [
    "weights = old_weights\n",
    "spectra = old_spectra"
   ]
  },
  {
   "cell_type": "code",
   "execution_count": 53,
   "metadata": {},
   "outputs": [],
   "source": [
    "i = 1\n",
    "W0 = weights[2 * i]\n",
    "spectrum = old_spectra[i]"
   ]
  },
  {
   "cell_type": "code",
   "execution_count": 54,
   "metadata": {},
   "outputs": [
    {
     "data": {
      "text/plain": [
       "array([ 0.38589281,  0.21006611, -0.02121017])"
      ]
     },
     "execution_count": 54,
     "metadata": {},
     "output_type": "execute_result"
    }
   ],
   "source": [
    "spectrum"
   ]
  },
  {
   "cell_type": "code",
   "execution_count": 55,
   "metadata": {},
   "outputs": [],
   "source": [
    "U, S, V = np.linalg.svd(W0, full_matrices=False)"
   ]
  },
  {
   "cell_type": "code",
   "execution_count": 56,
   "metadata": {},
   "outputs": [
    {
     "data": {
      "text/plain": [
       "array([1.2289467 , 0.81036522, 0.05881346])"
      ]
     },
     "execution_count": 56,
     "metadata": {},
     "output_type": "execute_result"
    }
   ],
   "source": [
    "S"
   ]
  },
  {
   "cell_type": "code",
   "execution_count": 57,
   "metadata": {},
   "outputs": [],
   "source": [
    "Ud, Sd, Vd = np.linalg.svd(D.T, full_matrices=False)"
   ]
  },
  {
   "cell_type": "code",
   "execution_count": 58,
   "metadata": {},
   "outputs": [
    {
     "data": {
      "text/plain": [
       "<matplotlib.image.AxesImage at 0x7fc80bd650f0>"
      ]
     },
     "execution_count": 58,
     "metadata": {},
     "output_type": "execute_result"
    },
    {
     "data": {
      "image/png": "[encoded data removed]",
      "text/plain": [
       "<Figure size 288x288 with 1 Axes>"
      ]
     },
     "metadata": {
      "needs_background": "light"
     },
     "output_type": "display_data"
    },
    {
     "data": {
      "image/png": "[encoded data removed]",
      "text/plain": [
       "<Figure size 288x288 with 1 Axes>"
      ]
     },
     "metadata": {
      "needs_background": "light"
     },
     "output_type": "display_data"
    }
   ],
   "source": [
    "plt.matshow(np.abs(U.T @ Ud))\n",
    "plt.matshow(np.abs(Vd.T @ V))"
   ]
  },
  {
   "cell_type": "code",
   "execution_count": null,
   "metadata": {},
   "outputs": [],
   "source": []
  }
 ],
 "metadata": {
  "kernelspec": {
   "display_name": "Python 3",
   "language": "python",
   "name": "python3"
  },
  "language_info": {
   "codemirror_mode": {
    "name": "ipython",
    "version": 3
   },
   "file_extension": ".py",
   "mimetype": "text/x-python",
   "name": "python",
   "nbconvert_exporter": "python",
   "pygments_lexer": "ipython3",
   "version": "3.7.1"
  }
 },
 "nbformat": 4,
 "nbformat_minor": 2
}
