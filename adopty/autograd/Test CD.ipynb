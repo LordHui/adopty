{
 "cells": [
  {
   "cell_type": "code",
   "execution_count": 62,
   "metadata": {},
   "outputs": [
    {
     "name": "stdout",
     "output_type": "stream",
     "text": [
      "(10, 2000)\n"
     ]
    }
   ],
   "source": [
    "from autograd import grad\n",
    "import autograd.numpy as np\n",
    "import matplotlib.pyplot as plt\n",
    "from lista import LISTA, make_loss\n",
    "from functions import *\n",
    "from scipy.linalg import hadamard\n",
    "from copy import deepcopy\n",
    "\n",
    "n_samples = 2000\n",
    "n_test = 100\n",
    "k = 10\n",
    "p = 50\n",
    "rng = np.random.RandomState(0)\n",
    "\n",
    "fit_loss = 'logreg'\n",
    "reg = 'l1'\n",
    "\n",
    "fit_function, der_function = {\n",
    "                              'l2': (l2_fit, l2_der),\n",
    "                              'logreg': (logreg_fit, logreg_der)\n",
    "                              }[fit_loss]\n",
    "reg_function, prox = {\n",
    "                      'l2': (l2_pen, l2_prox),\n",
    "                      'l1': (l1_pen, l1_prox),\n",
    "                      None: (no_pen, no_prox)\n",
    "                      }[reg]\n",
    "loss = make_loss(fit_function, reg_function)\n",
    "\n",
    "\n",
    "K = np.eye(p)\n",
    "z_true = rng.randn(p, n_samples)\n",
    "D = rng.randn(k, p).dot(K)\n",
    "D /= np.linalg.norm(D, axis=0, keepdims=True)\n",
    "\n",
    "sigma = 0.1\n",
    "eps = rng.randn(k, n_samples)\n",
    "\n",
    "z_test = rng.randn(p, n_test)\n",
    "eps_test = rng.randn(k, n_test)\n",
    "X = np.dot(D, z_true) + eps\n",
    "X_test = np.dot(D, z_test) + eps_test\n",
    "if fit_loss == 'logreg':\n",
    "    X = 2 * (X > 0) - 1\n",
    "    X_test = 2 * (X_test > 0) - 1\n",
    "    \n",
    "lbda_max = np.max(np.abs(D.T.dot(X)))\n",
    "lbda = 0.1 * lbda_max\n",
    "print(X.shape)"
   ]
  },
  {
   "cell_type": "code",
   "execution_count": 63,
   "metadata": {},
   "outputs": [
    {
     "name": "stdout",
     "output_type": "stream",
     "text": [
      "9.92586007916918e-09\n",
      "4.336997639018832\n"
     ]
    }
   ],
   "source": [
    "n_layers = 10000\n",
    "ista_min = LISTA(D, lbda, n_layers, fit_loss, reg, variables='both', learn_levels=True, architecture='pgd')\n",
    "# L = np.linalg.norm(D, ord=2) ** 2 * 10\n",
    "# ista_min.levels = [lbda / L, ] *  n_layers \n",
    "f_min = ista_min.compute_loss(X_test)\n",
    "z_hat = ista_min.transform(X_test)\n",
    "L = np.linalg.norm(D, ord=2) ** 2\n",
    "print(np.linalg.norm(z_hat - prox(z_hat - np.dot(D.T / L, der_function(np.dot(D, z_hat), X_test)), lbda / L)))\n",
    "print(f_min)"
   ]
  },
  {
   "cell_type": "code",
   "execution_count": 64,
   "metadata": {
    "scrolled": true
   },
   "outputs": [
    {
     "name": "stdout",
     "output_type": "stream",
     "text": [
      "it 0, loss = 5.158e+00, grad_W = 3.09e-01, grad_l = 2.92e-01, l_rate = 1.00e-02\n",
      "it 10, loss = 4.966e+00, grad_W = 6.47e-02, grad_l = 1.60e-01, l_rate = 1.02e+01\n",
      "it 20, loss = 4.921e+00, grad_W = 1.94e-02, grad_l = 1.26e-01, l_rate = 1.02e+01\n",
      "it 30, loss = 4.919e+00, grad_W = 1.38e-02, grad_l = 1.26e-01, l_rate = 5.12e+00\n",
      "it 40, loss = 4.918e+00, grad_W = 1.26e-02, grad_l = 1.27e-01, l_rate = 2.56e+00\n",
      "it 50, loss = 4.917e+00, grad_W = 1.39e-02, grad_l = 1.27e-01, l_rate = 2.56e+00\n",
      "it 60, loss = 4.917e+00, grad_W = 1.35e-02, grad_l = 1.27e-01, l_rate = 2.56e+00\n",
      "it 70, loss = 4.917e+00, grad_W = 1.19e-02, grad_l = 1.26e-01, l_rate = 2.56e+00\n"
     ]
    }
   ],
   "source": [
    "lista_init = LISTA(D, lbda, 1, fit_loss, reg, variables='both', learn_levels=False, architecture='cd')\n",
    "lista_init.fit(X, l_rate=0.01, max_iter=1000, verbose=10, backtrack=True, thres=1e-6)\n",
    "init_weights = deepcopy(lista_init.weights)"
   ]
  },
  {
   "cell_type": "code",
   "execution_count": 66,
   "metadata": {
    "scrolled": true
   },
   "outputs": [
    {
     "name": "stdout",
     "output_type": "stream",
     "text": [
      "1\n",
      "it 0, loss = 4.917e+00, grad_W = 1.41e-02, grad_l = 1.25e-01, l_rate = 1.00e-04\n",
      "it 100, loss = 4.916e+00, grad_W = 1.14e-02, grad_l = 1.28e-01, l_rate = 4.10e-01\n",
      "it 200, loss = 4.915e+00, grad_W = 1.15e-02, grad_l = 1.26e-01, l_rate = 4.10e-01\n",
      "2\n",
      "it 0, loss = 4.757e+00, grad_W = 5.60e-02, grad_l = 6.86e-02, l_rate = 1.00e-04\n",
      "it 100, loss = 4.704e+00, grad_W = 2.27e-02, grad_l = 1.10e-01, l_rate = 1.31e+01\n",
      "it 200, loss = 4.698e+00, grad_W = 1.78e-02, grad_l = 1.12e-01, l_rate = 1.64e+00\n",
      "3\n",
      "it 0, loss = 4.624e+00, grad_W = 4.17e-02, grad_l = 6.18e-02, l_rate = 1.00e-04\n",
      "it 100, loss = 4.592e+00, grad_W = 2.31e-02, grad_l = 9.22e-02, l_rate = 3.28e+00\n",
      "it 200, loss = 4.586e+00, grad_W = 2.39e-02, grad_l = 8.98e-02, l_rate = 3.28e+00\n",
      "4\n",
      "it 0, loss = 4.546e+00, grad_W = 3.61e-02, grad_l = 4.94e-02, l_rate = 1.00e-04\n",
      "it 100, loss = 4.529e+00, grad_W = 2.18e-02, grad_l = 7.37e-02, l_rate = 3.28e+00\n",
      "it 200, loss = 4.526e+00, grad_W = 2.09e-02, grad_l = 7.36e-02, l_rate = 8.19e-01\n",
      "8\n",
      "it 0, loss = 4.456e+00, grad_W = 3.82e-02, grad_l = 3.69e-02, l_rate = 1.00e-04\n",
      "it 100, loss = 4.432e+00, grad_W = 2.26e-02, grad_l = 4.88e-02, l_rate = 1.31e+01\n",
      "it 200, loss = 4.427e+00, grad_W = 2.24e-02, grad_l = 4.59e-02, l_rate = 3.28e+00\n",
      "16\n",
      "it 0, loss = 4.394e+00, grad_W = 2.83e-02, grad_l = 2.95e-02, l_rate = 1.00e-04\n",
      "it 100, loss = 4.382e+00, grad_W = 1.46e-02, grad_l = 2.16e-02, l_rate = 2.62e+01\n",
      "it 200, loss = 4.379e+00, grad_W = 1.05e-02, grad_l = 1.60e-02, l_rate = 6.55e+00\n"
     ]
    }
   ],
   "source": [
    "loss_untrained = []\n",
    "loss_trained = []\n",
    "layers = [1, 2, 3, 4, 8, 16]\n",
    "l_rates = [1e-4, ] * len(layers)\n",
    "for j, (l_rate, n_layers) in enumerate(zip(l_rates, layers)):\n",
    "    print(n_layers)\n",
    "    lista = LISTA(D, lbda, n_layers, fit_loss, reg, variables='both', learn_levels=False, architecture='cd')\n",
    "    lista.weights[:2] = init_weights\n",
    "    loss_untrained.append(lista.compute_loss(X_test))\n",
    "    if j > 0:\n",
    "        lista.weights[:len(old_weights)] = old_weights\n",
    "        lista.levels[:len(old_levels)] = old_levels\n",
    "    lista.fit(X, l_rate=l_rate, max_iter=201, verbose=100, backtrack=True, thres=0, l_rate_min=1e-6)\n",
    "    old_weights = deepcopy(lista.weights)\n",
    "    old_levels = deepcopy(lista.levels)\n",
    "    loss_trained.append(lista.compute_loss(X_test))"
   ]
  },
  {
   "cell_type": "code",
   "execution_count": 67,
   "metadata": {
    "scrolled": true
   },
   "outputs": [
    {
     "data": {
      "text/plain": [
       "<matplotlib.legend.Legend at 0x7fd7dbcede80>"
      ]
     },
     "execution_count": 67,
     "metadata": {},
     "output_type": "execute_result"
    },
    {
     "data": {
      "image/png": "[encoded data removed]",
      "text/plain": [
       "<Figure size 432x288 with 1 Axes>"
      ]
     },
     "metadata": {
      "needs_background": "light"
     },
     "output_type": "display_data"
    }
   ],
   "source": [
    "plt.plot(layers, loss_untrained - f_min, label='CD')\n",
    "plt.plot(layers, loss_trained - f_min, label='L-CD')\n",
    "plt.yscale('log')\n",
    "plt.xlabel('Number of passes on the data/layers')\n",
    "plt.ylabel('Test loss')\n",
    "plt.savefig('fig_cd_%s_%s_%d_%d.pdf' % (fit_function, reg, k, p))\n",
    "plt.legend()"
   ]
  },
  {
   "cell_type": "code",
   "execution_count": null,
   "metadata": {},
   "outputs": [],
   "source": []
  }
 ],
 "metadata": {
  "kernelspec": {
   "display_name": "Python 3",
   "language": "python",
   "name": "python3"
  },
  "language_info": {
   "codemirror_mode": {
    "name": "ipython",
    "version": 3
   },
   "file_extension": ".py",
   "mimetype": "text/x-python",
   "name": "python",
   "nbconvert_exporter": "python",
   "pygments_lexer": "ipython3",
   "version": "3.7.1"
  }
 },
 "nbformat": 4,
 "nbformat_minor": 2
}
