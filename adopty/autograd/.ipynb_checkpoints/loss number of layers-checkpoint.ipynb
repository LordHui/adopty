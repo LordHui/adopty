{
 "cells": [
  {
   "cell_type": "code",
   "execution_count": 1,
   "metadata": {},
   "outputs": [],
   "source": [
    "from autograd import grad\n",
    "import autograd.numpy as np\n",
    "import matplotlib.pyplot as plt\n",
    "from lista import LISTA, make_loss\n",
    "from functions import *\n",
    "from copy import deepcopy"
   ]
  },
  {
   "cell_type": "code",
   "execution_count": 6,
   "metadata": {},
   "outputs": [
    {
     "name": "stdout",
     "output_type": "stream",
     "text": [
      "lambda = 5.78e-02\n"
     ]
    }
   ],
   "source": [
    "layers = np.logspace(0, 2, 5, dtype=int)\n",
    "n_samples = 1000\n",
    "n_test = 100\n",
    "k = 10\n",
    "p = 3\n",
    "K = np.eye(p)\n",
    "fit_loss = 'logreg'\n",
    "reg = 'l1'\n",
    "\n",
    "\n",
    "\n",
    "\n",
    "fit_function, der_function = {\n",
    "                              'l2': (l2_fit, l2_der),\n",
    "                              'logreg': (logreg_fit, logreg_der)\n",
    "                              }[fit_loss]\n",
    "reg_function, prox = {\n",
    "                      'l2': (l2_pen, l2_prox),\n",
    "                      'l1': (l1_pen, l1_prox),\n",
    "                      None: (no_pen, no_prox)\n",
    "                      }[reg]\n",
    "loss = make_loss(fit_function, reg_function)\n",
    "\n",
    "z_true = np.random.randn(p, n_samples)\n",
    "D = np.random.randn(k, p).dot(K)\n",
    "D /= np.linalg.norm(D, axis=0, keepdims=True)\n",
    "\n",
    "sigma = 0.1\n",
    "eps = np.random.randn(k, n_samples)\n",
    "\n",
    "z_test = np.random.randn(p, n_test)\n",
    "eps_test = np.random.randn(k, n_test)\n",
    "X = np.dot(D, z_true) + eps\n",
    "X_test = np.dot(D, z_test) + eps_test\n",
    "if fit_loss == 'logreg':\n",
    "    X = 2 * (X > 0) - 1\n",
    "    X_test = 2 * (X_test > 0) - 1\n",
    "lbda_max = np.max(np.abs(np.dot(D.T, X)))\n",
    "lbda = 0.02 * lbda_max\n",
    "print('lambda = %.2e' % lbda)"
   ]
  },
  {
   "cell_type": "code",
   "execution_count": 7,
   "metadata": {},
   "outputs": [
    {
     "name": "stdout",
     "output_type": "stream",
     "text": [
      "3.829766583549895e-15\n",
      "4.899904031971913\n"
     ]
    }
   ],
   "source": [
    "ista = LISTA(D, lbda, 20000, fit_loss, reg)\n",
    "z_hat = ista.transform(X)\n",
    "f_min = loss(z_hat, X, D, lbda)\n",
    "L = ista.L\n",
    "print(np.linalg.norm(z_hat - prox(z_hat - np.dot(D.T / L, der_function(np.dot(D, z_hat), X)), lbda / L)))\n",
    "print(f_min)"
   ]
  },
  {
   "cell_type": "code",
   "execution_count": 9,
   "metadata": {
    "scrolled": true
   },
   "outputs": [
    {
     "name": "stdout",
     "output_type": "stream",
     "text": [
      "1 layers\n",
      "it 0, loss = 5.475e+00, grad = 1.70e-01\n",
      "it 100, loss = 5.286e+00, grad = 1.11e-01\n",
      "it 200, loss = 5.194e+00, grad = 8.25e-02\n",
      "3 layers\n",
      "it 0, loss = 5.036e+00, grad = 1.55e-01\n",
      "it 100, loss = 4.985e+00, grad = 6.06e-02\n",
      "it 200, loss = 4.977e+00, grad = 4.00e-02\n",
      "10 layers\n",
      "it 0, loss = 4.925e+00, grad = 8.70e-02\n",
      "it 100, loss = 4.918e+00, grad = 4.68e-02\n",
      "it 200, loss = 4.915e+00, grad = 3.65e-02\n",
      "31 layers\n",
      "it 0, loss = 4.903e+00, grad = 3.72e-02\n",
      "it 100, loss = 4.902e+00, grad = 2.05e-02\n",
      "it 200, loss = 4.901e+00, grad = 1.72e-02\n",
      "100 layers\n",
      "it 0, loss = 4.900e+00, grad = 7.91e-03\n",
      "it 100, loss = 4.900e+00, grad = 4.74e-03\n",
      "it 200, loss = 4.900e+00, grad = 4.41e-03\n"
     ]
    }
   ],
   "source": [
    "loss_list = {'ista': [], 'lista': []}\n",
    "for j, n_layers in enumerate(layers):\n",
    "    print('%d layers' % n_layers)\n",
    "    lista = LISTA(D, lbda, n_layers, fit_loss, reg, variables='both')\n",
    "    loss_list['ista'].append(loss(lista.transform(X), X, D, lbda))\n",
    "    # smart init\n",
    "    if j > 0:\n",
    "        lista.weights[:len(old_weights)] = old_weights\n",
    "    lista.fit(X, l_rate=1e-1, max_iter=300, verbose=True)\n",
    "    loss_list['lista'].append(loss(lista.transform(X), X, D, lbda))\n",
    "    old_weights = deepcopy(lista.weights)"
   ]
  },
  {
   "cell_type": "code",
   "execution_count": 17,
   "metadata": {
    "scrolled": true
   },
   "outputs": [
    {
     "data": {
      "image/png": "[encoded data removed]",
      "text/plain": [
       "<Figure size 360x288 with 1 Axes>"
      ]
     },
     "metadata": {
      "needs_background": "light"
     },
     "output_type": "display_data"
    }
   ],
   "source": [
    "plt.figure(figsize=(5, 4))\n",
    "title = ' %s data fit + %s reg, k=%d, p=%d' % (fit_loss, reg, n, p)\n",
    "plt.title(title)\n",
    "plt.plot(layers, np.array(loss_list['ista']) - f_min, label='Proximal gradient descent')\n",
    "plt.plot(layers, np.array(loss_list['lista']) - f_min, label='Learned P.G.D.')\n",
    "plt.xlabel('Number of layers / iterations')\n",
    "plt.ylabel('f - f_min')\n",
    "plt.legend()\n",
    "plt.yscale('log')\n",
    "plt.xscale('log')\n",
    "plt.savefig(title + '.pdf')\n",
    "plt.show()"
   ]
  },
  {
   "cell_type": "code",
   "execution_count": null,
   "metadata": {},
   "outputs": [],
   "source": []
  }
 ],
 "metadata": {
  "kernelspec": {
   "display_name": "Python 3",
   "language": "python",
   "name": "python3"
  },
  "language_info": {
   "codemirror_mode": {
    "name": "ipython",
    "version": 3
   },
   "file_extension": ".py",
   "mimetype": "text/x-python",
   "name": "python",
   "nbconvert_exporter": "python",
   "pygments_lexer": "ipython3",
   "version": "3.7.1"
  }
 },
 "nbformat": 4,
 "nbformat_minor": 2
}
