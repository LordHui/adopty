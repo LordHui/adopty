{
 "cells": [
  {
   "cell_type": "code",
   "execution_count": 1,
   "metadata": {},
   "outputs": [],
   "source": [
    "from autograd import grad\n",
    "import autograd.numpy as np\n",
    "import matplotlib.pyplot as plt\n",
    "from lista import LISTA, make_loss\n",
    "from functions import *\n",
    "from copy import deepcopy"
   ]
  },
  {
   "cell_type": "code",
   "execution_count": 11,
   "metadata": {},
   "outputs": [
    {
     "name": "stdout",
     "output_type": "stream",
     "text": [
      "lambda = 5.72e-02\n"
     ]
    }
   ],
   "source": [
    "layers = np.logspace(0, 2, 5, dtype=int)\n",
    "n_samples = 1000\n",
    "n_test = 100\n",
    "n = 10\n",
    "p = 30\n",
    "K = np.eye(p)\n",
    "fit_loss = 'logreg'\n",
    "reg = 'l1'\n",
    "\n",
    "\n",
    "\n",
    "\n",
    "fit_function, der_function = {\n",
    "                              'l2': (l2_fit, l2_der),\n",
    "                              'logreg': (logreg_fit, logreg_der)\n",
    "                              }[fit_loss]\n",
    "reg_function, prox = {\n",
    "                      'l2': (l2_pen, l2_prox),\n",
    "                      'l1': (l1_pen, l1_prox),\n",
    "                      None: (no_pen, no_prox)\n",
    "                      }[reg]\n",
    "loss = make_loss(fit_function, reg_function)\n",
    "\n",
    "z_true = np.random.randn(p, n_samples)\n",
    "D = np.random.randn(n, p).dot(K)\n",
    "D /= np.linalg.norm(D, axis=0, keepdims=True)\n",
    "\n",
    "sigma = 0.1\n",
    "eps = np.random.randn(n, n_samples)\n",
    "\n",
    "z_test = np.random.randn(p, n_test)\n",
    "eps_test = np.random.randn(n, n_test)\n",
    "X = np.dot(D, z_true) + eps\n",
    "X_test = np.dot(D, z_test) + eps_test\n",
    "if fit_loss == 'logreg':\n",
    "    X = 2 * (X > 0) - 1\n",
    "    X_test = 2 * (X_test > 0) - 1\n",
    "lbda_max = np.max(np.abs(np.dot(D.T, X)))\n",
    "lbda = 0.02 * lbda_max\n",
    "print('lambda = %.2e' % lbda)"
   ]
  },
  {
   "cell_type": "code",
   "execution_count": 13,
   "metadata": {},
   "outputs": [
    {
     "name": "stdout",
     "output_type": "stream",
     "text": [
      "9.020027140261528e-05\n",
      "1.5625430339249895\n"
     ]
    }
   ],
   "source": [
    "ista = LISTA(D, lbda, 20000, fit_loss, reg)\n",
    "z_hat = ista.transform(X)\n",
    "f_min = loss(z_hat, X, D, lbda)\n",
    "L = ista.L\n",
    "print(np.linalg.norm(z_hat - prox(z_hat - np.dot(D.T / L, der_function(np.dot(D, z_hat), X)), lbda / L)))\n",
    "print(f_min)"
   ]
  },
  {
   "cell_type": "code",
   "execution_count": null,
   "metadata": {
    "scrolled": true
   },
   "outputs": [
    {
     "name": "stdout",
     "output_type": "stream",
     "text": [
      "1 layers\n",
      "it 0, loss = 3.919e+00, grad = 6.18e-01\n",
      "it 100, loss = 3.592e+00, grad = 5.28e-01\n",
      "it 200, loss = 3.349e+00, grad = 4.61e-01\n",
      "3 layers\n",
      "it 0, loss = 2.523e+00, grad = 3.70e-01\n",
      "it 100, loss = 2.460e+00, grad = 3.31e-01\n",
      "it 200, loss = 2.408e+00, grad = 2.99e-01\n",
      "10 layers\n",
      "it 0, loss = 1.963e+00, grad = 1.69e-01\n",
      "it 100, loss = 1.950e+00, grad = 1.49e-01\n",
      "it 200, loss = 1.940e+00, grad = 1.33e-01\n",
      "31 layers\n",
      "it 0, loss = 1.758e+00, grad = 6.90e-02\n",
      "it 100, loss = 1.756e+00, grad = 6.32e-02\n"
     ]
    }
   ],
   "source": [
    "loss_list = {'ista': [], 'lista': []}\n",
    "for j, n_layers in enumerate(layers):\n",
    "    print('%d layers' % n_layers)\n",
    "    lista = LISTA(D, lbda, n_layers, fit_loss, reg)\n",
    "    loss_list['ista'].append(loss(lista.transform(X), X, D, lbda))\n",
    "    # smart init\n",
    "    if j > 0:\n",
    "        lista.weights[:len(old_weights)] = old_weights\n",
    "    lista.fit(X, l_rate=1e-1, max_iter=300, verbose=True)\n",
    "    loss_list['lista'].append(loss(lista.transform(X), X, D, lbda))\n",
    "    old_weights = deepcopy(lista.weights)"
   ]
  },
  {
   "cell_type": "code",
   "execution_count": 9,
   "metadata": {
    "scrolled": true
   },
   "outputs": [
    {
     "data": {
      "image/png": "[encoded data removed]",
      "text/plain": [
       "<Figure size 360x288 with 1 Axes>"
      ]
     },
     "metadata": {
      "needs_background": "light"
     },
     "output_type": "display_data"
    }
   ],
   "source": [
    "plt.figure(figsize=(5, 4))\n",
    "title = ' %s data fit + %s reg, k=%d, p=%d' % (fit_loss, reg, n, p)\n",
    "plt.title(title)\n",
    "plt.plot(layers, np.array(loss_list['ista']) - f_min, label='Proximal gradient descent')\n",
    "plt.plot(layers, np.array(loss_list['lista']) - f_min, label='Learned P.G.D.')\n",
    "plt.xlabel('Number of layers / iterations')\n",
    "plt.ylabel('f - f_min')\n",
    "plt.legend()\n",
    "plt.yscale('log')\n",
    "plt.xscale('log')\n",
    "plt.savefig(title + '.pdf')\n",
    "plt.show()"
   ]
  },
  {
   "cell_type": "code",
   "execution_count": null,
   "metadata": {},
   "outputs": [],
   "source": []
  }
 ],
 "metadata": {
  "kernelspec": {
   "display_name": "Python 3",
   "language": "python",
   "name": "python3"
  },
  "language_info": {
   "codemirror_mode": {
    "name": "ipython",
    "version": 3
   },
   "file_extension": ".py",
   "mimetype": "text/x-python",
   "name": "python",
   "nbconvert_exporter": "python",
   "pygments_lexer": "ipython3",
   "version": "3.7.1"
  }
 },
 "nbformat": 4,
 "nbformat_minor": 2
}
