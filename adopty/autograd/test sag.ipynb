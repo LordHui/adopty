{
 "cells": [
  {
   "cell_type": "code",
   "execution_count": 7,
   "metadata": {},
   "outputs": [],
   "source": [
    "from autograd import grad\n",
    "import autograd.numpy as np\n",
    "import matplotlib.pyplot as plt\n",
    "from lista import LISTA, make_loss\n",
    "from functions import *\n",
    "from scipy.linalg import hadamard\n",
    "from copy import deepcopy"
   ]
  },
  {
   "cell_type": "code",
   "execution_count": 10,
   "metadata": {},
   "outputs": [
    {
     "name": "stdout",
     "output_type": "stream",
     "text": [
      "(10, 1000)\n"
     ]
    }
   ],
   "source": [
    "n_samples = 1000\n",
    "n_test = 100\n",
    "k = 10\n",
    "p = 8\n",
    "rng = np.random.RandomState(0)\n",
    "\n",
    "fit_loss = 'l2'\n",
    "reg = None\n",
    "\n",
    "fit_function, der_function = {\n",
    "                              'l2': (l2_fit, l2_der),\n",
    "                              'logreg': (logreg_fit, logreg_der)\n",
    "                              }[fit_loss]\n",
    "reg_function, prox = {\n",
    "                      'l2': (l2_pen, l2_prox),\n",
    "                      'l1': (l1_pen, l1_prox),\n",
    "                      None: (no_pen, no_prox)\n",
    "                      }[reg]\n",
    "loss = make_loss(fit_function, reg_function)\n",
    "\n",
    "\n",
    "H = hadamard(p) / np.sqrt(p)\n",
    "#S = p / np.arange(1, p + 1)\n",
    "#S **= 2\n",
    "S = np.ones(p)\n",
    "K = np.dot(H, S[:, None] * H.T)\n",
    "\n",
    "z_true = rng.randn(p, n_samples)\n",
    "D = rng.randn(k, p).dot(K)\n",
    "D /= np.linalg.norm(D, axis=0, keepdims=True)\n",
    "\n",
    "sigma = 0.1\n",
    "eps = rng.randn(k, n_samples)\n",
    "\n",
    "z_test = rng.randn(p, n_test)\n",
    "eps_test = rng.randn(k, n_test)\n",
    "X = np.dot(D, z_true) + eps\n",
    "X_test = np.dot(D, z_test) + eps_test\n",
    "if fit_loss == 'logreg':\n",
    "    X = 2 * (X > 0) - 1\n",
    "    X_test = 2 * (X_test > 0) - 1\n",
    "    \n",
    "lbda_max = np.max(np.abs(D.T.dot(X)))\n",
    "lbda = 0.1 * lbda_max\n",
    "print(X.shape)"
   ]
  },
  {
   "cell_type": "code",
   "execution_count": 11,
   "metadata": {},
   "outputs": [
    {
     "name": "stdout",
     "output_type": "stream",
     "text": [
      "2.396649683850672e-14\n",
      "0.9653978125237501\n"
     ]
    }
   ],
   "source": [
    "n_layers = 1000\n",
    "ista_min = LISTA(D, lbda, n_layers, fit_loss, reg, variables='both', learn_levels=True, architecture='sag')\n",
    "L = np.linalg.norm(D, ord=2) ** 2 * 10\n",
    "# ista_min.levels = [lbda / L, ] *  n_layers \n",
    "f_min = ista_min.compute_loss(X_test)\n",
    "z_hat = ista_min.transform(X_test)\n",
    "L = np.linalg.norm(D, ord=2) ** 2\n",
    "print(np.linalg.norm(z_hat - prox(z_hat - np.dot(D.T / L, der_function(np.dot(D, z_hat), X_test)), lbda / L)))\n",
    "print(f_min)"
   ]
  },
  {
   "cell_type": "code",
   "execution_count": 15,
   "metadata": {
    "scrolled": true
   },
   "outputs": [
    {
     "name": "stdout",
     "output_type": "stream",
     "text": [
      "it 0, loss = 4.409e+00, grad_W = 4.12e+00, grad_l = 0.00e+00\n",
      "it 100, loss = 4.011e+00, grad_W = 3.57e+00, grad_l = 0.00e+00\n",
      "it 200, loss = 3.734e+00, grad_W = 3.28e+00, grad_l = 0.00e+00\n",
      "it 300, loss = 3.527e+00, grad_W = 3.13e+00, grad_l = 0.00e+00\n",
      "it 400, loss = 3.367e+00, grad_W = 3.09e+00, grad_l = 0.00e+00\n",
      "it 500, loss = 3.242e+00, grad_W = 3.15e+00, grad_l = 0.00e+00\n",
      "it 600, loss = 3.145e+00, grad_W = 3.36e+00, grad_l = 0.00e+00\n",
      "it 700, loss = 3.074e+00, grad_W = 3.80e+00, grad_l = 0.00e+00\n",
      "it 800, loss = 3.037e+00, grad_W = 4.71e+00, grad_l = 0.00e+00\n"
     ]
    },
    {
     "name": "stderr",
     "output_type": "stream",
     "text": [
      "/home/pierre/work/adopty/adopty/autograd/lista.py:78: UserWarning: loss increasing\n",
      "  residual = der_function(np.dot(W2, z), x)\n"
     ]
    },
    {
     "name": "stdout",
     "output_type": "stream",
     "text": [
      "it 900, loss = 3.077e+00, grad_W = 7.14e+00, grad_l = 0.00e+00\n",
      "it 0, loss = 5.872e+00, grad_W = 7.91e+01, grad_l = 0.00e+00\n",
      "it 100, loss = 2.619e+00, grad_W = 2.46e+01, grad_l = 0.00e+00\n",
      "it 200, loss = 2.091e+00, grad_W = 1.20e+01, grad_l = 0.00e+00\n",
      "it 300, loss = 1.910e+00, grad_W = 7.80e+00, grad_l = 0.00e+00\n",
      "it 400, loss = 1.814e+00, grad_W = 6.00e+00, grad_l = 0.00e+00\n",
      "it 500, loss = 1.752e+00, grad_W = 5.02e+00, grad_l = 0.00e+00\n",
      "it 600, loss = 1.709e+00, grad_W = 4.40e+00, grad_l = 0.00e+00\n",
      "it 700, loss = 1.677e+00, grad_W = 3.97e+00, grad_l = 0.00e+00\n",
      "it 800, loss = 1.653e+00, grad_W = 3.67e+00, grad_l = 0.00e+00\n",
      "it 900, loss = 1.633e+00, grad_W = 3.45e+00, grad_l = 0.00e+00\n",
      "it 0, loss = 1.239e+00, grad_W = 5.26e+00, grad_l = 0.00e+00\n",
      "it 100, loss = 1.237e+00, grad_W = 5.21e+00, grad_l = 0.00e+00\n",
      "it 200, loss = 1.235e+00, grad_W = 5.17e+00, grad_l = 0.00e+00\n",
      "it 300, loss = 1.233e+00, grad_W = 5.12e+00, grad_l = 0.00e+00\n",
      "it 400, loss = 1.231e+00, grad_W = 5.08e+00, grad_l = 0.00e+00\n",
      "it 500, loss = 1.229e+00, grad_W = 5.03e+00, grad_l = 0.00e+00\n",
      "it 600, loss = 1.228e+00, grad_W = 4.99e+00, grad_l = 0.00e+00\n",
      "it 700, loss = 1.226e+00, grad_W = 4.95e+00, grad_l = 0.00e+00\n",
      "it 800, loss = 1.224e+00, grad_W = 4.91e+00, grad_l = 0.00e+00\n",
      "it 900, loss = 1.222e+00, grad_W = 4.87e+00, grad_l = 0.00e+00\n"
     ]
    }
   ],
   "source": [
    "loss_untrained = []\n",
    "loss_trained = []\n",
    "layers = [1, 3, 10]\n",
    "l_rates = [1e-3, 1e-4, 1e-5]\n",
    "for j, (l_rate, n_layers) in enumerate(zip(l_rates, layers)):\n",
    "    lista = LISTA(D, lbda, n_layers, fit_loss, reg, variables='both', learn_levels=True, architecture='sag')\n",
    "    loss_untrained.append(lista.compute_loss(X_test))\n",
    "    if j > 0:\n",
    "        lista.weights[:len(old_weights)] = old_weights\n",
    "        lista.levels[:len(old_levels)] = old_levels\n",
    "    lista.fit(X, l_rate=l_rate, max_iter=1000, verbose=True)\n",
    "    old_weights = deepcopy(lista.weights)\n",
    "    old_levels = deepcopy(lista.levels)\n",
    "    loss_trained.append(lista.compute_loss(X_test))"
   ]
  },
  {
   "cell_type": "code",
   "execution_count": 16,
   "metadata": {},
   "outputs": [
    {
     "data": {
      "text/plain": [
       "Text(0, 0.5, 'Loss on test data')"
      ]
     },
     "execution_count": 16,
     "metadata": {},
     "output_type": "execute_result"
    },
    {
     "data": {
      "image/png": "[encoded data removed]",
      "text/plain": [
       "<Figure size 432x288 with 1 Axes>"
      ]
     },
     "metadata": {
      "needs_background": "light"
     },
     "output_type": "display_data"
    }
   ],
   "source": [
    "plt.plot(layers, loss_untrained - f_min, label='SAG')\n",
    "plt.plot(layers, loss_trained - f_min, label='L-SAG')\n",
    "plt.legend()\n",
    "plt.yscale('log')\n",
    "plt.xscale('log')\n",
    "plt.xlabel('Number of layers / outer loops')\n",
    "plt.ylabel('Loss on test data')"
   ]
  },
  {
   "cell_type": "code",
   "execution_count": null,
   "metadata": {},
   "outputs": [],
   "source": []
  }
 ],
 "metadata": {
  "kernelspec": {
   "display_name": "Python 3",
   "language": "python",
   "name": "python3"
  },
  "language_info": {
   "codemirror_mode": {
    "name": "ipython",
    "version": 3
   },
   "file_extension": ".py",
   "mimetype": "text/x-python",
   "name": "python",
   "nbconvert_exporter": "python",
   "pygments_lexer": "ipython3",
   "version": "3.7.1"
  }
 },
 "nbformat": 4,
 "nbformat_minor": 2
}
