{
 "cells": [
  {
   "cell_type": "code",
   "execution_count": 1,
   "metadata": {},
   "outputs": [],
   "source": [
    "from autograd import grad\n",
    "import autograd.numpy as np\n",
    "import matplotlib.pyplot as plt\n",
    "from lista import LISTA\n",
    "from functions import lasso_loss, logreg_loss\n",
    "from scipy.linalg import hadamard"
   ]
  },
  {
   "cell_type": "code",
   "execution_count": 2,
   "metadata": {},
   "outputs": [
    {
     "name": "stdout",
     "output_type": "stream",
     "text": [
      "(10, 1000)\n"
     ]
    }
   ],
   "source": [
    "n_samples = 1000\n",
    "n_test = 100\n",
    "n = 10\n",
    "p = 8\n",
    "model = 'logreg'\n",
    "\n",
    "loss = {'lasso': lasso_loss, 'logreg': logreg_loss}[model]\n",
    "\n",
    "H = hadamard(p) / np.sqrt(p)\n",
    "#S = p / np.arange(1, p + 1)\n",
    "#S **= 2\n",
    "S = np.ones(p)\n",
    "K = np.dot(H, S[:, None] * H.T)\n",
    "\n",
    "z_true = np.random.randn(p, n_samples)\n",
    "D = np.random.randn(n, p).dot(K)\n",
    "D /= np.linalg.norm(D, axis=0, keepdims=True)\n",
    "\n",
    "sigma = 0.1\n",
    "eps = np.random.randn(n, n_samples)\n",
    "\n",
    "z_test = np.random.randn(p, n_test)\n",
    "eps_test = np.random.randn(n, n_test)\n",
    "X = np.dot(D, z_true) + eps\n",
    "X_test = np.dot(D, z_test) + eps_test\n",
    "if model == 'logreg':\n",
    "    X = 2 * (X > 0) - 1\n",
    "    X_test = 2 * (X_test > 0) - 1\n",
    "lbda_max = np.max(np.abs(D.T.dot(X)))\n",
    "lbda = lbda_max * 0.1\n",
    "print(X.shape)"
   ]
  },
  {
   "cell_type": "code",
   "execution_count": 11,
   "metadata": {
    "scrolled": false
   },
   "outputs": [
    {
     "name": "stdout",
     "output_type": "stream",
     "text": [
      "6.931471805599452\n",
      "5.338979950110424\n"
     ]
    }
   ],
   "source": [
    "ista = LISTA(D, lbda, 1000, model=model)\n",
    "print(loss(np.zeros((p, n_samples)), X, D, lbda))\n",
    "f_star = loss(ista.transform(X), X, D, lbda)\n",
    "print(f_star)"
   ]
  },
  {
   "cell_type": "code",
   "execution_count": 12,
   "metadata": {
    "scrolled": true
   },
   "outputs": [
    {
     "data": {
      "text/plain": [
       "5.509749111526015"
      ]
     },
     "execution_count": 12,
     "metadata": {},
     "output_type": "execute_result"
    }
   ],
   "source": [
    "n_layers = 3\n",
    "lista = LISTA(D, lbda, n_layers, model=model)\n",
    "loss(lista.transform(X), X, D, lbda)"
   ]
  },
  {
   "cell_type": "code",
   "execution_count": 13,
   "metadata": {
    "scrolled": true
   },
   "outputs": [
    {
     "name": "stdout",
     "output_type": "stream",
     "text": [
      "it 0, loss = 5.510e+00, grad = 1.33e-01\n",
      "it 100, loss = 5.433e+00, grad = 5.17e-02\n",
      "it 200, loss = 5.420e+00, grad = 2.37e-02\n",
      "it 300, loss = 5.418e+00, grad = 1.43e-02\n",
      "it 400, loss = 5.417e+00, grad = 1.25e-02\n",
      "it 500, loss = 5.417e+00, grad = 1.20e-02\n",
      "it 600, loss = 5.417e+00, grad = 1.17e-02\n",
      "it 700, loss = 5.417e+00, grad = 1.17e-02\n",
      "it 800, loss = 5.417e+00, grad = 1.16e-02\n",
      "it 900, loss = 5.417e+00, grad = 1.16e-02\n"
     ]
    },
    {
     "data": {
      "text/plain": [
       "<lista.LISTA at 0x7fc2c96d4cf8>"
      ]
     },
     "execution_count": 13,
     "metadata": {},
     "output_type": "execute_result"
    }
   ],
   "source": [
    "lista.fit(X, l_rate=1e-1, max_iter=1000, verbose=True)"
   ]
  },
  {
   "cell_type": "code",
   "execution_count": 14,
   "metadata": {
    "scrolled": false
   },
   "outputs": [
    {
     "name": "stdout",
     "output_type": "stream",
     "text": [
      "it 0, loss = 5.826e+00, grad = 1.78e-01\n",
      "it 100, loss = 5.796e+00, grad = 1.65e-01\n",
      "it 200, loss = 5.771e+00, grad = 1.53e-01\n",
      "it 300, loss = 5.749e+00, grad = 1.43e-01\n",
      "it 400, loss = 5.730e+00, grad = 1.35e-01\n",
      "it 500, loss = 5.713e+00, grad = 1.27e-01\n",
      "it 600, loss = 5.697e+00, grad = 1.20e-01\n",
      "it 700, loss = 5.684e+00, grad = 1.14e-01\n",
      "it 800, loss = 5.671e+00, grad = 1.09e-01\n",
      "it 900, loss = 5.660e+00, grad = 1.04e-01\n"
     ]
    },
    {
     "data": {
      "text/plain": [
       "<lista.LISTA at 0x7fc2c96a36a0>"
      ]
     },
     "execution_count": 14,
     "metadata": {},
     "output_type": "execute_result"
    }
   ],
   "source": [
    "lista_one = LISTA(D, lbda, 1, model=model)\n",
    "lista_one.fit(X, l_rate=1e-2, max_iter=1000, batch_size=1000, verbose=True)"
   ]
  },
  {
   "cell_type": "code",
   "execution_count": 15,
   "metadata": {
    "scrolled": true
   },
   "outputs": [],
   "source": [
    "f_star = loss(LISTA(D, lbda, 1000, model=model).transform(X_test), X_test, D, lbda)\n",
    "f0 = loss(np.zeros_like(z_test), X_test, D, lbda)"
   ]
  },
  {
   "cell_type": "code",
   "execution_count": 16,
   "metadata": {
    "scrolled": true
   },
   "outputs": [
    {
     "name": "stdout",
     "output_type": "stream",
     "text": [
      "Avg test loss using ISTA with 3 iterations: 1.12e-01\n"
     ]
    }
   ],
   "source": [
    "ista = LISTA(D, lbda, n_layers, model=model)\n",
    "print('Avg test loss using ISTA with %d iterations: %.2e' %\n",
    "      (n_layers, (loss(ista.transform(X_test), X_test, D, lbda) - f_star) / (f0 - f_star)))"
   ]
  },
  {
   "cell_type": "code",
   "execution_count": 17,
   "metadata": {},
   "outputs": [
    {
     "name": "stdout",
     "output_type": "stream",
     "text": [
      "Avg test loss using LISTA with 3 layers: 5.46e-02\n"
     ]
    }
   ],
   "source": [
    "print('Avg test loss using LISTA with %d layers: %.2e' %\n",
    "      (n_layers, (loss(lista.transform(X_test), X_test, D, lbda) - f_star) / (f0 - f_star)))"
   ]
  },
  {
   "cell_type": "code",
   "execution_count": null,
   "metadata": {},
   "outputs": [],
   "source": []
  }
 ],
 "metadata": {
  "kernelspec": {
   "display_name": "Python 3",
   "language": "python",
   "name": "python3"
  },
  "language_info": {
   "codemirror_mode": {
    "name": "ipython",
    "version": 3
   },
   "file_extension": ".py",
   "mimetype": "text/x-python",
   "name": "python",
   "nbconvert_exporter": "python",
   "pygments_lexer": "ipython3",
   "version": "3.7.1"
  }
 },
 "nbformat": 4,
 "nbformat_minor": 2
}
