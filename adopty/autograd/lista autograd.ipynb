{
 "cells": [
  {
   "cell_type": "code",
   "execution_count": 6,
   "metadata": {
    "scrolled": true
   },
   "outputs": [],
   "source": [
    "from autograd import grad\n",
    "import autograd.numpy as np\n",
    "import matplotlib.pyplot as plt\n",
    "from lista import LISTA, make_loss\n",
    "from functions import *\n",
    "from scipy.linalg import hadamard"
   ]
  },
  {
   "cell_type": "code",
   "execution_count": 7,
   "metadata": {},
   "outputs": [],
   "source": [
    "n_samples = 10000\n",
    "n_test = 100000\n",
    "n = 5\n",
    "p = 10\n",
    "rng = np.random.RandomState(0)\n",
    "\n",
    "fit_loss = 'l2'\n",
    "reg = 'l1'\n",
    "\n",
    "fit_function, der_function = {\n",
    "                              'l2': (l2_fit, l2_der),\n",
    "                              'logreg': (logreg_fit, logreg_der)\n",
    "                              }[fit_loss]\n",
    "reg_function, prox = {\n",
    "                      'l2': (l2_pen, l2_prox),\n",
    "                      'l1': (l1_pen, l1_prox),\n",
    "                      None: (no_pen, no_prox)\n",
    "                      }[reg]\n",
    "loss = make_loss(fit_function, reg_function)\n",
    "\n",
    "\n",
    "\n",
    "K = np.eye(p)\n",
    "\n",
    "z_true = rng.randn(p, n_samples)\n",
    "D = rng.randn(n, p).dot(K)\n",
    "D /= np.linalg.norm(D, axis=0, keepdims=True)\n",
    "\n",
    "sigma = 0.1\n",
    "eps = rng.randn(n, n_samples)\n",
    "\n",
    "z_test = rng.randn(p, n_test)\n",
    "eps_test = rng.randn(n, n_test)\n",
    "X = np.dot(D, z_true) + eps\n",
    "X_test = np.dot(D, z_test) + eps_test\n",
    "if fit_loss == 'logreg':\n",
    "    X = 2 * (X > 0) - 1\n",
    "    X_test = 2 * (X_test > 0) - 1"
   ]
  },
  {
   "cell_type": "code",
   "execution_count": 9,
   "metadata": {
    "scrolled": true
   },
   "outputs": [
    {
     "name": "stdout",
     "output_type": "stream",
     "text": [
      "10.261304163592998\n"
     ]
    }
   ],
   "source": [
    "lbda_max = np.max(np.abs(D.T.dot(X)))\n",
    "lbda = .6 * lbda_max\n",
    "print(lbda_max)"
   ]
  },
  {
   "cell_type": "code",
   "execution_count": 10,
   "metadata": {},
   "outputs": [],
   "source": [
    "f_min = LISTA(D, lbda, 1000, fit_loss, reg).compute_loss(X_test)"
   ]
  },
  {
   "cell_type": "code",
   "execution_count": 11,
   "metadata": {},
   "outputs": [
    {
     "name": "stdout",
     "output_type": "stream",
     "text": [
      "frac: 2.88e-03\n",
      "loss: 1.37e-03\n",
      "it 0, loss = 7.449e+00, grad_W = 3.46e-02, grad_l = 4.04e-02, l_rate = 1.00e-01\n",
      "it 100, loss = 7.448e+00, grad_W = 2.35e-03, grad_l = 5.81e-03, l_rate = 8.00e-01\n",
      "frac: 4.08e-03\n",
      "loss: 1.07e-03\n"
     ]
    }
   ],
   "source": [
    "n_layers = 3\n",
    "lista = LISTA(D, lbda, n_layers, fit_loss, reg, variables='both', learn_levels=False)\n",
    "z = lista.transform(X_test)\n",
    "print('frac: %.2e' % (np.sum(np.sum(z != 0 , axis=0) > 0) / X_test.size))\n",
    "print('loss: %.2e' % (lista.compute_loss(X_test) - f_min))\n",
    "lista.fit(X, l_rate=1e-1, max_iter=200, verbose=100, backtrack=True)\n",
    "z = lista.transform(X_test)\n",
    "print('frac: %.2e' % (np.sum(np.sum(z != 0 , axis=0) > 0) / X_test.size))\n",
    "print('loss: %.2e' % (lista.compute_loss(X_test) - f_min))"
   ]
  },
  {
   "cell_type": "code",
   "execution_count": null,
   "metadata": {},
   "outputs": [],
   "source": []
  }
 ],
 "metadata": {
  "kernelspec": {
   "display_name": "Python 3",
   "language": "python",
   "name": "python3"
  },
  "language_info": {
   "codemirror_mode": {
    "name": "ipython",
    "version": 3
   },
   "file_extension": ".py",
   "mimetype": "text/x-python",
   "name": "python",
   "nbconvert_exporter": "python",
   "pygments_lexer": "ipython3",
   "version": "3.7.1"
  }
 },
 "nbformat": 4,
 "nbformat_minor": 2
}
