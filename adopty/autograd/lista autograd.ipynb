{
 "cells": [
  {
   "cell_type": "code",
   "execution_count": 1,
   "metadata": {},
   "outputs": [],
   "source": [
    "from autograd import grad\n",
    "import autograd.numpy as np\n",
    "import matplotlib.pyplot as plt\n",
    "from lista import LISTA, make_loss\n",
    "from functions import *\n",
    "from scipy.linalg import hadamard"
   ]
  },
  {
   "cell_type": "code",
   "execution_count": 4,
   "metadata": {},
   "outputs": [
    {
     "name": "stdout",
     "output_type": "stream",
     "text": [
      "(10, 1000)\n"
     ]
    }
   ],
   "source": [
    "n_samples = 1000\n",
    "n_test = 100\n",
    "n = 10\n",
    "p = 8\n",
    "rng = np.random.RandomState(0)\n",
    "\n",
    "fit_loss = 'l2'\n",
    "reg = 'l1'\n",
    "\n",
    "fit_function, der_function = {\n",
    "                              'l2': (l2_fit, l2_der),\n",
    "                              'logreg': (logreg_fit, logreg_der)\n",
    "                              }[fit_loss]\n",
    "reg_function, prox = {\n",
    "                      'l2': (l2_pen, l2_prox),\n",
    "                      'l1': (l1_pen, l1_prox),\n",
    "                      None: (no_pen, no_prox)\n",
    "                      }[reg]\n",
    "loss = make_loss(fit_function, reg_function)\n",
    "\n",
    "\n",
    "H = hadamard(p) / np.sqrt(p)\n",
    "#S = p / np.arange(1, p + 1)\n",
    "#S **= 2\n",
    "S = np.ones(p)\n",
    "K = np.dot(H, S[:, None] * H.T)\n",
    "\n",
    "z_true = rng.randn(p, n_samples)\n",
    "D = rng.randn(n, p).dot(K)\n",
    "D /= np.linalg.norm(D, axis=0, keepdims=True)\n",
    "\n",
    "sigma = 0.1\n",
    "eps = rng.randn(n, n_samples)\n",
    "\n",
    "z_test = rng.randn(p, n_test)\n",
    "eps_test = rng.randn(n, n_test)\n",
    "X = np.dot(D, z_true) + eps\n",
    "X_test = np.dot(D, z_test) + eps_test\n",
    "if fit_loss == 'logreg':\n",
    "    X = 2 * (X > 0) - 1\n",
    "    X_test = 2 * (X_test > 0) - 1\n",
    "lbda_max = np.max(np.abs(D.T.dot(X)))\n",
    "lbda = lbda_max * 0.1\n",
    "print(X.shape)"
   ]
  },
  {
   "cell_type": "code",
   "execution_count": 5,
   "metadata": {
    "scrolled": false
   },
   "outputs": [
    {
     "name": "stdout",
     "output_type": "stream",
     "text": [
      "8.82852839123171\n",
      "5.452118497263439\n"
     ]
    }
   ],
   "source": [
    "ista = LISTA(D, lbda, 1000, fit_loss, reg)\n",
    "print(loss(np.zeros((p, n_samples)), X, D, lbda))\n",
    "f_star = loss(ista.transform(X), X, D, lbda)\n",
    "print(f_star)"
   ]
  },
  {
   "cell_type": "code",
   "execution_count": 11,
   "metadata": {
    "scrolled": false
   },
   "outputs": [
    {
     "data": {
      "text/plain": [
       "5.71450201082143"
      ]
     },
     "execution_count": 11,
     "metadata": {},
     "output_type": "execute_result"
    }
   ],
   "source": [
    "n_layers = 3\n",
    "lista = LISTA(D, lbda, n_layers, fit_loss, reg, variables='both')\n",
    "loss(lista.transform(X), X, D, lbda)"
   ]
  },
  {
   "cell_type": "code",
   "execution_count": 12,
   "metadata": {},
   "outputs": [
    {
     "name": "stdout",
     "output_type": "stream",
     "text": [
      "0.1275790310340033\n",
      "0.34674165090767023\n"
     ]
    }
   ],
   "source": [
    "print(lista.weights[0][0, 0])\n",
    "print(lista.weights[1][0, 0])"
   ]
  },
  {
   "cell_type": "code",
   "execution_count": 13,
   "metadata": {
    "scrolled": true
   },
   "outputs": [
    {
     "name": "stdout",
     "output_type": "stream",
     "text": [
      "it 0, loss = 5.715e+00, grad = 1.09e+00\n",
      "it 100, loss = 5.551e+00, grad = 9.36e-02\n",
      "it 200, loss = 5.547e+00, grad = 9.09e-02\n",
      "it 300, loss = 5.543e+00, grad = 9.06e-02\n",
      "it 400, loss = 5.540e+00, grad = 9.06e-02\n",
      "it 500, loss = 5.538e+00, grad = 9.05e-02\n",
      "it 600, loss = 5.536e+00, grad = 9.37e-02\n",
      "it 700, loss = 5.534e+00, grad = 9.51e-02\n",
      "it 800, loss = 5.532e+00, grad = 9.56e-02\n",
      "it 900, loss = 5.531e+00, grad = 9.65e-02\n"
     ]
    },
    {
     "data": {
      "text/plain": [
       "<lista.LISTA at 0x7f58c0256ac8>"
      ]
     },
     "execution_count": 13,
     "metadata": {},
     "output_type": "execute_result"
    }
   ],
   "source": [
    "lista.fit(X, l_rate=1e-1, max_iter=1000, verbose=True)"
   ]
  },
  {
   "cell_type": "code",
   "execution_count": 14,
   "metadata": {},
   "outputs": [
    {
     "name": "stdout",
     "output_type": "stream",
     "text": [
      "0.04225529374501078\n",
      "0.5612749779806477\n"
     ]
    }
   ],
   "source": [
    "print(lista.weights[0][0, 0])\n",
    "print(lista.weights[1][0, 0])"
   ]
  },
  {
   "cell_type": "code",
   "execution_count": 15,
   "metadata": {
    "scrolled": true
   },
   "outputs": [
    {
     "name": "stdout",
     "output_type": "stream",
     "text": [
      "it 0, loss = 6.351e+00, grad = 1.59e+00\n",
      "it 100, loss = 5.762e+00, grad = 3.51e-01\n",
      "it 200, loss = 5.705e+00, grad = 1.48e-01\n",
      "it 300, loss = 5.693e+00, grad = 7.61e-02\n",
      "it 400, loss = 5.689e+00, grad = 4.23e-02\n",
      "it 500, loss = 5.688e+00, grad = 2.30e-02\n",
      "it 600, loss = 5.688e+00, grad = 1.50e-02\n",
      "it 700, loss = 5.688e+00, grad = 1.00e-02\n",
      "it 800, loss = 5.688e+00, grad = 6.08e-03\n",
      "it 900, loss = 5.688e+00, grad = 5.41e-03\n"
     ]
    },
    {
     "data": {
      "text/plain": [
       "<lista.LISTA at 0x7f58988424e0>"
      ]
     },
     "execution_count": 15,
     "metadata": {},
     "output_type": "execute_result"
    }
   ],
   "source": [
    "lista_one = LISTA(D, lbda, 1, fit_loss, reg)\n",
    "lista_one.fit(X, l_rate=1e-2, max_iter=1000, batch_size=1000, verbose=True)"
   ]
  },
  {
   "cell_type": "code",
   "execution_count": 16,
   "metadata": {
    "scrolled": true
   },
   "outputs": [],
   "source": [
    "f_star = loss(LISTA(D, lbda, 1000, fit_loss, reg).transform(X_test), X_test, D, lbda)\n",
    "f0 = loss(np.zeros_like(z_test), X_test, D, lbda)"
   ]
  },
  {
   "cell_type": "code",
   "execution_count": 17,
   "metadata": {
    "scrolled": true
   },
   "outputs": [
    {
     "name": "stdout",
     "output_type": "stream",
     "text": [
      "Avg test loss using ISTA with 3 iterations: 6.69e-02\n"
     ]
    }
   ],
   "source": [
    "ista = LISTA(D, lbda, n_layers, fit_loss, reg)\n",
    "print('Avg test loss using ISTA with %d iterations: %.2e' %\n",
    "      (n_layers, (loss(ista.transform(X_test), X_test, D, lbda) - f_star) / (f0 - f_star)))"
   ]
  },
  {
   "cell_type": "code",
   "execution_count": 18,
   "metadata": {},
   "outputs": [
    {
     "name": "stdout",
     "output_type": "stream",
     "text": [
      "Avg test loss using LISTA with 3 layers: 2.40e-02\n"
     ]
    }
   ],
   "source": [
    "print('Avg test loss using LISTA with %d layers: %.2e' %\n",
    "      (n_layers, (loss(lista.transform(X_test), X_test, D, lbda) - f_star) / (f0 - f_star)))"
   ]
  },
  {
   "cell_type": "code",
   "execution_count": null,
   "metadata": {},
   "outputs": [],
   "source": []
  }
 ],
 "metadata": {
  "kernelspec": {
   "display_name": "Python 3",
   "language": "python",
   "name": "python3"
  },
  "language_info": {
   "codemirror_mode": {
    "name": "ipython",
    "version": 3
   },
   "file_extension": ".py",
   "mimetype": "text/x-python",
   "name": "python",
   "nbconvert_exporter": "python",
   "pygments_lexer": "ipython3",
   "version": "3.7.1"
  }
 },
 "nbformat": 4,
 "nbformat_minor": 2
}
