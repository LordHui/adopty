{
 "cells": [
  {
   "cell_type": "code",
   "execution_count": 1,
   "metadata": {},
   "outputs": [],
   "source": [
    "from autograd import grad\n",
    "import autograd.numpy as np\n",
    "import matplotlib.pyplot as plt\n",
    "from lista import LISTA\n",
    "from functions import lasso_loss, logreg_loss\n",
    "from scipy.linalg import hadamard"
   ]
  },
  {
   "cell_type": "code",
   "execution_count": 2,
   "metadata": {},
   "outputs": [
    {
     "name": "stdout",
     "output_type": "stream",
     "text": [
      "(10, 1000)\n"
     ]
    }
   ],
   "source": [
    "n_samples = 1000\n",
    "n_test = 100\n",
    "n = 10\n",
    "p = 8\n",
    "model = 'logreg'\n",
    "\n",
    "loss = {'lasso': lasso_loss, 'logreg': logreg_loss}[model]\n",
    "\n",
    "H = hadamard(p) / np.sqrt(p)\n",
    "#S = p / np.arange(1, p + 1)\n",
    "#S **= 2\n",
    "S = np.ones(p)\n",
    "K = np.dot(H, S[:, None] * H.T)\n",
    "\n",
    "z_true = np.random.randn(p, n_samples)\n",
    "D = np.random.randn(n, p).dot(K)\n",
    "D /= np.linalg.norm(D, axis=0, keepdims=True)\n",
    "\n",
    "sigma = 0.1\n",
    "eps = np.random.randn(n, n_samples)\n",
    "\n",
    "z_test = np.random.randn(p, n_test)\n",
    "eps_test = np.random.randn(n, n_test)\n",
    "X = np.dot(D, z_true) + eps\n",
    "X_test = np.dot(D, z_test) + eps_test\n",
    "if model == 'logreg':\n",
    "    X = 2 * (X > 0) - 1\n",
    "    X_test = 2 * (X_test > 0) - 1\n",
    "lbda_max = np.max(np.abs(D.T.dot(X)))\n",
    "lbda = lbda_max * 0.1\n",
    "print(X.shape)"
   ]
  },
  {
   "cell_type": "code",
   "execution_count": 3,
   "metadata": {
    "scrolled": false
   },
   "outputs": [
    {
     "name": "stdout",
     "output_type": "stream",
     "text": [
      "6.931471805599452\n",
      "5.306823453116015\n"
     ]
    }
   ],
   "source": [
    "ista = LISTA(D, lbda, 1000, model=model)\n",
    "print(loss(np.zeros((p, n_samples)), X, D, lbda))\n",
    "f_star = loss(ista.transform(X), X, D, lbda)\n",
    "print(f_star)"
   ]
  },
  {
   "cell_type": "code",
   "execution_count": 4,
   "metadata": {
    "scrolled": true
   },
   "outputs": [
    {
     "data": {
      "text/plain": [
       "5.315261285250276"
      ]
     },
     "execution_count": 4,
     "metadata": {},
     "output_type": "execute_result"
    }
   ],
   "source": [
    "n_layers = 10\n",
    "lista = LISTA(D, lbda, n_layers, model=model, l_star=f_star)\n",
    "loss(lista.transform(X), X, D, lbda)"
   ]
  },
  {
   "cell_type": "code",
   "execution_count": 5,
   "metadata": {
    "scrolled": true
   },
   "outputs": [
    {
     "name": "stdout",
     "output_type": "stream",
     "text": [
      "it 0, loss = 5.315e+00, grad = 2.99e-02\n",
      "it 100, loss = 5.312e+00, grad = 8.87e-03\n",
      "it 200, loss = 5.312e+00, grad = 6.05e-03\n",
      "it 300, loss = 5.312e+00, grad = 5.58e-03\n",
      "it 400, loss = 5.312e+00, grad = 5.47e-03\n",
      "it 500, loss = 5.312e+00, grad = 5.40e-03\n",
      "it 600, loss = 5.312e+00, grad = 5.38e-03\n",
      "it 700, loss = 5.312e+00, grad = 5.33e-03\n",
      "it 800, loss = 5.312e+00, grad = 5.32e-03\n",
      "it 900, loss = 5.312e+00, grad = 5.32e-03\n"
     ]
    },
    {
     "data": {
      "text/plain": [
       "<lista.LISTA at 0x7f54138de3c8>"
      ]
     },
     "execution_count": 5,
     "metadata": {},
     "output_type": "execute_result"
    }
   ],
   "source": [
    "lista.fit(X, l_rate=1e-1, max_iter=1000, verbose=True)"
   ]
  },
  {
   "cell_type": "code",
   "execution_count": 10,
   "metadata": {
    "scrolled": false
   },
   "outputs": [
    {
     "name": "stdout",
     "output_type": "stream",
     "text": [
      "it 0, loss = 5.749e+00, grad = 1.76e-01\n",
      "it 100, loss = 5.720e+00, grad = 1.64e-01\n",
      "it 200, loss = 5.694e+00, grad = 1.54e-01\n",
      "it 300, loss = 5.672e+00, grad = 1.45e-01\n",
      "it 400, loss = 5.652e+00, grad = 1.37e-01\n",
      "it 500, loss = 5.635e+00, grad = 1.29e-01\n",
      "it 600, loss = 5.619e+00, grad = 1.22e-01\n",
      "it 700, loss = 5.605e+00, grad = 1.15e-01\n",
      "it 800, loss = 5.592e+00, grad = 1.10e-01\n",
      "it 900, loss = 5.581e+00, grad = 1.04e-01\n"
     ]
    },
    {
     "data": {
      "text/plain": [
       "<lista.LISTA at 0x7f5413877278>"
      ]
     },
     "execution_count": 10,
     "metadata": {},
     "output_type": "execute_result"
    }
   ],
   "source": [
    "lista_one = LISTA(D, lbda, 1, model=model)\n",
    "lista_one.fit(X, l_rate=1e-2, max_iter=1000, batch_size=1000, verbose=True)"
   ]
  },
  {
   "cell_type": "code",
   "execution_count": 7,
   "metadata": {
    "scrolled": true
   },
   "outputs": [],
   "source": [
    "f_star = loss(LISTA(D, lbda, 1000, model=model).transform(X_test), X_test, D, lbda)\n",
    "f0 = loss(np.zeros_like(z_test), X_test, D, lbda)"
   ]
  },
  {
   "cell_type": "code",
   "execution_count": 8,
   "metadata": {
    "scrolled": true
   },
   "outputs": [
    {
     "name": "stdout",
     "output_type": "stream",
     "text": [
      "Avg test loss using ISTA with 10 iterations: 5.70e-03\n"
     ]
    }
   ],
   "source": [
    "ista = LISTA(D, lbda, n_layers, model=model)\n",
    "print('Avg test loss using ISTA with %d iterations: %.2e' %\n",
    "      (n_layers, (loss(ista.transform(X_test), X_test, D, lbda) - f_star) / (f0 - f_star)))"
   ]
  },
  {
   "cell_type": "code",
   "execution_count": 9,
   "metadata": {},
   "outputs": [
    {
     "name": "stdout",
     "output_type": "stream",
     "text": [
      "Avg test loss using LISTA with 10 layers: 3.51e-03\n"
     ]
    }
   ],
   "source": [
    "print('Avg test loss using LISTA with %d layers: %.2e' %\n",
    "      (n_layers, (loss(lista.transform(X_test), X_test, D, lbda) - f_star) / (f0 - f_star)))"
   ]
  },
  {
   "cell_type": "code",
   "execution_count": null,
   "metadata": {},
   "outputs": [],
   "source": []
  }
 ],
 "metadata": {
  "kernelspec": {
   "display_name": "Python 3",
   "language": "python",
   "name": "python3"
  },
  "language_info": {
   "codemirror_mode": {
    "name": "ipython",
    "version": 3
   },
   "file_extension": ".py",
   "mimetype": "text/x-python",
   "name": "python",
   "nbconvert_exporter": "python",
   "pygments_lexer": "ipython3",
   "version": "3.7.1"
  }
 },
 "nbformat": 4,
 "nbformat_minor": 2
}
