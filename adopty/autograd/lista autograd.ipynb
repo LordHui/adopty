{
 "cells": [
  {
   "cell_type": "code",
   "execution_count": 1,
   "metadata": {
    "scrolled": true
   },
   "outputs": [],
   "source": [
    "from autograd import grad\n",
    "import autograd.numpy as np\n",
    "import matplotlib.pyplot as plt\n",
    "from lista import LISTA, make_loss\n",
    "from functions import *\n",
    "from scipy.linalg import hadamard"
   ]
  },
  {
   "cell_type": "code",
   "execution_count": 2,
   "metadata": {},
   "outputs": [],
   "source": [
    "n_samples = 1000\n",
    "n_test = 100\n",
    "n = 10\n",
    "p = 8\n",
    "rng = np.random.RandomState(0)\n",
    "\n",
    "fit_loss = 'l2'\n",
    "reg = 'l1'\n",
    "\n",
    "fit_function, der_function = {\n",
    "                              'l2': (l2_fit, l2_der),\n",
    "                              'logreg': (logreg_fit, logreg_der)\n",
    "                              }[fit_loss]\n",
    "reg_function, prox = {\n",
    "                      'l2': (l2_pen, l2_prox),\n",
    "                      'l1': (l1_pen, l1_prox),\n",
    "                      None: (no_pen, no_prox)\n",
    "                      }[reg]\n",
    "loss = make_loss(fit_function, reg_function)\n",
    "\n",
    "\n",
    "H = hadamard(p) / np.sqrt(p)\n",
    "#S = p / np.arange(1, p + 1)\n",
    "#S **= 2\n",
    "S = np.ones(p)\n",
    "K = np.dot(H, S[:, None] * H.T)\n",
    "\n",
    "z_true = rng.randn(p, n_samples)\n",
    "D = rng.randn(n, p).dot(K)\n",
    "D /= np.linalg.norm(D, axis=0, keepdims=True)\n",
    "\n",
    "sigma = 0.1\n",
    "eps = rng.randn(n, n_samples)\n",
    "\n",
    "z_test = rng.randn(p, n_test)\n",
    "eps_test = rng.randn(n, n_test)\n",
    "X = np.dot(D, z_true) + eps\n",
    "X_test = np.dot(D, z_test) + eps_test\n",
    "if fit_loss == 'logreg':\n",
    "    X = 2 * (X > 0) - 1\n",
    "    X_test = 2 * (X_test > 0) - 1"
   ]
  },
  {
   "cell_type": "code",
   "execution_count": 3,
   "metadata": {},
   "outputs": [
    {
     "name": "stdout",
     "output_type": "stream",
     "text": [
      "(10, 1000)\n"
     ]
    }
   ],
   "source": [
    "lbda_max = np.max(np.abs(D.T.dot(X)))\n",
    "lbda = 0.01 * lbda_max\n",
    "print(X.shape)"
   ]
  },
  {
   "cell_type": "code",
   "execution_count": 6,
   "metadata": {},
   "outputs": [
    {
     "name": "stdout",
     "output_type": "stream",
     "text": [
      "2.8669445539805727\n",
      "1.8098525668141432\n"
     ]
    }
   ],
   "source": [
    "n_layers = 3\n",
    "lista = LISTA(D, lbda, n_layers, fit_loss, reg, variables='both', learn_levels=True)\n",
    "print(lista.compute_loss(X))\n",
    "lista.fit(X, l_rate=1e-1, max_iter=1000)\n",
    "print(lista.compute_loss(X))"
   ]
  },
  {
   "cell_type": "code",
   "execution_count": null,
   "metadata": {},
   "outputs": [],
   "source": []
  }
 ],
 "metadata": {
  "kernelspec": {
   "display_name": "Python 3",
   "language": "python",
   "name": "python3"
  },
  "language_info": {
   "codemirror_mode": {
    "name": "ipython",
    "version": 3
   },
   "file_extension": ".py",
   "mimetype": "text/x-python",
   "name": "python",
   "nbconvert_exporter": "python",
   "pygments_lexer": "ipython3",
   "version": "3.7.1"
  }
 },
 "nbformat": 4,
 "nbformat_minor": 2
}
