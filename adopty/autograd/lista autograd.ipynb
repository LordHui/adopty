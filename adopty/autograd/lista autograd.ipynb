{
 "cells": [
  {
   "cell_type": "code",
   "execution_count": 1,
   "metadata": {},
   "outputs": [],
   "source": [
    "from autograd import grad\n",
    "import autograd.numpy as np\n",
    "import matplotlib.pyplot as plt\n",
    "from lista import LISTA, lasso_loss, logreg_loss\n",
    "from scipy.linalg import hadamard"
   ]
  },
  {
   "cell_type": "code",
   "execution_count": 2,
   "metadata": {},
   "outputs": [
    {
     "name": "stdout",
     "output_type": "stream",
     "text": [
      "(10, 1000)\n"
     ]
    }
   ],
   "source": [
    "n_samples = 1000\n",
    "n_test = 100\n",
    "n = 10\n",
    "p = 8\n",
    "model = 'logreg'\n",
    "\n",
    "loss = {'lasso': lasso_loss, 'logreg': logreg_loss}[model]\n",
    "\n",
    "H = hadamard(p) / np.sqrt(p)\n",
    "#S = p / np.arange(1, p + 1)\n",
    "#S **= 2\n",
    "S = np.ones(p)\n",
    "K = np.dot(H, S[:, None] * H.T)\n",
    "\n",
    "z_true = np.random.randn(p, n_samples)\n",
    "D = np.random.randn(n, p).dot(K)\n",
    "D /= np.linalg.norm(D, axis=0, keepdims=True)\n",
    "\n",
    "sigma = 0.1\n",
    "eps = np.random.randn(n, n_samples)\n",
    "\n",
    "z_test = np.random.randn(p, n_test)\n",
    "eps_test = np.random.randn(n, n_test)\n",
    "X = np.dot(D, z_true) + eps\n",
    "X_test = np.dot(D, z_test) + eps_test\n",
    "if model == 'logreg':\n",
    "    X = 2 * (X > 0) - 1\n",
    "    X_test = 2 * (X_test > 0) - 1\n",
    "lbda_max = np.max(np.abs(D.T.dot(X)))\n",
    "lbda = lbda_max * 0.1\n",
    "print(X.shape)"
   ]
  },
  {
   "cell_type": "code",
   "execution_count": 3,
   "metadata": {
    "scrolled": false
   },
   "outputs": [
    {
     "name": "stdout",
     "output_type": "stream",
     "text": [
      "6.931471805599452\n",
      "5.349208015822353\n"
     ]
    }
   ],
   "source": [
    "ista = LISTA(D, lbda, 1000, model=model)\n",
    "print(loss(np.zeros((p, n_samples)), X, D, lbda))\n",
    "f_star = loss(ista.transform(X), X, D, lbda)\n",
    "print(f_star)"
   ]
  },
  {
   "cell_type": "code",
   "execution_count": 4,
   "metadata": {
    "scrolled": true
   },
   "outputs": [
    {
     "data": {
      "text/plain": [
       "5.359089638596476"
      ]
     },
     "execution_count": 4,
     "metadata": {},
     "output_type": "execute_result"
    }
   ],
   "source": [
    "n_layers = 10\n",
    "lista = LISTA(D, lbda, n_layers, model=model, l_star=f_star)\n",
    "loss(lista.transform(X), X, D, lbda)"
   ]
  },
  {
   "cell_type": "code",
   "execution_count": 5,
   "metadata": {
    "scrolled": true
   },
   "outputs": [
    {
     "name": "stdout",
     "output_type": "stream",
     "text": [
      "it 0, loss = 9.88e-03, grad = 2.79e-02\n",
      "it 100, loss = 7.28e-03, grad = 8.88e-03\n",
      "it 200, loss = 6.96e-03, grad = 6.63e-03\n",
      "it 300, loss = 6.88e-03, grad = 6.37e-03\n",
      "it 400, loss = 6.85e-03, grad = 6.42e-03\n",
      "it 500, loss = 6.84e-03, grad = 6.37e-03\n",
      "it 600, loss = 6.83e-03, grad = 6.39e-03\n",
      "it 700, loss = 6.83e-03, grad = 6.37e-03\n",
      "it 800, loss = 6.83e-03, grad = 6.39e-03\n",
      "it 900, loss = 6.83e-03, grad = 6.39e-03\n"
     ]
    },
    {
     "data": {
      "text/plain": [
       "<lista.LISTA at 0x7f9dae9624a8>"
      ]
     },
     "execution_count": 5,
     "metadata": {},
     "output_type": "execute_result"
    }
   ],
   "source": [
    "lista.fit(X, l_rate=1e-1, max_iter=1000, batch_size=1000, verbose=True)"
   ]
  },
  {
   "cell_type": "code",
   "execution_count": 6,
   "metadata": {
    "scrolled": true
   },
   "outputs": [
    {
     "name": "stdout",
     "output_type": "stream",
     "text": [
      "it 0, loss = 5.78e+00, grad = 1.71e-01\n",
      "it 100, loss = 5.75e+00, grad = 1.60e-01\n",
      "it 200, loss = 5.73e+00, grad = 1.49e-01\n",
      "it 300, loss = 5.70e+00, grad = 1.40e-01\n",
      "it 400, loss = 5.69e+00, grad = 1.31e-01\n",
      "it 500, loss = 5.67e+00, grad = 1.24e-01\n",
      "it 600, loss = 5.66e+00, grad = 1.17e-01\n",
      "it 700, loss = 5.64e+00, grad = 1.10e-01\n",
      "it 800, loss = 5.63e+00, grad = 1.04e-01\n",
      "it 900, loss = 5.62e+00, grad = 9.90e-02\n",
      "it 1000, loss = 5.61e+00, grad = 9.41e-02\n",
      "it 1100, loss = 5.60e+00, grad = 8.96e-02\n",
      "it 1200, loss = 5.60e+00, grad = 8.53e-02\n",
      "it 1300, loss = 5.59e+00, grad = 8.15e-02\n",
      "it 1400, loss = 5.58e+00, grad = 7.78e-02\n",
      "it 1500, loss = 5.58e+00, grad = 7.44e-02\n",
      "it 1600, loss = 5.57e+00, grad = 7.14e-02\n",
      "it 1700, loss = 5.57e+00, grad = 6.83e-02\n",
      "it 1800, loss = 5.56e+00, grad = 6.56e-02\n",
      "it 1900, loss = 5.56e+00, grad = 6.31e-02\n",
      "it 2000, loss = 5.55e+00, grad = 6.07e-02\n",
      "it 2100, loss = 5.55e+00, grad = 5.80e-02\n",
      "it 2200, loss = 5.55e+00, grad = 5.54e-02\n",
      "it 2300, loss = 5.54e+00, grad = 5.33e-02\n",
      "it 2400, loss = 5.54e+00, grad = 5.14e-02\n",
      "it 2500, loss = 5.54e+00, grad = 4.96e-02\n",
      "it 2600, loss = 5.54e+00, grad = 4.78e-02\n",
      "it 2700, loss = 5.53e+00, grad = 4.63e-02\n",
      "it 2800, loss = 5.53e+00, grad = 4.47e-02\n",
      "it 2900, loss = 5.53e+00, grad = 4.31e-02\n",
      "it 3000, loss = 5.53e+00, grad = 4.16e-02\n",
      "it 3100, loss = 5.53e+00, grad = 4.02e-02\n",
      "it 3200, loss = 5.52e+00, grad = 3.88e-02\n",
      "it 3300, loss = 5.52e+00, grad = 3.75e-02\n",
      "it 3400, loss = 5.52e+00, grad = 3.63e-02\n",
      "it 3500, loss = 5.52e+00, grad = 3.54e-02\n",
      "it 3600, loss = 5.52e+00, grad = 3.42e-02\n",
      "it 3700, loss = 5.52e+00, grad = 3.31e-02\n",
      "it 3800, loss = 5.52e+00, grad = 3.18e-02\n",
      "it 3900, loss = 5.52e+00, grad = 3.07e-02\n",
      "it 4000, loss = 5.52e+00, grad = 2.99e-02\n",
      "it 4100, loss = 5.51e+00, grad = 2.91e-02\n",
      "it 4200, loss = 5.51e+00, grad = 2.82e-02\n",
      "it 4300, loss = 5.51e+00, grad = 2.76e-02\n",
      "it 4400, loss = 5.51e+00, grad = 2.69e-02\n",
      "it 4500, loss = 5.51e+00, grad = 2.61e-02\n",
      "it 4600, loss = 5.51e+00, grad = 2.55e-02\n",
      "it 4700, loss = 5.51e+00, grad = 2.49e-02\n",
      "it 4800, loss = 5.51e+00, grad = 2.43e-02\n",
      "it 4900, loss = 5.51e+00, grad = 2.37e-02\n",
      "it 5000, loss = 5.51e+00, grad = 2.32e-02\n",
      "it 5100, loss = 5.51e+00, grad = 2.26e-02\n",
      "it 5200, loss = 5.51e+00, grad = 2.20e-02\n",
      "it 5300, loss = 5.51e+00, grad = 2.15e-02\n",
      "it 5400, loss = 5.51e+00, grad = 2.11e-02\n",
      "it 5500, loss = 5.51e+00, grad = 2.06e-02\n",
      "it 5600, loss = 5.51e+00, grad = 2.00e-02\n",
      "it 5700, loss = 5.51e+00, grad = 1.94e-02\n",
      "it 5800, loss = 5.51e+00, grad = 1.91e-02\n",
      "it 5900, loss = 5.50e+00, grad = 1.84e-02\n",
      "it 6000, loss = 5.50e+00, grad = 1.78e-02\n",
      "it 6100, loss = 5.50e+00, grad = 1.73e-02\n",
      "it 6200, loss = 5.50e+00, grad = 1.69e-02\n",
      "it 6300, loss = 5.50e+00, grad = 1.65e-02\n",
      "it 6400, loss = 5.50e+00, grad = 1.61e-02\n",
      "it 6500, loss = 5.50e+00, grad = 1.57e-02\n",
      "it 6600, loss = 5.50e+00, grad = 1.53e-02\n",
      "it 6700, loss = 5.50e+00, grad = 1.48e-02\n",
      "it 6800, loss = 5.50e+00, grad = 1.45e-02\n",
      "it 6900, loss = 5.50e+00, grad = 1.42e-02\n",
      "it 7000, loss = 5.50e+00, grad = 1.38e-02\n",
      "it 7100, loss = 5.50e+00, grad = 1.33e-02\n",
      "it 7200, loss = 5.50e+00, grad = 1.30e-02\n",
      "it 7300, loss = 5.50e+00, grad = 1.27e-02\n",
      "it 7400, loss = 5.50e+00, grad = 1.25e-02\n",
      "it 7500, loss = 5.50e+00, grad = 1.22e-02\n",
      "it 7600, loss = 5.50e+00, grad = 1.21e-02\n",
      "it 7700, loss = 5.50e+00, grad = 1.18e-02\n",
      "it 7800, loss = 5.50e+00, grad = 1.15e-02\n",
      "it 7900, loss = 5.50e+00, grad = 1.12e-02\n",
      "it 8000, loss = 5.50e+00, grad = 1.10e-02\n",
      "it 8100, loss = 5.50e+00, grad = 1.06e-02\n",
      "it 8200, loss = 5.50e+00, grad = 1.04e-02\n",
      "it 8300, loss = 5.50e+00, grad = 1.02e-02\n",
      "it 8400, loss = 5.50e+00, grad = 1.00e-02\n",
      "it 8500, loss = 5.50e+00, grad = 1.00e-02\n",
      "it 8600, loss = 5.50e+00, grad = 9.74e-03\n",
      "it 8700, loss = 5.50e+00, grad = 9.55e-03\n",
      "it 8800, loss = 5.50e+00, grad = 9.30e-03\n",
      "it 8900, loss = 5.50e+00, grad = 9.25e-03\n",
      "it 9000, loss = 5.50e+00, grad = 9.04e-03\n",
      "it 9100, loss = 5.50e+00, grad = 8.87e-03\n",
      "it 9200, loss = 5.50e+00, grad = 8.85e-03\n",
      "it 9300, loss = 5.50e+00, grad = 8.58e-03\n",
      "it 9400, loss = 5.50e+00, grad = 8.41e-03\n",
      "it 9500, loss = 5.50e+00, grad = 8.27e-03\n",
      "it 9600, loss = 5.50e+00, grad = 8.04e-03\n",
      "it 9700, loss = 5.50e+00, grad = 7.88e-03\n",
      "it 9800, loss = 5.50e+00, grad = 7.80e-03\n",
      "it 9900, loss = 5.50e+00, grad = 7.60e-03\n"
     ]
    },
    {
     "data": {
      "text/plain": [
       "<lista.LISTA at 0x7f9dae907b38>"
      ]
     },
     "execution_count": 6,
     "metadata": {},
     "output_type": "execute_result"
    }
   ],
   "source": [
    "lista_one = LISTA(D, lbda, 1, model=model)\n",
    "lista_one.fit(X, l_rate=1e-2, max_iter=10000, batch_size=1000, verbose=True)"
   ]
  },
  {
   "cell_type": "code",
   "execution_count": 7,
   "metadata": {
    "scrolled": true
   },
   "outputs": [],
   "source": [
    "f_star = loss(LISTA(D, lbda, 1000, model=model).transform(X_test), X_test, D, lbda)\n",
    "f0 = loss(np.zeros_like(z_test), X_test, D, lbda)"
   ]
  },
  {
   "cell_type": "code",
   "execution_count": 10,
   "metadata": {
    "scrolled": true
   },
   "outputs": [
    {
     "name": "stdout",
     "output_type": "stream",
     "text": [
      "Avg test loss using ISTA with 10 iterations: 6.88e-03\n"
     ]
    }
   ],
   "source": [
    "ista = LISTA(D, lbda, n_layers, model=model)\n",
    "print('Avg test loss using ISTA with %d iterations: %.2e' %\n",
    "      (n_layers, (loss(ista.transform(X_test), X_test, D, lbda) - f_star) / (f0 - f_star)))"
   ]
  },
  {
   "cell_type": "code",
   "execution_count": 11,
   "metadata": {},
   "outputs": [
    {
     "name": "stdout",
     "output_type": "stream",
     "text": [
      "Avg test loss using LISTA with 10 layers: 5.11e-03\n"
     ]
    }
   ],
   "source": [
    "print('Avg test loss using LISTA with %d layers: %.2e' %\n",
    "      (n_layers, (loss(lista.transform(X_test), X_test, D, lbda) - f_star) / (f0 - f_star)))"
   ]
  },
  {
   "cell_type": "code",
   "execution_count": null,
   "metadata": {},
   "outputs": [],
   "source": []
  }
 ],
 "metadata": {
  "kernelspec": {
   "display_name": "Python 3",
   "language": "python",
   "name": "python3"
  },
  "language_info": {
   "codemirror_mode": {
    "name": "ipython",
    "version": 3
   },
   "file_extension": ".py",
   "mimetype": "text/x-python",
   "name": "python",
   "nbconvert_exporter": "python",
   "pygments_lexer": "ipython3",
   "version": "3.7.1"
  }
 },
 "nbformat": 4,
 "nbformat_minor": 2
}
