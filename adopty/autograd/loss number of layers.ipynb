{
 "cells": [
  {
   "cell_type": "code",
   "execution_count": 17,
   "metadata": {},
   "outputs": [],
   "source": [
    "from autograd import grad\n",
    "import autograd.numpy as np\n",
    "import matplotlib.pyplot as plt\n",
    "from lista import LISTA, make_loss\n",
    "from functions import *\n",
    "from copy import deepcopy"
   ]
  },
  {
   "cell_type": "code",
   "execution_count": 21,
   "metadata": {},
   "outputs": [
    {
     "name": "stdout",
     "output_type": "stream",
     "text": [
      "lambda = 5.18e-02\n"
     ]
    }
   ],
   "source": [
    "layers = np.logspace(0, 2, 4, dtype=int)\n",
    "\n",
    "rng = np.random.RandomState(0)\n",
    "n_samples = 1000\n",
    "n_test = 100\n",
    "k = 10\n",
    "p = 3\n",
    "K = np.eye(p)\n",
    "fit_loss = 'logreg'\n",
    "reg = 'l1'\n",
    "\n",
    "\n",
    "\n",
    "fit_function, der_function = {\n",
    "                              'l2': (l2_fit, l2_der),\n",
    "                              'logreg': (logreg_fit, logreg_der)\n",
    "                              }[fit_loss]\n",
    "reg_function, prox = {\n",
    "                      'l2': (l2_pen, l2_prox),\n",
    "                      'l1': (l1_pen, l1_prox),\n",
    "                      None: (no_pen, no_prox)\n",
    "                      }[reg]\n",
    "loss = make_loss(fit_function, reg_function)\n",
    "\n",
    "z_true = rng.randn(p, n_samples)\n",
    "D = rng.randn(k, p).dot(K)\n",
    "D /= np.linalg.norm(D, axis=0, keepdims=True)\n",
    "\n",
    "sigma = 0.1\n",
    "eps = rng.randn(k, n_samples)\n",
    "\n",
    "z_test = rng.randn(p, n_test)\n",
    "eps_test = rng.randn(k, n_test)\n",
    "X = np.dot(D, z_true) + eps\n",
    "X_test = np.dot(D, z_test) + eps_test\n",
    "if fit_loss == 'logreg':\n",
    "    X = 2 * (X > 0) - 1\n",
    "    X_test = 2 * (X_test > 0) - 1\n",
    "lbda_max = np.max(np.abs(np.dot(D.T, X)))\n",
    "lbda = 0.02 * lbda_max\n",
    "print('lambda = %.2e' % lbda)"
   ]
  },
  {
   "cell_type": "code",
   "execution_count": 37,
   "metadata": {
    "scrolled": false
   },
   "outputs": [
    {
     "name": "stdout",
     "output_type": "stream",
     "text": [
      "it 0, loss = 5.471e+00, grad_W = 1.89e-01, grad_l = 4.07e-01\n",
      "it 100, loss = 5.326e+00, grad_W = 1.53e-01, grad_l = 3.22e-01\n",
      "it 200, loss = 5.228e+00, grad_W = 1.27e-01, grad_l = 2.59e-01\n",
      "it 300, loss = 5.160e+00, grad_W = 1.07e-01, grad_l = 2.10e-01\n",
      "it 400, loss = 5.111e+00, grad_W = 9.11e-02, grad_l = 1.71e-01\n",
      "it 500, loss = 5.075e+00, grad_W = 7.88e-02, grad_l = 1.40e-01\n",
      "it 600, loss = 5.048e+00, grad_W = 6.85e-02, grad_l = 1.13e-01\n",
      "it 700, loss = 5.027e+00, grad_W = 6.01e-02, grad_l = 9.02e-02\n",
      "it 800, loss = 5.011e+00, grad_W = 5.31e-02, grad_l = 7.25e-02\n",
      "it 900, loss = 4.999e+00, grad_W = 4.71e-02, grad_l = 5.60e-02\n",
      "it 1000, loss = 4.989e+00, grad_W = 4.19e-02, grad_l = 4.21e-02\n",
      "it 1100, loss = 4.981e+00, grad_W = 3.75e-02, grad_l = 3.03e-02\n",
      "it 1200, loss = 4.975e+00, grad_W = 3.36e-02, grad_l = 1.99e-02\n",
      "it 1300, loss = 4.970e+00, grad_W = 3.03e-02, grad_l = 9.87e-03\n",
      "it 1400, loss = 4.965e+00, grad_W = 2.74e-02, grad_l = 1.39e-03\n",
      "it 1500, loss = 4.962e+00, grad_W = 2.48e-02, grad_l = 6.19e-03\n",
      "it 1600, loss = 4.959e+00, grad_W = 2.25e-02, grad_l = 1.28e-02\n",
      "it 1700, loss = 4.957e+00, grad_W = 2.04e-02, grad_l = 1.88e-02\n",
      "it 1800, loss = 4.955e+00, grad_W = 1.86e-02, grad_l = 2.40e-02\n",
      "it 1900, loss = 4.953e+00, grad_W = 1.69e-02, grad_l = 2.94e-02\n",
      "it 2000, loss = 4.952e+00, grad_W = 1.54e-02, grad_l = 3.37e-02\n",
      "it 2100, loss = 4.951e+00, grad_W = 1.41e-02, grad_l = 3.75e-02\n",
      "it 2200, loss = 4.950e+00, grad_W = 1.29e-02, grad_l = 4.12e-02\n",
      "it 2300, loss = 4.949e+00, grad_W = 1.18e-02, grad_l = 4.45e-02\n",
      "it 2400, loss = 4.949e+00, grad_W = 1.09e-02, grad_l = 4.70e-02\n",
      "it 2500, loss = 4.948e+00, grad_W = 9.96e-03, grad_l = 4.96e-02\n",
      "it 2600, loss = 4.948e+00, grad_W = 9.13e-03, grad_l = 5.19e-02\n",
      "it 2700, loss = 4.947e+00, grad_W = 8.38e-03, grad_l = 5.39e-02\n",
      "it 2800, loss = 4.947e+00, grad_W = 7.71e-03, grad_l = 5.59e-02\n",
      "it 2900, loss = 4.947e+00, grad_W = 7.09e-03, grad_l = 5.77e-02\n",
      "it 3000, loss = 4.947e+00, grad_W = 6.53e-03, grad_l = 5.94e-02\n",
      "it 3100, loss = 4.946e+00, grad_W = 6.01e-03, grad_l = 6.09e-02\n",
      "it 3200, loss = 4.946e+00, grad_W = 5.53e-03, grad_l = 6.23e-02\n",
      "it 3300, loss = 4.946e+00, grad_W = 5.10e-03, grad_l = 6.36e-02\n",
      "it 3400, loss = 4.946e+00, grad_W = 4.70e-03, grad_l = 6.47e-02\n",
      "it 3500, loss = 4.946e+00, grad_W = 4.34e-03, grad_l = 6.58e-02\n",
      "it 3600, loss = 4.946e+00, grad_W = 4.00e-03, grad_l = 6.68e-02\n",
      "it 3700, loss = 4.946e+00, grad_W = 3.69e-03, grad_l = 6.77e-02\n",
      "it 3800, loss = 4.946e+00, grad_W = 3.41e-03, grad_l = 6.85e-02\n",
      "it 3900, loss = 4.945e+00, grad_W = 3.15e-03, grad_l = 6.93e-02\n",
      "it 4000, loss = 4.945e+00, grad_W = 2.90e-03, grad_l = 6.99e-02\n",
      "it 4100, loss = 4.945e+00, grad_W = 2.68e-03, grad_l = 7.05e-02\n",
      "it 4200, loss = 4.945e+00, grad_W = 2.48e-03, grad_l = 7.11e-02\n",
      "it 4300, loss = 4.945e+00, grad_W = 2.29e-03, grad_l = 7.16e-02\n",
      "it 4400, loss = 4.945e+00, grad_W = 2.12e-03, grad_l = 7.21e-02\n",
      "it 4500, loss = 4.945e+00, grad_W = 1.95e-03, grad_l = 7.26e-02\n",
      "it 4600, loss = 4.945e+00, grad_W = 1.81e-03, grad_l = 7.30e-02\n",
      "it 4700, loss = 4.945e+00, grad_W = 1.67e-03, grad_l = 7.34e-02\n",
      "it 4800, loss = 4.945e+00, grad_W = 1.54e-03, grad_l = 7.38e-02\n",
      "it 4900, loss = 4.945e+00, grad_W = 1.43e-03, grad_l = 7.41e-02\n",
      "it 5000, loss = 4.945e+00, grad_W = 1.32e-03, grad_l = 7.44e-02\n",
      "it 5100, loss = 4.945e+00, grad_W = 1.22e-03, grad_l = 7.47e-02\n",
      "it 5200, loss = 4.945e+00, grad_W = 1.13e-03, grad_l = 7.50e-02\n",
      "it 5300, loss = 4.945e+00, grad_W = 1.05e-03, grad_l = 7.52e-02\n",
      "it 5400, loss = 4.945e+00, grad_W = 9.68e-04, grad_l = 7.54e-02\n",
      "it 5500, loss = 4.945e+00, grad_W = 8.95e-04, grad_l = 7.56e-02\n",
      "it 5600, loss = 4.945e+00, grad_W = 8.29e-04, grad_l = 7.58e-02\n",
      "it 5700, loss = 4.945e+00, grad_W = 7.67e-04, grad_l = 7.60e-02\n",
      "it 5800, loss = 4.945e+00, grad_W = 7.10e-04, grad_l = 7.62e-02\n",
      "it 5900, loss = 4.945e+00, grad_W = 6.57e-04, grad_l = 7.63e-02\n",
      "it 6000, loss = 4.945e+00, grad_W = 6.08e-04, grad_l = 7.65e-02\n",
      "it 6100, loss = 4.945e+00, grad_W = 5.63e-04, grad_l = 7.66e-02\n",
      "it 6200, loss = 4.945e+00, grad_W = 5.21e-04, grad_l = 7.67e-02\n",
      "it 6300, loss = 4.945e+00, grad_W = 4.88e-04, grad_l = 7.69e-02\n",
      "it 6400, loss = 4.945e+00, grad_W = 4.95e-04, grad_l = 7.69e-02\n",
      "it 6500, loss = 4.945e+00, grad_W = 4.53e-04, grad_l = 7.69e-02\n",
      "it 6600, loss = 4.945e+00, grad_W = 4.16e-04, grad_l = 7.70e-02\n",
      "it 6700, loss = 4.945e+00, grad_W = 3.82e-04, grad_l = 7.71e-02\n",
      "it 6800, loss = 4.945e+00, grad_W = 3.52e-04, grad_l = 7.72e-02\n",
      "it 6900, loss = 4.945e+00, grad_W = 3.54e-04, grad_l = 7.74e-02\n",
      "it 7000, loss = 4.945e+00, grad_W = 3.00e-04, grad_l = 7.73e-02\n",
      "it 7100, loss = 4.945e+00, grad_W = 2.78e-04, grad_l = 7.74e-02\n",
      "it 7200, loss = 4.945e+00, grad_W = 2.57e-04, grad_l = 7.74e-02\n",
      "it 7300, loss = 4.945e+00, grad_W = 2.38e-04, grad_l = 7.75e-02\n",
      "it 7400, loss = 4.945e+00, grad_W = 2.21e-04, grad_l = 7.75e-02\n",
      "it 7500, loss = 4.945e+00, grad_W = 2.05e-04, grad_l = 7.76e-02\n",
      "it 7600, loss = 4.945e+00, grad_W = 1.91e-04, grad_l = 7.76e-02\n",
      "it 7700, loss = 4.945e+00, grad_W = 1.78e-04, grad_l = 7.77e-02\n",
      "it 7800, loss = 4.945e+00, grad_W = 1.66e-04, grad_l = 7.77e-02\n",
      "it 7900, loss = 4.945e+00, grad_W = 1.55e-04, grad_l = 7.77e-02\n",
      "it 8000, loss = 4.945e+00, grad_W = 1.45e-04, grad_l = 7.77e-02\n",
      "it 8100, loss = 4.945e+00, grad_W = 1.36e-04, grad_l = 7.78e-02\n",
      "it 8200, loss = 4.945e+00, grad_W = 1.76e-04, grad_l = 7.79e-02\n",
      "it 8300, loss = 4.945e+00, grad_W = 1.20e-04, grad_l = 7.78e-02\n",
      "it 8400, loss = 4.945e+00, grad_W = 1.13e-04, grad_l = 7.78e-02\n",
      "it 8500, loss = 4.945e+00, grad_W = 1.07e-04, grad_l = 7.79e-02\n",
      "it 8600, loss = 4.945e+00, grad_W = 1.57e-04, grad_l = 7.80e-02\n",
      "it 8700, loss = 4.945e+00, grad_W = 1.53e-04, grad_l = 7.80e-02\n",
      "it 8800, loss = 4.945e+00, grad_W = 9.20e-05, grad_l = 7.79e-02\n",
      "it 8900, loss = 4.945e+00, grad_W = 8.79e-05, grad_l = 7.79e-02\n",
      "it 9000, loss = 4.945e+00, grad_W = 1.45e-04, grad_l = 7.81e-02\n",
      "it 9100, loss = 4.945e+00, grad_W = 8.12e-05, grad_l = 7.80e-02\n",
      "it 9200, loss = 4.945e+00, grad_W = 7.85e-05, grad_l = 7.80e-02\n",
      "it 9300, loss = 4.945e+00, grad_W = 7.61e-05, grad_l = 7.80e-02\n",
      "it 9400, loss = 4.945e+00, grad_W = 7.40e-05, grad_l = 7.80e-02\n",
      "it 9500, loss = 4.945e+00, grad_W = 7.21e-05, grad_l = 7.80e-02\n",
      "it 9600, loss = 4.945e+00, grad_W = 7.04e-05, grad_l = 7.80e-02\n",
      "it 9700, loss = 4.945e+00, grad_W = 6.90e-05, grad_l = 7.80e-02\n",
      "it 9800, loss = 4.945e+00, grad_W = 6.77e-05, grad_l = 7.80e-02\n",
      "it 9900, loss = 4.945e+00, grad_W = 6.67e-05, grad_l = 7.80e-02\n"
     ]
    }
   ],
   "source": [
    "ista_init = LISTA(D, lbda, 1, fit_loss, reg, variables='both')\n",
    "ista_init.fit(X, l_rate=0.05, max_iter=10000, verbose=True)\n",
    "init_weights = ista_init.weights"
   ]
  },
  {
   "cell_type": "code",
   "execution_count": 23,
   "metadata": {},
   "outputs": [
    {
     "name": "stdout",
     "output_type": "stream",
     "text": [
      "1.8642965393608472e-13\n",
      "4.79007469232414\n"
     ]
    }
   ],
   "source": [
    "ista = LISTA(D, lbda, 20000, fit_loss, reg)\n",
    "ista.L /= k\n",
    "L = ista.L\n",
    "z_hat = ista.transform(X)\n",
    "f_min = loss(z_hat, X, D, lbda)\n",
    "\n",
    "print(np.linalg.norm(z_hat - prox(z_hat - np.dot(D.T / L, der_function(np.dot(D, z_hat), X)), lbda / L)))\n",
    "print(f_min)"
   ]
  },
  {
   "cell_type": "code",
   "execution_count": 33,
   "metadata": {
    "scrolled": false
   },
   "outputs": [
    {
     "name": "stdout",
     "output_type": "stream",
     "text": [
      "1 layers\n",
      "Gain = 171 percent\n",
      "4 layers\n",
      "Gain = 211 percent\n",
      "21 layers\n",
      "Gain = 428 percent\n",
      "100 layers\n",
      "Gain = 1447 percent\n"
     ]
    }
   ],
   "source": [
    "L_LIST = {}\n",
    "for variables in ['both']:\n",
    "    loss_list = {'ista': [], 'lista': []}\n",
    "    for j, n_layers in enumerate(layers):\n",
    "        print('%d layers' % n_layers)\n",
    "        lista = LISTA(D, lbda, n_layers, fit_loss, reg, variables=variables, learn_levels=True)\n",
    "        lista.weights[:2] = init_weights\n",
    "        loss_ista = lista.compute_loss(X)\n",
    "        loss_list['ista'].append(loss_ista)\n",
    "        # smart init\n",
    "        if j > 0:\n",
    "            lista.weights[:len(old_weights)] = old_weights\n",
    "            lista.levels[:len(old_levels)] = old_levels\n",
    "        lista.fit(X, l_rate=0.05, max_iter=10000)\n",
    "        loss_lista = lista.compute_loss(X)\n",
    "        loss_list['lista'].append(loss_lista)\n",
    "        print('Gain = %d percent' % (100 * (loss_ista - f_min) / (loss_lista - f_min)))\n",
    "        old_weights = deepcopy(lista.weights)\n",
    "        old_levels = deepcopy(lista.levels)\n",
    "    L_LIST[variables] = loss_list"
   ]
  },
  {
   "cell_type": "code",
   "execution_count": 34,
   "metadata": {},
   "outputs": [
    {
     "data": {
      "text/plain": [
       "array([0.85482753, 0.34126705, 0.42763407, 0.17481859, 0.18002262,\n",
       "       0.19431629, 0.20971667, 0.22661315, 0.24420568, 0.26243837,\n",
       "       0.28082626, 0.29823179, 0.31323591, 0.32330484, 0.32454402,\n",
       "       0.31129817, 0.27444506, 0.20118897, 0.13604201, 0.09945721,\n",
       "       0.1408127 , 0.13800018, 0.13801054, 0.13803835, 0.13807775,\n",
       "       0.13812077, 0.13816896, 0.13821416, 0.13827419, 0.13833939,\n",
       "       0.1384057 , 0.13847333, 0.13854664, 0.13862582, 0.13871103,\n",
       "       0.13880247, 0.13890028, 0.13900468, 0.13911585, 0.13923405,\n",
       "       0.13935924, 0.13949157, 0.13963117, 0.13977859, 0.13993358,\n",
       "       0.14009626, 0.1402667 , 0.14044496, 0.1406311 , 0.14082523,\n",
       "       0.14102745, 0.14123777, 0.14145618, 0.14168268, 0.1419173 ,\n",
       "       0.14215995, 0.14241047, 0.14266866, 0.1429343 , 0.14320704,\n",
       "       0.14348654, 0.14377236, 0.1440644 , 0.14436314, 0.1446679 ,\n",
       "       0.14497629, 0.14528721, 0.14559935, 0.14591119, 0.14622098,\n",
       "       0.14652667, 0.14682587, 0.14711586, 0.14739347, 0.14765507,\n",
       "       0.14789651, 0.148113  , 0.14829907, 0.14844885, 0.14855569,\n",
       "       0.14861201, 0.14860945, 0.1485389 , 0.14839057, 0.14815405,\n",
       "       0.14781854, 0.1473733 , 0.14680902, 0.14611751, 0.14529778,\n",
       "       0.14434764, 0.14328242, 0.14213527, 0.14096982, 0.13989561,\n",
       "       0.13911023, 0.13898349, 0.14017579, 0.14373842, 0.144333  ])"
      ]
     },
     "execution_count": 34,
     "metadata": {},
     "output_type": "execute_result"
    }
   ],
   "source": [
    "lista.levels"
   ]
  },
  {
   "cell_type": "code",
   "execution_count": 35,
   "metadata": {
    "scrolled": true
   },
   "outputs": [
    {
     "data": {
      "image/png": "[encoded data removed]",
      "text/plain": [
       "<Figure size 360x288 with 1 Axes>"
      ]
     },
     "metadata": {
      "needs_background": "light"
     },
     "output_type": "display_data"
    }
   ],
   "source": [
    "plt.figure(figsize=(5, 4))\n",
    "title = ' %s data fit + %s reg, k=%d, p=%d' % (fit_loss, reg, k, p)\n",
    "plt.title(title)\n",
    "plt.plot(layers, np.array(loss_list['ista']) - f_min, label='Proximal gradient descent with good init')\n",
    "plt.plot(layers, np.array(L_LIST['both']['lista']) - f_min, label='Learned P.G.D.')\n",
    "plt.xlabel('Number of layers / iterations')\n",
    "plt.ylabel('f - f_min')\n",
    "plt.legend()\n",
    "plt.yscale('log')\n",
    "plt.xscale('log')\n",
    "plt.savefig(title + '.pdf')\n",
    "plt.show()"
   ]
  },
  {
   "cell_type": "code",
   "execution_count": null,
   "metadata": {},
   "outputs": [],
   "source": []
  }
 ],
 "metadata": {
  "kernelspec": {
   "display_name": "Python 3",
   "language": "python",
   "name": "python3"
  },
  "language_info": {
   "codemirror_mode": {
    "name": "ipython",
    "version": 3
   },
   "file_extension": ".py",
   "mimetype": "text/x-python",
   "name": "python",
   "nbconvert_exporter": "python",
   "pygments_lexer": "ipython3",
   "version": "3.7.1"
  }
 },
 "nbformat": 4,
 "nbformat_minor": 2
}
