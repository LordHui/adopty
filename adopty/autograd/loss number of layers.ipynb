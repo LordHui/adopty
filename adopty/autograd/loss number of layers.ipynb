{
 "cells": [
  {
   "cell_type": "code",
   "execution_count": 3,
   "metadata": {},
   "outputs": [],
   "source": [
    "from autograd import grad\n",
    "import autograd.numpy as np\n",
    "import matplotlib.pyplot as plt\n",
    "from lista import LISTA, make_loss\n",
    "from functions import *\n",
    "from copy import deepcopy"
   ]
  },
  {
   "cell_type": "code",
   "execution_count": 4,
   "metadata": {},
   "outputs": [
    {
     "name": "stdout",
     "output_type": "stream",
     "text": [
      "lambda = 7.06e-01\n"
     ]
    }
   ],
   "source": [
    "layers = np.linspace(1, 9, 5, dtype=int)\n",
    "\n",
    "rng = np.random.RandomState(0)\n",
    "n_samples = 1000\n",
    "n_test = 1000\n",
    "k = 100\n",
    "p = 8\n",
    "K = np.random.randn(p, p)\n",
    "fit_loss = 'l2'\n",
    "reg = None\n",
    "architecture = 'sag'\n",
    "\n",
    "\n",
    "\n",
    "fit_function, der_function = {\n",
    "                              'l2': (l2_fit, l2_der),\n",
    "                              'logreg': (logreg_fit, logreg_der)\n",
    "                              }[fit_loss]\n",
    "reg_function, prox = {\n",
    "                      'l2': (l2_pen, l2_prox),\n",
    "                      'l1': (l1_pen, l1_prox),\n",
    "                      None: (no_pen, no_prox)\n",
    "                      }[reg]\n",
    "loss = make_loss(fit_function, reg_function)\n",
    "\n",
    "z_true = rng.randn(p, n_samples)\n",
    "D = rng.randn(k, p).dot(K)\n",
    "D /= np.linalg.norm(D, axis=0, keepdims=True)\n",
    "\n",
    "sigma = 0.1\n",
    "eps = rng.randn(k, n_samples)\n",
    "\n",
    "z_test = rng.randn(p, n_test)\n",
    "eps_test = rng.randn(k, n_test)\n",
    "X = np.dot(D, z_true) + eps\n",
    "X_test = np.dot(D, z_test) + eps_test\n",
    "if fit_loss == 'logreg':\n",
    "    X = 2 * (X > 0) - 1\n",
    "    X_test = 2 * (X_test > 0) - 1\n",
    "lbda_max = np.max(np.abs(np.dot(D.T, X)))\n",
    "lbda = 0.1 * lbda_max\n",
    "print('lambda = %.2e' % lbda)"
   ]
  },
  {
   "cell_type": "code",
   "execution_count": 5,
   "metadata": {
    "scrolled": false
   },
   "outputs": [
    {
     "name": "stdout",
     "output_type": "stream",
     "text": [
      "46.27866679327273\n"
     ]
    }
   ],
   "source": [
    "z = LISTA(D, lbda, 6, fit_loss, reg, variables='both', architecture='sag').compute_loss(X_test)\n",
    "print(z)"
   ]
  },
  {
   "cell_type": "code",
   "execution_count": 6,
   "metadata": {
    "scrolled": false
   },
   "outputs": [
    {
     "name": "stdout",
     "output_type": "stream",
     "text": [
      "it 0, loss = 4.850e+01, grad_W = 2.81e+00, grad_l = 0.00e+00, l_rate = 5.00e-02\n"
     ]
    },
    {
     "name": "stderr",
     "output_type": "stream",
     "text": [
      "/home/pierre/anaconda3/lib/python3.7/site-packages/autograd/tracer.py:48: RuntimeWarning: invalid value encountered in add\n",
      "  return f_raw(*args, **kwargs)\n"
     ]
    },
    {
     "name": "stdout",
     "output_type": "stream",
     "text": [
      "it 100, loss = nan, grad_W = nan, grad_l = 0.00e+00, l_rate = 5.00e-02\n"
     ]
    },
    {
     "ename": "KeyboardInterrupt",
     "evalue": "",
     "output_type": "error",
     "traceback": [
      "\u001b[0;31m---------------------------------------------------------------------------\u001b[0m",
      "\u001b[0;31mKeyboardInterrupt\u001b[0m                         Traceback (most recent call last)",
      "\u001b[0;32m<ipython-input-6-a601397e600e>\u001b[0m in \u001b[0;36m<module>\u001b[0;34m\u001b[0m\n\u001b[1;32m      1\u001b[0m \u001b[0mista_init\u001b[0m \u001b[0;34m=\u001b[0m \u001b[0mLISTA\u001b[0m\u001b[0;34m(\u001b[0m\u001b[0mD\u001b[0m\u001b[0;34m,\u001b[0m \u001b[0mlbda\u001b[0m\u001b[0;34m,\u001b[0m \u001b[0;36m1\u001b[0m\u001b[0;34m,\u001b[0m \u001b[0mfit_loss\u001b[0m\u001b[0;34m,\u001b[0m \u001b[0mreg\u001b[0m\u001b[0;34m,\u001b[0m \u001b[0mvariables\u001b[0m\u001b[0;34m=\u001b[0m\u001b[0;34m'both'\u001b[0m\u001b[0;34m,\u001b[0m \u001b[0marchitecture\u001b[0m\u001b[0;34m=\u001b[0m\u001b[0marchitecture\u001b[0m\u001b[0;34m)\u001b[0m\u001b[0;34m\u001b[0m\u001b[0;34m\u001b[0m\u001b[0m\n\u001b[0;32m----> 2\u001b[0;31m \u001b[0mista_init\u001b[0m\u001b[0;34m.\u001b[0m\u001b[0mfit\u001b[0m\u001b[0;34m(\u001b[0m\u001b[0mX\u001b[0m\u001b[0;34m,\u001b[0m \u001b[0ml_rate\u001b[0m\u001b[0;34m=\u001b[0m\u001b[0;36m0.05\u001b[0m\u001b[0;34m,\u001b[0m \u001b[0mmax_iter\u001b[0m\u001b[0;34m=\u001b[0m\u001b[0;36m3000\u001b[0m\u001b[0;34m,\u001b[0m \u001b[0mverbose\u001b[0m\u001b[0;34m=\u001b[0m\u001b[0;36m100\u001b[0m\u001b[0;34m)\u001b[0m\u001b[0;34m\u001b[0m\u001b[0;34m\u001b[0m\u001b[0m\n\u001b[0m\u001b[1;32m      3\u001b[0m \u001b[0minit_weights\u001b[0m \u001b[0;34m=\u001b[0m \u001b[0mista_init\u001b[0m\u001b[0;34m.\u001b[0m\u001b[0mweights\u001b[0m\u001b[0;34m\u001b[0m\u001b[0;34m\u001b[0m\u001b[0m\n",
      "\u001b[0;32m~/work/adopty/adopty/autograd/lista.py\u001b[0m in \u001b[0;36mfit\u001b[0;34m(self, X, solver, *args, **kwargs)\u001b[0m\n\u001b[1;32m    347\u001b[0m                                    \u001b[0mgradient_function\u001b[0m\u001b[0;34m,\u001b[0m \u001b[0mfull_loss\u001b[0m\u001b[0;34m,\u001b[0m \u001b[0mself\u001b[0m\u001b[0;34m.\u001b[0m\u001b[0mlogger\u001b[0m\u001b[0;34m,\u001b[0m\u001b[0;34m\u001b[0m\u001b[0;34m\u001b[0m\u001b[0m\n\u001b[1;32m    348\u001b[0m                                    \u001b[0mself\u001b[0m\u001b[0;34m.\u001b[0m\u001b[0mvariables\u001b[0m\u001b[0;34m,\u001b[0m \u001b[0mself\u001b[0m\u001b[0;34m.\u001b[0m\u001b[0mlearn_levels\u001b[0m\u001b[0;34m,\u001b[0m \u001b[0;34m*\u001b[0m\u001b[0margs\u001b[0m\u001b[0;34m,\u001b[0m\u001b[0;34m\u001b[0m\u001b[0;34m\u001b[0m\u001b[0m\n\u001b[0;32m--> 349\u001b[0;31m                                    **kwargs)\n\u001b[0m\u001b[1;32m    350\u001b[0m         \u001b[0;32mif\u001b[0m \u001b[0mself\u001b[0m\u001b[0;34m.\u001b[0m\u001b[0mvariables\u001b[0m \u001b[0;34m==\u001b[0m \u001b[0;34m'spectrum'\u001b[0m\u001b[0;34m:\u001b[0m\u001b[0;34m\u001b[0m\u001b[0;34m\u001b[0m\u001b[0m\n\u001b[1;32m    351\u001b[0m             \u001b[0mself\u001b[0m\u001b[0;34m.\u001b[0m\u001b[0mspectra\u001b[0m \u001b[0;34m=\u001b[0m \u001b[0moutputs\u001b[0m\u001b[0;34m\u001b[0m\u001b[0;34m\u001b[0m\u001b[0m\n",
      "\u001b[0;32m~/work/adopty/adopty/autograd/lista.py\u001b[0m in \u001b[0;36m_sgd\u001b[0;34m(weights, levels, X, gradient_function, full_loss, logger, variables, learn_levels, l_rate, l_rate_min, max_iter, thres, batch_size, log, verbose, backtrack)\u001b[0m\n\u001b[1;32m    117\u001b[0m         \u001b[0msl\u001b[0m \u001b[0;34m=\u001b[0m \u001b[0mnp\u001b[0m\u001b[0;34m.\u001b[0m\u001b[0marange\u001b[0m\u001b[0;34m(\u001b[0m\u001b[0mi\u001b[0m \u001b[0;34m*\u001b[0m \u001b[0mbatch_size\u001b[0m\u001b[0;34m,\u001b[0m \u001b[0;34m(\u001b[0m\u001b[0mi\u001b[0m \u001b[0;34m+\u001b[0m \u001b[0;36m1\u001b[0m\u001b[0;34m)\u001b[0m \u001b[0;34m*\u001b[0m \u001b[0mbatch_size\u001b[0m\u001b[0;34m)\u001b[0m \u001b[0;34m%\u001b[0m \u001b[0mn_samples\u001b[0m\u001b[0;34m\u001b[0m\u001b[0;34m\u001b[0m\u001b[0m\n\u001b[1;32m    118\u001b[0m         \u001b[0mx\u001b[0m \u001b[0;34m=\u001b[0m \u001b[0mX\u001b[0m\u001b[0;34m[\u001b[0m\u001b[0;34m:\u001b[0m\u001b[0;34m,\u001b[0m \u001b[0msl\u001b[0m\u001b[0;34m]\u001b[0m\u001b[0;34m\u001b[0m\u001b[0;34m\u001b[0m\u001b[0m\n\u001b[0;32m--> 119\u001b[0;31m         \u001b[0mgradients\u001b[0m \u001b[0;34m=\u001b[0m \u001b[0mgradient_function\u001b[0m\u001b[0;34m(\u001b[0m\u001b[0;34m(\u001b[0m\u001b[0mweights\u001b[0m\u001b[0;34m,\u001b[0m \u001b[0mlevels\u001b[0m\u001b[0;34m)\u001b[0m\u001b[0;34m,\u001b[0m \u001b[0mx\u001b[0m\u001b[0;34m)\u001b[0m\u001b[0;34m\u001b[0m\u001b[0;34m\u001b[0m\u001b[0m\n\u001b[0m\u001b[1;32m    120\u001b[0m         \u001b[0;32mif\u001b[0m \u001b[0mverbose\u001b[0m\u001b[0;34m:\u001b[0m\u001b[0;34m\u001b[0m\u001b[0;34m\u001b[0m\u001b[0m\n\u001b[1;32m    121\u001b[0m             \u001b[0;32mif\u001b[0m \u001b[0mi\u001b[0m \u001b[0;34m%\u001b[0m \u001b[0mverbose\u001b[0m \u001b[0;34m==\u001b[0m \u001b[0;36m0\u001b[0m\u001b[0;34m:\u001b[0m\u001b[0;34m\u001b[0m\u001b[0;34m\u001b[0m\u001b[0m\n",
      "\u001b[0;32m~/anaconda3/lib/python3.7/site-packages/autograd/wrap_util.py\u001b[0m in \u001b[0;36mnary_f\u001b[0;34m(*args, **kwargs)\u001b[0m\n\u001b[1;32m     18\u001b[0m             \u001b[0;32melse\u001b[0m\u001b[0;34m:\u001b[0m\u001b[0;34m\u001b[0m\u001b[0;34m\u001b[0m\u001b[0m\n\u001b[1;32m     19\u001b[0m                 \u001b[0mx\u001b[0m \u001b[0;34m=\u001b[0m \u001b[0mtuple\u001b[0m\u001b[0;34m(\u001b[0m\u001b[0margs\u001b[0m\u001b[0;34m[\u001b[0m\u001b[0mi\u001b[0m\u001b[0;34m]\u001b[0m \u001b[0;32mfor\u001b[0m \u001b[0mi\u001b[0m \u001b[0;32min\u001b[0m \u001b[0margnum\u001b[0m\u001b[0;34m)\u001b[0m\u001b[0;34m\u001b[0m\u001b[0;34m\u001b[0m\u001b[0m\n\u001b[0;32m---> 20\u001b[0;31m             \u001b[0;32mreturn\u001b[0m \u001b[0munary_operator\u001b[0m\u001b[0;34m(\u001b[0m\u001b[0munary_f\u001b[0m\u001b[0;34m,\u001b[0m \u001b[0mx\u001b[0m\u001b[0;34m,\u001b[0m \u001b[0;34m*\u001b[0m\u001b[0mnary_op_args\u001b[0m\u001b[0;34m,\u001b[0m \u001b[0;34m**\u001b[0m\u001b[0mnary_op_kwargs\u001b[0m\u001b[0;34m)\u001b[0m\u001b[0;34m\u001b[0m\u001b[0;34m\u001b[0m\u001b[0m\n\u001b[0m\u001b[1;32m     21\u001b[0m         \u001b[0;32mreturn\u001b[0m \u001b[0mnary_f\u001b[0m\u001b[0;34m\u001b[0m\u001b[0;34m\u001b[0m\u001b[0m\n\u001b[1;32m     22\u001b[0m     \u001b[0;32mreturn\u001b[0m \u001b[0mnary_operator\u001b[0m\u001b[0;34m\u001b[0m\u001b[0;34m\u001b[0m\u001b[0m\n",
      "\u001b[0;32m~/anaconda3/lib/python3.7/site-packages/autograd/differential_operators.py\u001b[0m in \u001b[0;36mgrad\u001b[0;34m(fun, x)\u001b[0m\n\u001b[1;32m     26\u001b[0m         raise TypeError(\"Grad only applies to real scalar-output functions. \"\n\u001b[1;32m     27\u001b[0m                         \"Try jacobian or elementwise_grad.\")\n\u001b[0;32m---> 28\u001b[0;31m     \u001b[0;32mreturn\u001b[0m \u001b[0mvjp\u001b[0m\u001b[0;34m(\u001b[0m\u001b[0mvspace\u001b[0m\u001b[0;34m(\u001b[0m\u001b[0mans\u001b[0m\u001b[0;34m)\u001b[0m\u001b[0;34m.\u001b[0m\u001b[0mones\u001b[0m\u001b[0;34m(\u001b[0m\u001b[0;34m)\u001b[0m\u001b[0;34m)\u001b[0m\u001b[0;34m\u001b[0m\u001b[0;34m\u001b[0m\u001b[0m\n\u001b[0m\u001b[1;32m     29\u001b[0m \u001b[0;34m\u001b[0m\u001b[0m\n\u001b[1;32m     30\u001b[0m \u001b[0;34m@\u001b[0m\u001b[0munary_to_nary\u001b[0m\u001b[0;34m\u001b[0m\u001b[0;34m\u001b[0m\u001b[0m\n",
      "\u001b[0;32m~/anaconda3/lib/python3.7/site-packages/autograd/core.py\u001b[0m in \u001b[0;36mvjp\u001b[0;34m(g)\u001b[0m\n\u001b[1;32m     12\u001b[0m         \u001b[0;32mdef\u001b[0m \u001b[0mvjp\u001b[0m\u001b[0;34m(\u001b[0m\u001b[0mg\u001b[0m\u001b[0;34m)\u001b[0m\u001b[0;34m:\u001b[0m \u001b[0;32mreturn\u001b[0m \u001b[0mvspace\u001b[0m\u001b[0;34m(\u001b[0m\u001b[0mx\u001b[0m\u001b[0;34m)\u001b[0m\u001b[0;34m.\u001b[0m\u001b[0mzeros\u001b[0m\u001b[0;34m(\u001b[0m\u001b[0;34m)\u001b[0m\u001b[0;34m\u001b[0m\u001b[0;34m\u001b[0m\u001b[0m\n\u001b[1;32m     13\u001b[0m     \u001b[0;32melse\u001b[0m\u001b[0;34m:\u001b[0m\u001b[0;34m\u001b[0m\u001b[0;34m\u001b[0m\u001b[0m\n\u001b[0;32m---> 14\u001b[0;31m         \u001b[0;32mdef\u001b[0m \u001b[0mvjp\u001b[0m\u001b[0;34m(\u001b[0m\u001b[0mg\u001b[0m\u001b[0;34m)\u001b[0m\u001b[0;34m:\u001b[0m \u001b[0;32mreturn\u001b[0m \u001b[0mbackward_pass\u001b[0m\u001b[0;34m(\u001b[0m\u001b[0mg\u001b[0m\u001b[0;34m,\u001b[0m \u001b[0mend_node\u001b[0m\u001b[0;34m)\u001b[0m\u001b[0;34m\u001b[0m\u001b[0;34m\u001b[0m\u001b[0m\n\u001b[0m\u001b[1;32m     15\u001b[0m     \u001b[0;32mreturn\u001b[0m \u001b[0mvjp\u001b[0m\u001b[0;34m,\u001b[0m \u001b[0mend_value\u001b[0m\u001b[0;34m\u001b[0m\u001b[0;34m\u001b[0m\u001b[0m\n\u001b[1;32m     16\u001b[0m \u001b[0;34m\u001b[0m\u001b[0m\n",
      "\u001b[0;32m~/anaconda3/lib/python3.7/site-packages/autograd/core.py\u001b[0m in \u001b[0;36mbackward_pass\u001b[0;34m(g, end_node)\u001b[0m\n\u001b[1;32m     17\u001b[0m \u001b[0;32mdef\u001b[0m \u001b[0mbackward_pass\u001b[0m\u001b[0;34m(\u001b[0m\u001b[0mg\u001b[0m\u001b[0;34m,\u001b[0m \u001b[0mend_node\u001b[0m\u001b[0;34m)\u001b[0m\u001b[0;34m:\u001b[0m\u001b[0;34m\u001b[0m\u001b[0;34m\u001b[0m\u001b[0m\n\u001b[1;32m     18\u001b[0m     \u001b[0moutgrads\u001b[0m \u001b[0;34m=\u001b[0m \u001b[0;34m{\u001b[0m\u001b[0mend_node\u001b[0m \u001b[0;34m:\u001b[0m \u001b[0;34m(\u001b[0m\u001b[0mg\u001b[0m\u001b[0;34m,\u001b[0m \u001b[0;32mFalse\u001b[0m\u001b[0;34m)\u001b[0m\u001b[0;34m}\u001b[0m\u001b[0;34m\u001b[0m\u001b[0;34m\u001b[0m\u001b[0m\n\u001b[0;32m---> 19\u001b[0;31m     \u001b[0;32mfor\u001b[0m \u001b[0mnode\u001b[0m \u001b[0;32min\u001b[0m \u001b[0mtoposort\u001b[0m\u001b[0;34m(\u001b[0m\u001b[0mend_node\u001b[0m\u001b[0;34m)\u001b[0m\u001b[0;34m:\u001b[0m\u001b[0;34m\u001b[0m\u001b[0;34m\u001b[0m\u001b[0m\n\u001b[0m\u001b[1;32m     20\u001b[0m         \u001b[0moutgrad\u001b[0m \u001b[0;34m=\u001b[0m \u001b[0moutgrads\u001b[0m\u001b[0;34m.\u001b[0m\u001b[0mpop\u001b[0m\u001b[0;34m(\u001b[0m\u001b[0mnode\u001b[0m\u001b[0;34m)\u001b[0m\u001b[0;34m\u001b[0m\u001b[0;34m\u001b[0m\u001b[0m\n\u001b[1;32m     21\u001b[0m         \u001b[0mingrads\u001b[0m \u001b[0;34m=\u001b[0m \u001b[0mnode\u001b[0m\u001b[0;34m.\u001b[0m\u001b[0mvjp\u001b[0m\u001b[0;34m(\u001b[0m\u001b[0moutgrad\u001b[0m\u001b[0;34m[\u001b[0m\u001b[0;36m0\u001b[0m\u001b[0;34m]\u001b[0m\u001b[0;34m)\u001b[0m\u001b[0;34m\u001b[0m\u001b[0;34m\u001b[0m\u001b[0m\n",
      "\u001b[0;32m~/anaconda3/lib/python3.7/site-packages/autograd/tracer.py\u001b[0m in \u001b[0;36mtoposort\u001b[0;34m(end_node)\u001b[0m\n\u001b[1;32m    126\u001b[0m     \u001b[0mchildless_nodes\u001b[0m \u001b[0;34m=\u001b[0m \u001b[0;34m[\u001b[0m\u001b[0mend_node\u001b[0m\u001b[0;34m]\u001b[0m\u001b[0;34m\u001b[0m\u001b[0;34m\u001b[0m\u001b[0m\n\u001b[1;32m    127\u001b[0m     \u001b[0;32mwhile\u001b[0m \u001b[0mchildless_nodes\u001b[0m\u001b[0;34m:\u001b[0m\u001b[0;34m\u001b[0m\u001b[0;34m\u001b[0m\u001b[0m\n\u001b[0;32m--> 128\u001b[0;31m         \u001b[0mnode\u001b[0m \u001b[0;34m=\u001b[0m \u001b[0mchildless_nodes\u001b[0m\u001b[0;34m.\u001b[0m\u001b[0mpop\u001b[0m\u001b[0;34m(\u001b[0m\u001b[0;34m)\u001b[0m\u001b[0;34m\u001b[0m\u001b[0;34m\u001b[0m\u001b[0m\n\u001b[0m\u001b[1;32m    129\u001b[0m         \u001b[0;32myield\u001b[0m \u001b[0mnode\u001b[0m\u001b[0;34m\u001b[0m\u001b[0;34m\u001b[0m\u001b[0m\n\u001b[1;32m    130\u001b[0m         \u001b[0;32mfor\u001b[0m \u001b[0mparent\u001b[0m \u001b[0;32min\u001b[0m \u001b[0mnode\u001b[0m\u001b[0;34m.\u001b[0m\u001b[0mparents\u001b[0m\u001b[0;34m:\u001b[0m\u001b[0;34m\u001b[0m\u001b[0;34m\u001b[0m\u001b[0m\n",
      "\u001b[0;31mKeyboardInterrupt\u001b[0m: "
     ]
    }
   ],
   "source": [
    "ista_init = LISTA(D, lbda, 1, fit_loss, reg, variables='both', architecture=architecture)\n",
    "ista_init.fit(X, l_rate=0.05, max_iter=3000, verbose=100)\n",
    "init_weights = ista_init.weights"
   ]
  },
  {
   "cell_type": "code",
   "execution_count": 5,
   "metadata": {},
   "outputs": [
    {
     "name": "stdout",
     "output_type": "stream",
     "text": [
      "0.015342274260247644\n",
      "0.05101252565402757\n"
     ]
    }
   ],
   "source": [
    "ista = LISTA(D, lbda, 100000, fit_loss, reg)\n",
    "L = ista.L\n",
    "z_hat = ista.transform(X_test)\n",
    "f_min = loss(z_hat, X_test, D, lbda)\n",
    "\n",
    "print(np.linalg.norm(z_hat - prox(z_hat - np.dot(D.T / L, der_function(np.dot(D, z_hat), X_test)), lbda / L)))\n",
    "print(f_min)"
   ]
  },
  {
   "cell_type": "code",
   "execution_count": 9,
   "metadata": {
    "scrolled": false
   },
   "outputs": [
    {
     "name": "stdout",
     "output_type": "stream",
     "text": [
      "1 layers\n",
      "it 0, loss = 6.552e+00, grad_W = 1.47e+00, grad_l = 0.00e+00, l_rate = 5.00e-03\n",
      "it 10, loss = 4.270e+00, grad_W = 7.18e-01, grad_l = 0.00e+00, l_rate = 5.12e+00\n",
      "it 20, loss = 3.460e+00, grad_W = 7.41e-01, grad_l = 0.00e+00, l_rate = 2.56e+00\n",
      "it 30, loss = 3.243e+00, grad_W = 1.25e+00, grad_l = 0.00e+00, l_rate = 6.40e-01\n",
      "it 40, loss = 3.078e+00, grad_W = 1.32e+00, grad_l = 0.00e+00, l_rate = 2.56e+00\n",
      "it 50, loss = 3.021e+00, grad_W = 6.35e-01, grad_l = 0.00e+00, l_rate = 6.40e-01\n",
      "it 60, loss = 2.966e+00, grad_W = 1.77e+00, grad_l = 0.00e+00, l_rate = 6.40e-01\n",
      "it 70, loss = 2.922e+00, grad_W = 5.42e-01, grad_l = 0.00e+00, l_rate = 6.40e-01\n",
      "it 80, loss = 2.888e+00, grad_W = 1.43e+00, grad_l = 0.00e+00, l_rate = 6.40e-01\n",
      "it 90, loss = 2.850e+00, grad_W = 5.51e-01, grad_l = 0.00e+00, l_rate = 6.40e-01\n",
      "it 100, loss = 2.822e+00, grad_W = 1.29e+00, grad_l = 0.00e+00, l_rate = 6.40e-01\n",
      "Gain = 139 percent\n",
      "3 layers\n",
      "it 0, loss = 4.497e+00, grad_W = 8.43e+00, grad_l = 0.00e+00, l_rate = 5.00e-03\n",
      "it 10, loss = 3.232e+00, grad_W = 4.29e+00, grad_l = 0.00e+00, l_rate = 1.60e-01\n",
      "it 20, loss = 2.661e+00, grad_W = 3.12e+00, grad_l = 0.00e+00, l_rate = 1.60e-01\n",
      "it 30, loss = 2.328e+00, grad_W = 2.14e+00, grad_l = 0.00e+00, l_rate = 1.60e-01\n",
      "it 40, loss = 2.115e+00, grad_W = 1.26e+00, grad_l = 0.00e+00, l_rate = 1.60e-01\n",
      "it 50, loss = 1.999e+00, grad_W = 1.00e+00, grad_l = 0.00e+00, l_rate = 1.60e-01\n",
      "it 60, loss = 1.928e+00, grad_W = 1.10e+00, grad_l = 0.00e+00, l_rate = 1.60e-01\n",
      "it 70, loss = 1.881e+00, grad_W = 9.83e-01, grad_l = 0.00e+00, l_rate = 1.60e-01\n",
      "it 80, loss = 1.848e+00, grad_W = 8.00e-01, grad_l = 0.00e+00, l_rate = 1.60e-01\n",
      "it 90, loss = 1.821e+00, grad_W = 8.96e-01, grad_l = 0.00e+00, l_rate = 1.60e-01\n",
      "it 100, loss = 1.798e+00, grad_W = 6.52e-01, grad_l = 0.00e+00, l_rate = 1.60e-01\n",
      "Gain = 233 percent\n",
      "5 layers\n",
      "it 0, loss = 1.791e+00, grad_W = 2.30e+00, grad_l = 0.00e+00, l_rate = 5.00e-03\n",
      "it 10, loss = 1.709e+00, grad_W = 1.69e+00, grad_l = 0.00e+00, l_rate = 1.60e-01\n",
      "it 20, loss = 1.670e+00, grad_W = 9.89e-01, grad_l = 0.00e+00, l_rate = 8.00e-02\n",
      "it 30, loss = 1.643e+00, grad_W = 9.55e-01, grad_l = 0.00e+00, l_rate = 1.60e-01\n",
      "it 40, loss = 1.618e+00, grad_W = 9.11e-01, grad_l = 0.00e+00, l_rate = 8.00e-02\n",
      "it 50, loss = 1.596e+00, grad_W = 1.19e+00, grad_l = 0.00e+00, l_rate = 1.60e-01\n",
      "it 60, loss = 1.573e+00, grad_W = 9.08e-01, grad_l = 0.00e+00, l_rate = 8.00e-02\n",
      "it 70, loss = 1.552e+00, grad_W = 9.00e-01, grad_l = 0.00e+00, l_rate = 1.60e-01\n",
      "it 80, loss = 1.533e+00, grad_W = 1.44e+00, grad_l = 0.00e+00, l_rate = 1.60e-01\n",
      "it 90, loss = 1.513e+00, grad_W = 1.05e+00, grad_l = 0.00e+00, l_rate = 1.60e-01\n",
      "it 100, loss = 1.495e+00, grad_W = 9.40e-01, grad_l = 0.00e+00, l_rate = 1.60e-01\n",
      "Gain = 266 percent\n",
      "7 layers\n",
      "it 0, loss = 1.473e+00, grad_W = 1.67e+00, grad_l = 0.00e+00, l_rate = 5.00e-03\n",
      "it 10, loss = 1.450e+00, grad_W = 1.89e+00, grad_l = 0.00e+00, l_rate = 8.00e-02\n",
      "it 20, loss = 1.427e+00, grad_W = 2.20e+00, grad_l = 0.00e+00, l_rate = 1.60e-01\n",
      "it 30, loss = 1.404e+00, grad_W = 3.01e+00, grad_l = 0.00e+00, l_rate = 1.60e-01\n",
      "it 40, loss = 1.378e+00, grad_W = 1.85e+00, grad_l = 0.00e+00, l_rate = 8.00e-02\n",
      "it 50, loss = 1.354e+00, grad_W = 2.47e+00, grad_l = 0.00e+00, l_rate = 1.60e-01\n",
      "it 60, loss = 1.331e+00, grad_W = 3.06e+00, grad_l = 0.00e+00, l_rate = 1.60e-01\n",
      "it 70, loss = 1.307e+00, grad_W = 3.11e+00, grad_l = 0.00e+00, l_rate = 1.60e-01\n",
      "it 80, loss = 1.283e+00, grad_W = 3.02e+00, grad_l = 0.00e+00, l_rate = 1.60e-01\n",
      "it 90, loss = 1.259e+00, grad_W = 1.63e+00, grad_l = 0.00e+00, l_rate = 8.00e-02\n",
      "it 100, loss = 1.238e+00, grad_W = 2.23e+00, grad_l = 0.00e+00, l_rate = 8.00e-02\n",
      "Gain = 314 percent\n",
      "9 layers\n",
      "it 0, loss = 1.223e+00, grad_W = 4.58e+00, grad_l = 0.00e+00, l_rate = 5.00e-03\n",
      "it 10, loss = 1.184e+00, grad_W = 1.91e+00, grad_l = 0.00e+00, l_rate = 4.00e-02\n",
      "it 20, loss = 1.162e+00, grad_W = 4.81e+00, grad_l = 0.00e+00, l_rate = 1.60e-01\n",
      "it 30, loss = 1.144e+00, grad_W = 5.03e+00, grad_l = 0.00e+00, l_rate = 1.60e-01\n",
      "it 40, loss = 1.128e+00, grad_W = 3.49e+00, grad_l = 0.00e+00, l_rate = 4.00e-02\n",
      "it 50, loss = 1.117e+00, grad_W = 2.40e+00, grad_l = 0.00e+00, l_rate = 2.00e-02\n",
      "it 60, loss = 1.109e+00, grad_W = 2.42e+00, grad_l = 0.00e+00, l_rate = 8.00e-02\n",
      "it 70, loss = 1.103e+00, grad_W = 7.11e+00, grad_l = 0.00e+00, l_rate = 7.45e-11\n",
      "it 80, loss = 1.103e+00, grad_W = 7.11e+00, grad_l = 0.00e+00, l_rate = 7.45e-11\n",
      "it 90, loss = 1.103e+00, grad_W = 7.11e+00, grad_l = 0.00e+00, l_rate = 7.45e-11\n",
      "it 100, loss = 1.103e+00, grad_W = 7.11e+00, grad_l = 0.00e+00, l_rate = 7.45e-11\n",
      "Gain = 341 percent\n"
     ]
    }
   ],
   "source": [
    "L_LIST = {}\n",
    "for variables in ['both']:\n",
    "    loss_list = {'ista': [], 'lista': []}\n",
    "    for j, n_layers in enumerate(layers):\n",
    "        print('%d layers' % n_layers)\n",
    "        lista = LISTA(D, lbda, n_layers, fit_loss, reg, variables=variables,\n",
    "                      learn_levels=True, architecture=architecture)\n",
    "        if 0:\n",
    "            lista.weights[:2] = init_weights\n",
    "        loss_ista = lista.compute_loss(X_test)\n",
    "        loss_list['ista'].append(loss_ista)\n",
    "        # smart init\n",
    "        if j > 0:\n",
    "            lista.weights[:len(old_weights)] = old_weights\n",
    "            lista.levels[:len(old_levels)] = old_levels\n",
    "        lista.fit(X, l_rate=0.005, max_iter=101, backtrack=True, verbose=10, thres=0, l_rate_min=1e-10)\n",
    "        loss_lista = lista.compute_loss(X_test)\n",
    "        loss_list['lista'].append(loss_lista)\n",
    "        print('Gain = %d percent' % (100 * (loss_ista - f_min) / (loss_lista - f_min) - 100))\n",
    "        old_weights = deepcopy(lista.weights)\n",
    "        old_levels = deepcopy(lista.levels)\n",
    "    L_LIST[variables] = loss_list"
   ]
  },
  {
   "cell_type": "code",
   "execution_count": 10,
   "metadata": {
    "scrolled": false
   },
   "outputs": [
    {
     "data": {
      "image/png": "[encoded data removed]",
      "text/plain": [
       "<Figure size 360x288 with 1 Axes>"
      ]
     },
     "metadata": {
      "needs_background": "light"
     },
     "output_type": "display_data"
    }
   ],
   "source": [
    "plt.figure(figsize=(5, 4))\n",
    "title = ' %s data fit + %s reg, k=%d, p=%d, algo %s, ' % (fit_loss, reg, k, p, architecture)\n",
    "plt.title(title)\n",
    "plt.plot(layers, np.array(loss_list['ista']) - f_min, label='%s with good init' % architecture)\n",
    "plt.plot(layers, np.array(L_LIST['both']['lista']) - f_min, label='Learned %s' % architecture)\n",
    "plt.xlabel('Number of layers / iterations')\n",
    "plt.ylabel('f - f_min')\n",
    "plt.legend()\n",
    "plt.yscale('log')\n",
    "plt.xscale('log')\n",
    "plt.savefig(title + '.pdf')\n",
    "plt.show()"
   ]
  },
  {
   "cell_type": "code",
   "execution_count": 2,
   "metadata": {},
   "outputs": [
    {
     "ename": "NameError",
     "evalue": "name 'old_weigths' is not defined",
     "output_type": "error",
     "traceback": [
      "\u001b[0;31m---------------------------------------------------------------------------\u001b[0m",
      "\u001b[0;31mNameError\u001b[0m                                 Traceback (most recent call last)",
      "\u001b[0;32m<ipython-input-2-02638d21af89>\u001b[0m in \u001b[0;36m<module>\u001b[0;34m\u001b[0m\n\u001b[0;32m----> 1\u001b[0;31m \u001b[0mweights\u001b[0m \u001b[0;34m=\u001b[0m \u001b[0mold_weigths\u001b[0m\u001b[0;34m\u001b[0m\u001b[0;34m\u001b[0m\u001b[0m\n\u001b[0m",
      "\u001b[0;31mNameError\u001b[0m: name 'old_weigths' is not defined"
     ]
    }
   ],
   "source": [
    "weights = old_weigths"
   ]
  },
  {
   "cell_type": "code",
   "execution_count": null,
   "metadata": {},
   "outputs": [],
   "source": []
  }
 ],
 "metadata": {
  "kernelspec": {
   "display_name": "Python 3",
   "language": "python",
   "name": "python3"
  },
  "language_info": {
   "codemirror_mode": {
    "name": "ipython",
    "version": 3
   },
   "file_extension": ".py",
   "mimetype": "text/x-python",
   "name": "python",
   "nbconvert_exporter": "python",
   "pygments_lexer": "ipython3",
   "version": "3.7.1"
  }
 },
 "nbformat": 4,
 "nbformat_minor": 2
}
