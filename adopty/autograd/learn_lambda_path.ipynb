{
 "cells": [
  {
   "cell_type": "code",
   "execution_count": 1,
   "metadata": {},
   "outputs": [],
   "source": [
    "from autograd import grad\n",
    "import autograd.numpy as np\n",
    "import matplotlib.pyplot as plt\n",
    "from lista import LISTA, make_loss\n",
    "from functions import *\n",
    "from generation import generate, get_lambda_max"
   ]
  },
  {
   "cell_type": "code",
   "execution_count": 2,
   "metadata": {},
   "outputs": [],
   "source": [
    "n_train = 10000\n",
    "n_test = 10000\n",
    "k = 5\n",
    "p = 10\n",
    "rng = np.random.RandomState(0)\n",
    "\n",
    "fit_loss = 'l2'\n",
    "reg = 'l1'\n",
    "\n",
    "fit_function, der_function = {\n",
    "                              'l2': (l2_fit, l2_der),\n",
    "                              'logreg': (logreg_fit, logreg_der)\n",
    "                              }[fit_loss]\n",
    "reg_function, prox = {\n",
    "                      'l2': (l2_pen, l2_prox),\n",
    "                      'l1': (l1_pen, l1_prox),\n",
    "                      None: (no_pen, no_prox)\n",
    "                      }[reg]\n",
    "loss = make_loss(fit_function, reg_function)"
   ]
  },
  {
   "cell_type": "code",
   "execution_count": 3,
   "metadata": {},
   "outputs": [
    {
     "name": "stdout",
     "output_type": "stream",
     "text": [
      "1.0000000000000004\n"
     ]
    }
   ],
   "source": [
    "D, X_train, X_test = generate(p, k, n_test, n_train, binary= fit_loss == 'logreg', rng=rng)\n",
    "X_train /= get_lambda_max(D, X_train, fit_loss, False)\n",
    "X_test /= get_lambda_max(D, X_test, fit_loss, False)\n",
    "lbda_max = get_lambda_max(D, X_train, fit_loss)\n",
    "print(lbda_max)"
   ]
  },
  {
   "cell_type": "code",
   "execution_count": 4,
   "metadata": {},
   "outputs": [
    {
     "ename": "KeyboardInterrupt",
     "evalue": "",
     "output_type": "error",
     "traceback": [
      "\u001b[0;31m---------------------------------------------------------------------------\u001b[0m",
      "\u001b[0;31mKeyboardInterrupt\u001b[0m                         Traceback (most recent call last)",
      "\u001b[0;32m<ipython-input-4-3040a5804e45>\u001b[0m in \u001b[0;36m<module>\u001b[0;34m\u001b[0m\n\u001b[1;32m      2\u001b[0m ista_exact = LISTA(D, lbda_grid, 1000, fit_loss, reg,\n\u001b[1;32m      3\u001b[0m                    variables='both', learn_levels=True)\n\u001b[0;32m----> 4\u001b[0;31m \u001b[0mf_min_list\u001b[0m \u001b[0;34m=\u001b[0m \u001b[0mista_exact\u001b[0m\u001b[0;34m.\u001b[0m\u001b[0mcompute_loss\u001b[0m\u001b[0;34m(\u001b[0m\u001b[0mX_test\u001b[0m\u001b[0;34m)\u001b[0m\u001b[0;34m\u001b[0m\u001b[0;34m\u001b[0m\u001b[0m\n\u001b[0m",
      "\u001b[0;32m~/work/adopty/adopty/autograd/lista.py\u001b[0m in \u001b[0;36mcompute_loss\u001b[0;34m(self, x)\u001b[0m\n\u001b[1;32m    285\u001b[0m         \u001b[0;32mif\u001b[0m \u001b[0mself\u001b[0m\u001b[0;34m.\u001b[0m\u001b[0mcompute_lbda_path\u001b[0m\u001b[0;34m:\u001b[0m\u001b[0;34m\u001b[0m\u001b[0;34m\u001b[0m\u001b[0m\n\u001b[1;32m    286\u001b[0m             return [self.loss(self.transform(x, lbda), x, self.D, lbda) for\n\u001b[0;32m--> 287\u001b[0;31m                     lbda in self.lbda]\n\u001b[0m\u001b[1;32m    288\u001b[0m         \u001b[0;32mreturn\u001b[0m \u001b[0mself\u001b[0m\u001b[0;34m.\u001b[0m\u001b[0mloss\u001b[0m\u001b[0;34m(\u001b[0m\u001b[0mself\u001b[0m\u001b[0;34m.\u001b[0m\u001b[0mtransform\u001b[0m\u001b[0;34m(\u001b[0m\u001b[0mx\u001b[0m\u001b[0;34m)\u001b[0m\u001b[0;34m,\u001b[0m \u001b[0mx\u001b[0m\u001b[0;34m,\u001b[0m \u001b[0mself\u001b[0m\u001b[0;34m.\u001b[0m\u001b[0mD\u001b[0m\u001b[0;34m,\u001b[0m \u001b[0mself\u001b[0m\u001b[0;34m.\u001b[0m\u001b[0mlbda\u001b[0m\u001b[0;34m)\u001b[0m\u001b[0;34m\u001b[0m\u001b[0;34m\u001b[0m\u001b[0m\n\u001b[1;32m    289\u001b[0m \u001b[0;34m\u001b[0m\u001b[0m\n",
      "\u001b[0;32m~/work/adopty/adopty/autograd/lista.py\u001b[0m in \u001b[0;36m<listcomp>\u001b[0;34m(.0)\u001b[0m\n\u001b[1;32m    285\u001b[0m         \u001b[0;32mif\u001b[0m \u001b[0mself\u001b[0m\u001b[0;34m.\u001b[0m\u001b[0mcompute_lbda_path\u001b[0m\u001b[0;34m:\u001b[0m\u001b[0;34m\u001b[0m\u001b[0;34m\u001b[0m\u001b[0m\n\u001b[1;32m    286\u001b[0m             return [self.loss(self.transform(x, lbda), x, self.D, lbda) for\n\u001b[0;32m--> 287\u001b[0;31m                     lbda in self.lbda]\n\u001b[0m\u001b[1;32m    288\u001b[0m         \u001b[0;32mreturn\u001b[0m \u001b[0mself\u001b[0m\u001b[0;34m.\u001b[0m\u001b[0mloss\u001b[0m\u001b[0;34m(\u001b[0m\u001b[0mself\u001b[0m\u001b[0;34m.\u001b[0m\u001b[0mtransform\u001b[0m\u001b[0;34m(\u001b[0m\u001b[0mx\u001b[0m\u001b[0;34m)\u001b[0m\u001b[0;34m,\u001b[0m \u001b[0mx\u001b[0m\u001b[0;34m,\u001b[0m \u001b[0mself\u001b[0m\u001b[0;34m.\u001b[0m\u001b[0mD\u001b[0m\u001b[0;34m,\u001b[0m \u001b[0mself\u001b[0m\u001b[0;34m.\u001b[0m\u001b[0mlbda\u001b[0m\u001b[0;34m)\u001b[0m\u001b[0;34m\u001b[0m\u001b[0;34m\u001b[0m\u001b[0m\n\u001b[1;32m    289\u001b[0m \u001b[0;34m\u001b[0m\u001b[0m\n",
      "\u001b[0;32m~/work/adopty/adopty/autograd/lista.py\u001b[0m in \u001b[0;36mtransform\u001b[0;34m(self, x, lbda)\u001b[0m\n\u001b[1;32m    280\u001b[0m         return self.forward(x, self.weights, self.p, self.n_layers,\n\u001b[1;32m    281\u001b[0m                             \u001b[0mself\u001b[0m\u001b[0;34m.\u001b[0m\u001b[0mlevels\u001b[0m\u001b[0;34m,\u001b[0m \u001b[0mself\u001b[0m\u001b[0;34m.\u001b[0m\u001b[0mder_function\u001b[0m\u001b[0;34m,\u001b[0m \u001b[0mself\u001b[0m\u001b[0;34m.\u001b[0m\u001b[0mprox\u001b[0m\u001b[0;34m,\u001b[0m\u001b[0;34m\u001b[0m\u001b[0;34m\u001b[0m\u001b[0m\n\u001b[0;32m--> 282\u001b[0;31m                             lbda)\n\u001b[0m\u001b[1;32m    283\u001b[0m \u001b[0;34m\u001b[0m\u001b[0m\n\u001b[1;32m    284\u001b[0m     \u001b[0;32mdef\u001b[0m \u001b[0mcompute_loss\u001b[0m\u001b[0;34m(\u001b[0m\u001b[0mself\u001b[0m\u001b[0;34m,\u001b[0m \u001b[0mx\u001b[0m\u001b[0;34m)\u001b[0m\u001b[0;34m:\u001b[0m\u001b[0;34m\u001b[0m\u001b[0;34m\u001b[0m\u001b[0m\n",
      "\u001b[0;32m~/work/adopty/adopty/autograd/lista.py\u001b[0m in \u001b[0;36m_forward\u001b[0;34m(x, weights, p, n_layers, levels, der_function, prox, lbda)\u001b[0m\n\u001b[1;32m     26\u001b[0m         \u001b[0mW2\u001b[0m \u001b[0;34m=\u001b[0m \u001b[0mweights\u001b[0m\u001b[0;34m[\u001b[0m\u001b[0;36m2\u001b[0m \u001b[0;34m*\u001b[0m \u001b[0mi\u001b[0m \u001b[0;34m+\u001b[0m \u001b[0;36m1\u001b[0m\u001b[0;34m]\u001b[0m\u001b[0;34m\u001b[0m\u001b[0;34m\u001b[0m\u001b[0m\n\u001b[1;32m     27\u001b[0m         \u001b[0mlevel\u001b[0m \u001b[0;34m=\u001b[0m \u001b[0mlevels\u001b[0m\u001b[0;34m[\u001b[0m\u001b[0mi\u001b[0m\u001b[0;34m]\u001b[0m \u001b[0;34m*\u001b[0m \u001b[0mlbda\u001b[0m\u001b[0;34m\u001b[0m\u001b[0;34m\u001b[0m\u001b[0m\n\u001b[0;32m---> 28\u001b[0;31m         \u001b[0mz\u001b[0m \u001b[0;34m=\u001b[0m \u001b[0mprox\u001b[0m\u001b[0;34m(\u001b[0m\u001b[0mz\u001b[0m \u001b[0;34m-\u001b[0m \u001b[0mnp\u001b[0m\u001b[0;34m.\u001b[0m\u001b[0mdot\u001b[0m\u001b[0;34m(\u001b[0m\u001b[0mW1\u001b[0m\u001b[0;34m,\u001b[0m \u001b[0mder_function\u001b[0m\u001b[0;34m(\u001b[0m\u001b[0mnp\u001b[0m\u001b[0;34m.\u001b[0m\u001b[0mdot\u001b[0m\u001b[0;34m(\u001b[0m\u001b[0mW2\u001b[0m\u001b[0;34m,\u001b[0m \u001b[0mz\u001b[0m\u001b[0;34m)\u001b[0m\u001b[0;34m,\u001b[0m \u001b[0mx\u001b[0m\u001b[0;34m)\u001b[0m\u001b[0;34m)\u001b[0m\u001b[0;34m,\u001b[0m \u001b[0mlevel\u001b[0m\u001b[0;34m)\u001b[0m\u001b[0;34m\u001b[0m\u001b[0;34m\u001b[0m\u001b[0m\n\u001b[0m\u001b[1;32m     29\u001b[0m     \u001b[0;32mreturn\u001b[0m \u001b[0mz\u001b[0m\u001b[0;34m\u001b[0m\u001b[0;34m\u001b[0m\u001b[0m\n\u001b[1;32m     30\u001b[0m \u001b[0;34m\u001b[0m\u001b[0m\n",
      "\u001b[0;32m~/work/adopty/adopty/autograd/functions.py\u001b[0m in \u001b[0;36ml1_prox\u001b[0;34m(x, level)\u001b[0m\n\u001b[1;32m     27\u001b[0m \u001b[0;34m\u001b[0m\u001b[0m\n\u001b[1;32m     28\u001b[0m \u001b[0;32mdef\u001b[0m \u001b[0ml1_prox\u001b[0m\u001b[0;34m(\u001b[0m\u001b[0mx\u001b[0m\u001b[0;34m,\u001b[0m \u001b[0mlevel\u001b[0m\u001b[0;34m)\u001b[0m\u001b[0;34m:\u001b[0m\u001b[0;34m\u001b[0m\u001b[0;34m\u001b[0m\u001b[0m\n\u001b[0;32m---> 29\u001b[0;31m     \u001b[0;32mreturn\u001b[0m \u001b[0mnp\u001b[0m\u001b[0;34m.\u001b[0m\u001b[0msign\u001b[0m\u001b[0;34m(\u001b[0m\u001b[0mx\u001b[0m\u001b[0;34m)\u001b[0m \u001b[0;34m*\u001b[0m \u001b[0mnp\u001b[0m\u001b[0;34m.\u001b[0m\u001b[0mmaximum\u001b[0m\u001b[0;34m(\u001b[0m\u001b[0mnp\u001b[0m\u001b[0;34m.\u001b[0m\u001b[0mabs\u001b[0m\u001b[0;34m(\u001b[0m\u001b[0mx\u001b[0m\u001b[0;34m)\u001b[0m \u001b[0;34m-\u001b[0m \u001b[0mlevel\u001b[0m\u001b[0;34m,\u001b[0m \u001b[0;36m0.\u001b[0m\u001b[0;34m)\u001b[0m\u001b[0;34m\u001b[0m\u001b[0;34m\u001b[0m\u001b[0m\n\u001b[0m\u001b[1;32m     30\u001b[0m \u001b[0;34m\u001b[0m\u001b[0m\n\u001b[1;32m     31\u001b[0m \u001b[0;34m\u001b[0m\u001b[0m\n",
      "\u001b[0;31mKeyboardInterrupt\u001b[0m: "
     ]
    }
   ],
   "source": [
    "lbda_grid = lbda_max * np.linspace(0, 1, 50)\n",
    "ista_exact = LISTA(D, lbda_grid, 1000, fit_loss, reg,\n",
    "                   variables='both', learn_levels=True)\n",
    "f_min_list = ista_exact.compute_loss(X_test)"
   ]
  },
  {
   "cell_type": "code",
   "execution_count": 12,
   "metadata": {
    "scrolled": true
   },
   "outputs": [
    {
     "name": "stdout",
     "output_type": "stream",
     "text": [
      "[0.029253296362722465, 0.08948461494873879]\n",
      "it 0, loss = 1.817e+00, grad_W = 8.95e-02, grad_l = 4.17e-01, l_rate = 1.00e-01\n",
      "it 100, loss = 1.817e+00, grad_W = 3.54e-02, grad_l = 3.10e-02, l_rate = 1.25e-02\n",
      "it 200, loss = 1.816e+00, grad_W = 3.05e-02, grad_l = 4.08e-02, l_rate = 6.25e-03\n",
      "it 300, loss = 1.816e+00, grad_W = 3.09e-02, grad_l = 6.79e-02, l_rate = 6.25e-03\n",
      "it 400, loss = 1.816e+00, grad_W = 2.94e-02, grad_l = 6.81e-02, l_rate = 6.25e-03\n",
      "it 500, loss = 1.816e+00, grad_W = 2.06e-02, grad_l = 3.04e-03, l_rate = 3.13e-03\n",
      "it 600, loss = 1.816e+00, grad_W = 3.04e-02, grad_l = 8.28e-02, l_rate = 6.25e-03\n",
      "it 700, loss = 1.816e+00, grad_W = 2.86e-02, grad_l = 6.50e-02, l_rate = 6.25e-03\n",
      "it 800, loss = 1.816e+00, grad_W = 2.70e-02, grad_l = 5.34e-02, l_rate = 6.25e-03\n",
      "it 900, loss = 1.816e+00, grad_W = 3.05e-02, grad_l = 8.49e-02, l_rate = 6.25e-03\n",
      "it 1000, loss = 1.816e+00, grad_W = 2.79e-02, grad_l = 6.90e-02, l_rate = 6.25e-03\n",
      "it 1100, loss = 1.816e+00, grad_W = 3.27e-02, grad_l = 1.04e-01, l_rate = 6.25e-03\n",
      "it 1200, loss = 1.815e+00, grad_W = 3.49e-02, grad_l = 1.23e-01, l_rate = 6.25e-03\n",
      "it 1300, loss = 1.815e+00, grad_W = 2.11e-02, grad_l = 2.85e-02, l_rate = 6.25e-03\n",
      "it 1400, loss = 1.815e+00, grad_W = 2.13e-02, grad_l = 3.26e-02, l_rate = 6.25e-03\n",
      "it 1500, loss = 1.815e+00, grad_W = 2.12e-02, grad_l = 3.46e-02, l_rate = 6.25e-03\n",
      "it 1600, loss = 1.815e+00, grad_W = 1.85e-02, grad_l = 1.71e-02, l_rate = 6.25e-03\n",
      "it 1700, loss = 1.815e+00, grad_W = 1.84e-02, grad_l = 1.90e-02, l_rate = 6.25e-03\n",
      "it 1800, loss = 1.815e+00, grad_W = 1.91e-02, grad_l = 2.71e-02, l_rate = 6.25e-03\n",
      "it 1900, loss = 1.815e+00, grad_W = 1.76e-02, grad_l = 1.93e-02, l_rate = 6.25e-03\n",
      "it 2000, loss = 1.815e+00, grad_W = 1.89e-02, grad_l = 3.11e-02, l_rate = 6.25e-03\n",
      "[0.027076428741019065, 0.08948377455793906]\n"
     ]
    }
   ],
   "source": [
    "n_layers = 3\n",
    "lbdas = [0.1, 0.95]\n",
    "n_lbdas = len(lbdas)\n",
    "lbda_weights = [1., 20.]\n",
    "\n",
    "lista = LISTA(D, lbdas, n_layers, fit_loss, reg, variables='both', learn_levels=True,\n",
    "              one_lbda_each=True, lbda_weights=lbda_weights)\n",
    "print(lista.compute_loss(X_test))\n",
    "lista.fit(X_train, l_rate=1e-1, max_iter=2001, verbose=100, backtrack=True)\n",
    "print(lista.compute_loss(X_test))"
   ]
  },
  {
   "cell_type": "code",
   "execution_count": 6,
   "metadata": {
    "scrolled": true
   },
   "outputs": [
    {
     "name": "stdout",
     "output_type": "stream",
     "text": [
      "0.08910721179705672\n",
      "it 0, loss = 8.902e-02, grad_W = 5.85e-03, grad_l = 3.59e-02, l_rate = 1.00e-01\n",
      "it 100, loss = 8.899e-02, grad_W = 3.51e-04, grad_l = 2.99e-04, l_rate = 1.00e-01\n",
      "it 200, loss = 8.899e-02, grad_W = 3.01e-04, grad_l = 4.25e-04, l_rate = 1.00e-01\n",
      "it 300, loss = 8.899e-02, grad_W = 2.47e-04, grad_l = 1.66e-04, l_rate = 1.00e-01\n",
      "it 400, loss = 8.899e-02, grad_W = 2.40e-04, grad_l = 2.93e-04, l_rate = 1.00e-01\n",
      "it 500, loss = 8.899e-02, grad_W = 2.11e-04, grad_l = 1.79e-04, l_rate = 1.00e-01\n",
      "it 600, loss = 8.899e-02, grad_W = 2.06e-04, grad_l = 2.14e-04, l_rate = 1.00e-01\n",
      "it 700, loss = 8.899e-02, grad_W = 2.00e-04, grad_l = 2.10e-04, l_rate = 1.00e-01\n",
      "it 800, loss = 8.899e-02, grad_W = 1.99e-04, grad_l = 2.59e-04, l_rate = 1.00e-01\n",
      "it 900, loss = 8.899e-02, grad_W = 2.04e-04, grad_l = 3.43e-04, l_rate = 2.00e-01\n",
      "it 1000, loss = 8.899e-02, grad_W = 1.98e-04, grad_l = 3.31e-04, l_rate = 2.00e-01\n",
      "it 1100, loss = 8.899e-02, grad_W = 1.94e-04, grad_l = 3.25e-04, l_rate = 2.00e-01\n",
      "it 1200, loss = 8.899e-02, grad_W = 1.82e-04, grad_l = 2.52e-04, l_rate = 1.00e-01\n",
      "it 1300, loss = 8.899e-02, grad_W = 1.81e-04, grad_l = 2.66e-04, l_rate = 2.00e-01\n",
      "it 1400, loss = 8.899e-02, grad_W = 1.60e-04, grad_l = 1.05e-04, l_rate = 1.00e-01\n",
      "it 1500, loss = 8.899e-02, grad_W = 1.75e-04, grad_l = 2.54e-04, l_rate = 2.00e-01\n",
      "it 1600, loss = 8.899e-02, grad_W = 1.63e-04, grad_l = 1.68e-04, l_rate = 1.00e-01\n",
      "it 1700, loss = 8.899e-02, grad_W = 1.74e-04, grad_l = 2.78e-04, l_rate = 1.00e-01\n",
      "it 1800, loss = 8.899e-02, grad_W = 1.61e-04, grad_l = 1.94e-04, l_rate = 1.00e-01\n",
      "it 1900, loss = 8.899e-02, grad_W = 1.55e-04, grad_l = 1.49e-04, l_rate = 1.00e-01\n",
      "it 2000, loss = 8.899e-02, grad_W = 1.60e-04, grad_l = 2.07e-04, l_rate = 1.00e-01\n",
      "0.0890818429726688\n"
     ]
    }
   ],
   "source": [
    "the_lambda = 0.9\n",
    "lista_one = LISTA(D, the_lambda, n_layers, fit_loss, reg, variables='both', learn_levels=True)\n",
    "print(lista_one.compute_loss(X_test))\n",
    "lista_one.fit(X_train, l_rate=1e-1, max_iter=2001, verbose=100, backtrack=True)\n",
    "print(lista_one.compute_loss(X_test))"
   ]
  },
  {
   "cell_type": "code",
   "execution_count": 16,
   "metadata": {},
   "outputs": [],
   "source": [
    "ista = LISTA(D, lbdas, n_layers, fit_loss, reg, variables='both', learn_levels=True)\n",
    "\n",
    "levels_function = {}\n",
    "for algo, name in zip([ista, lista, lista_one], ['ista', 'lista', 'lista_one']):\n",
    "    z_list = [algo.transform(X_test, lbda) for lbda in lbda_grid]\n",
    "    levels_function[name] = np.array([loss(z, X_test, D, lbda) - f_min\n",
    "                                        for z, lbda, f_min in zip(z_list, lbda_grid, f_min_list)])"
   ]
  },
  {
   "cell_type": "code",
   "execution_count": 17,
   "metadata": {},
   "outputs": [
    {
     "data": {
      "image/png": "[encoded data removed]",
      "text/plain": [
       "<Figure size 432x288 with 1 Axes>"
      ]
     },
     "metadata": {
      "needs_background": "light"
     },
     "output_type": "display_data"
    }
   ],
   "source": [
    "plt.loglog(lbda_grid, levels_function['ista'], label='P.G.D.')\n",
    "plt.loglog(lbda_grid, levels_function['lista_one'] , label='Learned with lambda=%.2e' % the_lambda)\n",
    "plt.loglog(lbda_grid, levels_function['lista'], label='Learned with all lambdas')\n",
    "#plt.loglog(new_lbdas, levels_function['lista_one'] / levels_function['lista'], label='f_lista_one - f* / f_lista - f*')\n",
    "for lbda in lbdas[:-1]:\n",
    "    plt.axvline(lbda, c='k', alpha=0.3)\n",
    "plt.axvline(lbdas[-1], c='k', alpha=0.3, label='learned lambdas')\n",
    "plt.axvline(lbda_max, c='k', label='lambda max')\n",
    "plt.axvline(the_lambda, c='r', alpha=0.3)\n",
    "plt.xlabel('lambda')\n",
    "plt.ylabel('f - f*')\n",
    "plt.xscale('linear')\n",
    "plt.title('Learned PGD with %d layers and %d lambdas learned' % (n_layers, n_lbdas))\n",
    "plt.legend()\n",
    "plt.savefig('multiple_lambdas.pdf')"
   ]
  },
  {
   "cell_type": "code",
   "execution_count": null,
   "metadata": {},
   "outputs": [],
   "source": []
  }
 ],
 "metadata": {
  "kernelspec": {
   "display_name": "Python 3",
   "language": "python",
   "name": "python3"
  },
  "language_info": {
   "codemirror_mode": {
    "name": "ipython",
    "version": 3
   },
   "file_extension": ".py",
   "mimetype": "text/x-python",
   "name": "python",
   "nbconvert_exporter": "python",
   "pygments_lexer": "ipython3",
   "version": "3.7.1"
  }
 },
 "nbformat": 4,
 "nbformat_minor": 2
}
