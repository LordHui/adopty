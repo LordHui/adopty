{
 "cells": [
  {
   "cell_type": "code",
   "execution_count": 227,
   "metadata": {},
   "outputs": [],
   "source": [
    "import numpy as np\n",
    "import matplotlib.pyplot as plt\n",
    "k = 2\n",
    "N = 10000\n",
    "x = np.random.randn(k, N)\n",
    "x /= np.linalg.norm(x, axis=0, keepdims=True)"
   ]
  },
  {
   "cell_type": "code",
   "execution_count": 228,
   "metadata": {},
   "outputs": [],
   "source": [
    "from cvxopt import matrix, solvers"
   ]
  },
  {
   "cell_type": "code",
   "execution_count": 229,
   "metadata": {},
   "outputs": [],
   "source": [
    "def sp(A, k):\n",
    "    p, _ = A.shape\n",
    "    c = matrix(-A.ravel())\n",
    "    Am = matrix(np.eye(p).reshape(1, p ** 2))\n",
    "    b = matrix(np.ones((1, 1)))\n",
    "    G = matrix(np.random.randn(p ** 2, p**2))\n",
    "    h = matrix(np.ones(p ** 2))\n",
    "    sol = solvers.conelp(c, G, h, A=Am, b=b)\n",
    "    return sol['x']"
   ]
  },
  {
   "cell_type": "code",
   "execution_count": 276,
   "metadata": {},
   "outputs": [
    {
     "data": {
      "text/plain": [
       "-9.582695716265503"
      ]
     },
     "execution_count": 276,
     "metadata": {},
     "output_type": "execute_result"
    }
   ],
   "source": [
    "import cvxpy as cp\n",
    "import numpy as np\n",
    "\n",
    "# Generate a random feasible SOCP.\n",
    "m = 3\n",
    "n = 10\n",
    "p = 5\n",
    "n_i = 5\n",
    "np.random.seed(2)\n",
    "f = np.random.randn(n)\n",
    "A = []\n",
    "b = []\n",
    "c = []\n",
    "d = []\n",
    "x0 = np.random.randn(n)\n",
    "for i in range(m):\n",
    "    A.append(np.random.randn(n_i, n))\n",
    "    b.append(np.random.randn(n_i))\n",
    "    c.append(np.random.randn(n))\n",
    "    d.append(np.linalg.norm(A[i]@x0 + b, 2) - c[i].T@x0)\n",
    "F = np.random.randn(p, n)\n",
    "g = F@x0\n",
    "\n",
    "# Define and solve the CVXPY problem.\n",
    "x = cp.Variable(n)\n",
    "# We use cp.SOC(t, x) to create the SOC constraint ||x||_2 <= t.\n",
    "soc_constraints = [\n",
    "      cp.SOC(c[i].T@x + d[i], A[i]@x + b[i]) for i in range(m)\n",
    "]\n",
    "prob = cp.Problem(cp.Minimize(f.T@x),\n",
    "                  soc_constraints + [F@x == g])\n",
    "prob.solve()"
   ]
  },
  {
   "cell_type": "code",
   "execution_count": 277,
   "metadata": {},
   "outputs": [
    {
     "data": {
      "text/plain": [
       "[(Expression(AFFINE, UNKNOWN, ()), Expression(AFFINE, UNKNOWN, (5,))),\n",
       " (Expression(AFFINE, UNKNOWN, ()), Expression(AFFINE, UNKNOWN, (5,))),\n",
       " (Expression(AFFINE, UNKNOWN, ()), Expression(AFFINE, UNKNOWN, (5,)))]"
      ]
     },
     "execution_count": 277,
     "metadata": {},
     "output_type": "execute_result"
    }
   ],
   "source": [
    "[(c[i].T@x + d[i], A[i]@x + b[i]) for i in range(m)]"
   ]
  },
  {
   "cell_type": "code",
   "execution_count": 331,
   "metadata": {},
   "outputs": [],
   "source": [
    "import cvxpy as cp\n",
    "\n",
    "\n",
    "def sp(A, lbda):\n",
    "    p, _ = A.shape\n",
    "    x = cp.Variable(p)\n",
    "    prob = cp.Problem(cp.Maximize(cp.quad_form(x, A) + lbda * cp.norm1(x)), [cp.SOC(x, cp.Constant(1))])\n",
    "    prob.solve()\n",
    "    return x.value"
   ]
  },
  {
   "cell_type": "code",
   "execution_count": 330,
   "metadata": {
    "scrolled": false
   },
   "outputs": [
    {
     "ename": "DCPError",
     "evalue": "Problem does not follow DCP rules. However, the problem does follow DGP rules. Consider calling this function with `gp=True`.",
     "output_type": "error",
     "traceback": [
      "\u001b[0;31m---------------------------------------------------------------------------\u001b[0m",
      "\u001b[0;31mDCPError\u001b[0m                                  Traceback (most recent call last)",
      "\u001b[0;32m<ipython-input-330-8db5f7d7ceda>\u001b[0m in \u001b[0;36m<module>\u001b[0;34m\u001b[0m\n\u001b[0;32m----> 1\u001b[0;31m \u001b[0msp\u001b[0m\u001b[0;34m(\u001b[0m\u001b[0mG\u001b[0m\u001b[0;34m,\u001b[0m \u001b[0;36m1.\u001b[0m\u001b[0;34m)\u001b[0m\u001b[0;34m\u001b[0m\u001b[0;34m\u001b[0m\u001b[0m\n\u001b[0m",
      "\u001b[0;32m<ipython-input-329-328a6a2b13db>\u001b[0m in \u001b[0;36msp\u001b[0;34m(A, lbda)\u001b[0m\n\u001b[1;32m      7\u001b[0m     \u001b[0mx\u001b[0m \u001b[0;34m=\u001b[0m \u001b[0mcp\u001b[0m\u001b[0;34m.\u001b[0m\u001b[0mVariable\u001b[0m\u001b[0;34m(\u001b[0m\u001b[0mp\u001b[0m\u001b[0;34m)\u001b[0m\u001b[0;34m\u001b[0m\u001b[0;34m\u001b[0m\u001b[0m\n\u001b[1;32m      8\u001b[0m     \u001b[0mprob\u001b[0m \u001b[0;34m=\u001b[0m \u001b[0mcp\u001b[0m\u001b[0;34m.\u001b[0m\u001b[0mProblem\u001b[0m\u001b[0;34m(\u001b[0m\u001b[0mcp\u001b[0m\u001b[0;34m.\u001b[0m\u001b[0mMaximize\u001b[0m\u001b[0;34m(\u001b[0m\u001b[0mcp\u001b[0m\u001b[0;34m.\u001b[0m\u001b[0mquad_form\u001b[0m\u001b[0;34m(\u001b[0m\u001b[0mx\u001b[0m\u001b[0;34m,\u001b[0m \u001b[0mA\u001b[0m\u001b[0;34m)\u001b[0m \u001b[0;34m+\u001b[0m \u001b[0mlbda\u001b[0m \u001b[0;34m*\u001b[0m \u001b[0mcp\u001b[0m\u001b[0;34m.\u001b[0m\u001b[0mnorm1\u001b[0m\u001b[0;34m(\u001b[0m\u001b[0mx\u001b[0m\u001b[0;34m)\u001b[0m\u001b[0;34m)\u001b[0m\u001b[0;34m,\u001b[0m \u001b[0;34m[\u001b[0m\u001b[0mcp\u001b[0m\u001b[0;34m.\u001b[0m\u001b[0mSOC\u001b[0m\u001b[0;34m(\u001b[0m\u001b[0mx\u001b[0m\u001b[0;34m,\u001b[0m \u001b[0mcp\u001b[0m\u001b[0;34m.\u001b[0m\u001b[0mConstant\u001b[0m\u001b[0;34m(\u001b[0m\u001b[0;36m1\u001b[0m\u001b[0;34m)\u001b[0m\u001b[0;34m)\u001b[0m\u001b[0;34m]\u001b[0m\u001b[0;34m)\u001b[0m\u001b[0;34m\u001b[0m\u001b[0;34m\u001b[0m\u001b[0m\n\u001b[0;32m----> 9\u001b[0;31m     \u001b[0mprob\u001b[0m\u001b[0;34m.\u001b[0m\u001b[0msolve\u001b[0m\u001b[0;34m(\u001b[0m\u001b[0;34m)\u001b[0m\u001b[0;34m\u001b[0m\u001b[0;34m\u001b[0m\u001b[0m\n\u001b[0m\u001b[1;32m     10\u001b[0m     \u001b[0;32mreturn\u001b[0m \u001b[0mx\u001b[0m\u001b[0;34m.\u001b[0m\u001b[0mvalue\u001b[0m\u001b[0;34m\u001b[0m\u001b[0;34m\u001b[0m\u001b[0m\n",
      "\u001b[0;32m~/anaconda3/lib/python3.7/site-packages/cvxpy/problems/problem.py\u001b[0m in \u001b[0;36msolve\u001b[0;34m(self, *args, **kwargs)\u001b[0m\n\u001b[1;32m    269\u001b[0m         \u001b[0;32melse\u001b[0m\u001b[0;34m:\u001b[0m\u001b[0;34m\u001b[0m\u001b[0;34m\u001b[0m\u001b[0m\n\u001b[1;32m    270\u001b[0m             \u001b[0msolve_func\u001b[0m \u001b[0;34m=\u001b[0m \u001b[0mProblem\u001b[0m\u001b[0;34m.\u001b[0m\u001b[0m_solve\u001b[0m\u001b[0;34m\u001b[0m\u001b[0;34m\u001b[0m\u001b[0m\n\u001b[0;32m--> 271\u001b[0;31m         \u001b[0;32mreturn\u001b[0m \u001b[0msolve_func\u001b[0m\u001b[0;34m(\u001b[0m\u001b[0mself\u001b[0m\u001b[0;34m,\u001b[0m \u001b[0;34m*\u001b[0m\u001b[0margs\u001b[0m\u001b[0;34m,\u001b[0m \u001b[0;34m**\u001b[0m\u001b[0mkwargs\u001b[0m\u001b[0;34m)\u001b[0m\u001b[0;34m\u001b[0m\u001b[0;34m\u001b[0m\u001b[0m\n\u001b[0m\u001b[1;32m    272\u001b[0m \u001b[0;34m\u001b[0m\u001b[0m\n\u001b[1;32m    273\u001b[0m     \u001b[0;34m@\u001b[0m\u001b[0mclassmethod\u001b[0m\u001b[0;34m\u001b[0m\u001b[0;34m\u001b[0m\u001b[0m\n",
      "\u001b[0;32m~/anaconda3/lib/python3.7/site-packages/cvxpy/problems/problem.py\u001b[0m in \u001b[0;36m_solve\u001b[0;34m(self, solver, warm_start, verbose, parallel, gp, **kwargs)\u001b[0m\n\u001b[1;32m    491\u001b[0m                                             verbose, **kwargs)\n\u001b[1;32m    492\u001b[0m \u001b[0;34m\u001b[0m\u001b[0m\n\u001b[0;32m--> 493\u001b[0;31m         \u001b[0mself\u001b[0m\u001b[0;34m.\u001b[0m\u001b[0m_construct_chains\u001b[0m\u001b[0;34m(\u001b[0m\u001b[0msolver\u001b[0m\u001b[0;34m=\u001b[0m\u001b[0msolver\u001b[0m\u001b[0;34m,\u001b[0m \u001b[0mgp\u001b[0m\u001b[0;34m=\u001b[0m\u001b[0mgp\u001b[0m\u001b[0;34m)\u001b[0m\u001b[0;34m\u001b[0m\u001b[0;34m\u001b[0m\u001b[0m\n\u001b[0m\u001b[1;32m    494\u001b[0m \u001b[0;34m\u001b[0m\u001b[0m\n\u001b[1;32m    495\u001b[0m         \u001b[0mdata\u001b[0m\u001b[0;34m,\u001b[0m \u001b[0msolving_inverse_data\u001b[0m \u001b[0;34m=\u001b[0m\u001b[0;31m \u001b[0m\u001b[0;31m\\\u001b[0m\u001b[0;34m\u001b[0m\u001b[0;34m\u001b[0m\u001b[0m\n",
      "\u001b[0;32m~/anaconda3/lib/python3.7/site-packages/cvxpy/problems/problem.py\u001b[0m in \u001b[0;36m_construct_chains\u001b[0;34m(self, solver, gp)\u001b[0m\n\u001b[1;32m    448\u001b[0m \u001b[0;34m\u001b[0m\u001b[0m\n\u001b[1;32m    449\u001b[0m             \u001b[0;32mexcept\u001b[0m \u001b[0mException\u001b[0m \u001b[0;32mas\u001b[0m \u001b[0me\u001b[0m\u001b[0;34m:\u001b[0m\u001b[0;34m\u001b[0m\u001b[0;34m\u001b[0m\u001b[0m\n\u001b[0;32m--> 450\u001b[0;31m                 \u001b[0;32mraise\u001b[0m \u001b[0me\u001b[0m\u001b[0;34m\u001b[0m\u001b[0;34m\u001b[0m\u001b[0m\n\u001b[0m\u001b[1;32m    451\u001b[0m \u001b[0;34m\u001b[0m\u001b[0m\n\u001b[1;32m    452\u001b[0m     def _solve(self,\n",
      "\u001b[0;32m~/anaconda3/lib/python3.7/site-packages/cvxpy/problems/problem.py\u001b[0m in \u001b[0;36m_construct_chains\u001b[0;34m(self, solver, gp)\u001b[0m\n\u001b[1;32m    437\u001b[0m \u001b[0;34m\u001b[0m\u001b[0m\n\u001b[1;32m    438\u001b[0m                 \u001b[0mself\u001b[0m\u001b[0;34m.\u001b[0m\u001b[0m_intermediate_chain\u001b[0m \u001b[0;34m=\u001b[0m\u001b[0;31m \u001b[0m\u001b[0;31m\\\u001b[0m\u001b[0;34m\u001b[0m\u001b[0;34m\u001b[0m\u001b[0m\n\u001b[0;32m--> 439\u001b[0;31m                     \u001b[0mconstruct_intermediate_chain\u001b[0m\u001b[0;34m(\u001b[0m\u001b[0mself\u001b[0m\u001b[0;34m,\u001b[0m \u001b[0mcandidate_solvers\u001b[0m\u001b[0;34m,\u001b[0m \u001b[0mgp\u001b[0m\u001b[0;34m=\u001b[0m\u001b[0mgp\u001b[0m\u001b[0;34m)\u001b[0m\u001b[0;34m\u001b[0m\u001b[0;34m\u001b[0m\u001b[0m\n\u001b[0m\u001b[1;32m    440\u001b[0m                 \u001b[0mself\u001b[0m\u001b[0;34m.\u001b[0m\u001b[0m_intermediate_problem\u001b[0m\u001b[0;34m,\u001b[0m \u001b[0mself\u001b[0m\u001b[0;34m.\u001b[0m\u001b[0m_intermediate_inverse_data\u001b[0m \u001b[0;34m=\u001b[0m\u001b[0;31m \u001b[0m\u001b[0;31m\\\u001b[0m\u001b[0;34m\u001b[0m\u001b[0;34m\u001b[0m\u001b[0m\n\u001b[1;32m    441\u001b[0m                     \u001b[0mself\u001b[0m\u001b[0;34m.\u001b[0m\u001b[0m_intermediate_chain\u001b[0m\u001b[0;34m.\u001b[0m\u001b[0mapply\u001b[0m\u001b[0;34m(\u001b[0m\u001b[0mself\u001b[0m\u001b[0;34m)\u001b[0m\u001b[0;34m\u001b[0m\u001b[0;34m\u001b[0m\u001b[0m\n",
      "\u001b[0;32m~/anaconda3/lib/python3.7/site-packages/cvxpy/reductions/solvers/intermediate_chain.py\u001b[0m in \u001b[0;36mconstruct_intermediate_chain\u001b[0;34m(problem, candidates, gp)\u001b[0m\n\u001b[1;32m     50\u001b[0m         append = (\" However, the problem does follow DGP rules. \"\n\u001b[1;32m     51\u001b[0m                   \"Consider calling this function with `gp=True`.\")\n\u001b[0;32m---> 52\u001b[0;31m         \u001b[0;32mraise\u001b[0m \u001b[0mDCPError\u001b[0m\u001b[0;34m(\u001b[0m\u001b[0;34m\"Problem does not follow DCP rules.\"\u001b[0m \u001b[0;34m+\u001b[0m \u001b[0mappend\u001b[0m\u001b[0;34m)\u001b[0m\u001b[0;34m\u001b[0m\u001b[0;34m\u001b[0m\u001b[0m\n\u001b[0m\u001b[1;32m     53\u001b[0m \u001b[0;34m\u001b[0m\u001b[0m\n\u001b[1;32m     54\u001b[0m     \u001b[0;32melif\u001b[0m \u001b[0mgp\u001b[0m \u001b[0;32mand\u001b[0m \u001b[0;32mnot\u001b[0m \u001b[0mproblem\u001b[0m\u001b[0;34m.\u001b[0m\u001b[0mis_dgp\u001b[0m\u001b[0;34m(\u001b[0m\u001b[0;34m)\u001b[0m\u001b[0;34m:\u001b[0m\u001b[0;34m\u001b[0m\u001b[0;34m\u001b[0m\u001b[0m\n",
      "\u001b[0;31mDCPError\u001b[0m: Problem does not follow DCP rules. However, the problem does follow DGP rules. Consider calling this function with `gp=True`."
     ]
    }
   ],
   "source": [
    "sp(G, 1.)"
   ]
  },
  {
   "cell_type": "code",
   "execution_count": 300,
   "metadata": {},
   "outputs": [],
   "source": [
    "def sp(A, k):\n",
    "    p, _ = A.shape\n",
    "    c = matrix(-A.ravel())\n",
    "    Am = matrix(np.eye(p).reshape(1, p ** 2))\n",
    "    b = matrix(np.ones((1, 1)))\n",
    "    G = matrix(np.random.randn(p ** 2, p**2))\n",
    "    h = matrix(np.ones(p ** 2))\n",
    "    sol = solvers.conelp(c, G, h, A=Am, b=b)\n",
    "    return sol['x']"
   ]
  },
  {
   "cell_type": "code",
   "execution_count": 253,
   "metadata": {
    "scrolled": false
   },
   "outputs": [
    {
     "ename": "AttributeError",
     "evalue": "'int' object has no attribute 'shape'",
     "output_type": "error",
     "traceback": [
      "\u001b[0;31m---------------------------------------------------------------------------\u001b[0m",
      "\u001b[0;31mAttributeError\u001b[0m                            Traceback (most recent call last)",
      "\u001b[0;32m<ipython-input-253-7494afd6a63b>\u001b[0m in \u001b[0;36m<module>\u001b[0;34m\u001b[0m\n\u001b[1;32m      2\u001b[0m \u001b[0mG\u001b[0m \u001b[0;34m=\u001b[0m \u001b[0mnp\u001b[0m\u001b[0;34m.\u001b[0m\u001b[0mrandom\u001b[0m\u001b[0;34m.\u001b[0m\u001b[0mrandn\u001b[0m\u001b[0;34m(\u001b[0m\u001b[0mk\u001b[0m\u001b[0;34m,\u001b[0m \u001b[0mk\u001b[0m\u001b[0;34m)\u001b[0m\u001b[0;34m\u001b[0m\u001b[0;34m\u001b[0m\u001b[0m\n\u001b[1;32m      3\u001b[0m \u001b[0mG\u001b[0m \u001b[0;34m=\u001b[0m \u001b[0mG\u001b[0m\u001b[0;34m.\u001b[0m\u001b[0mdot\u001b[0m\u001b[0;34m(\u001b[0m\u001b[0mG\u001b[0m\u001b[0;34m.\u001b[0m\u001b[0mT\u001b[0m\u001b[0;34m)\u001b[0m\u001b[0;34m\u001b[0m\u001b[0;34m\u001b[0m\u001b[0m\n\u001b[0;32m----> 4\u001b[0;31m \u001b[0mx\u001b[0m \u001b[0;34m=\u001b[0m \u001b[0mnp\u001b[0m\u001b[0;34m.\u001b[0m\u001b[0marray\u001b[0m\u001b[0;34m(\u001b[0m\u001b[0msp\u001b[0m\u001b[0;34m(\u001b[0m\u001b[0mG\u001b[0m\u001b[0;34m,\u001b[0m \u001b[0;36m1\u001b[0m\u001b[0;34m)\u001b[0m\u001b[0;34m)\u001b[0m\u001b[0;34m[\u001b[0m\u001b[0;34m:\u001b[0m\u001b[0;34m,\u001b[0m \u001b[0;36m0\u001b[0m\u001b[0;34m]\u001b[0m\u001b[0;34m.\u001b[0m\u001b[0mreshape\u001b[0m\u001b[0;34m(\u001b[0m\u001b[0mk\u001b[0m\u001b[0;34m,\u001b[0m \u001b[0mk\u001b[0m\u001b[0;34m)\u001b[0m\u001b[0;34m\u001b[0m\u001b[0;34m\u001b[0m\u001b[0m\n\u001b[0m",
      "\u001b[0;32m<ipython-input-250-3f89a97fca39>\u001b[0m in \u001b[0;36msp\u001b[0;34m(A, lbda)\u001b[0m\n\u001b[1;32m      6\u001b[0m     \u001b[0mp\u001b[0m\u001b[0;34m,\u001b[0m \u001b[0m_\u001b[0m \u001b[0;34m=\u001b[0m \u001b[0mA\u001b[0m\u001b[0;34m.\u001b[0m\u001b[0mshape\u001b[0m\u001b[0;34m\u001b[0m\u001b[0;34m\u001b[0m\u001b[0m\n\u001b[1;32m      7\u001b[0m     \u001b[0mx\u001b[0m \u001b[0;34m=\u001b[0m \u001b[0mcp\u001b[0m\u001b[0;34m.\u001b[0m\u001b[0mVariable\u001b[0m\u001b[0;34m(\u001b[0m\u001b[0mp\u001b[0m\u001b[0;34m)\u001b[0m\u001b[0;34m\u001b[0m\u001b[0;34m\u001b[0m\u001b[0m\n\u001b[0;32m----> 8\u001b[0;31m     \u001b[0mprob\u001b[0m \u001b[0;34m=\u001b[0m \u001b[0mcp\u001b[0m\u001b[0;34m.\u001b[0m\u001b[0mProblem\u001b[0m\u001b[0;34m(\u001b[0m\u001b[0mcp\u001b[0m\u001b[0;34m.\u001b[0m\u001b[0mMaximize\u001b[0m\u001b[0;34m(\u001b[0m\u001b[0mcp\u001b[0m\u001b[0;34m.\u001b[0m\u001b[0mquad_form\u001b[0m\u001b[0;34m(\u001b[0m\u001b[0mx\u001b[0m\u001b[0;34m,\u001b[0m \u001b[0mA\u001b[0m\u001b[0;34m)\u001b[0m \u001b[0;34m+\u001b[0m \u001b[0mlbda\u001b[0m \u001b[0;34m*\u001b[0m \u001b[0mcp\u001b[0m\u001b[0;34m.\u001b[0m\u001b[0mnorm1\u001b[0m\u001b[0;34m(\u001b[0m\u001b[0mx\u001b[0m\u001b[0;34m)\u001b[0m\u001b[0;34m)\u001b[0m\u001b[0;34m,\u001b[0m \u001b[0;34m[\u001b[0m\u001b[0mcp\u001b[0m\u001b[0;34m.\u001b[0m\u001b[0mSOC\u001b[0m\u001b[0;34m(\u001b[0m\u001b[0;36m1\u001b[0m\u001b[0;34m,\u001b[0m \u001b[0mx\u001b[0m\u001b[0;34m)\u001b[0m\u001b[0;34m]\u001b[0m\u001b[0;34m)\u001b[0m\u001b[0;34m\u001b[0m\u001b[0;34m\u001b[0m\u001b[0m\n\u001b[0m\u001b[1;32m      9\u001b[0m     \u001b[0mprob\u001b[0m\u001b[0;34m.\u001b[0m\u001b[0msolve\u001b[0m\u001b[0;34m(\u001b[0m\u001b[0mgp\u001b[0m\u001b[0;34m=\u001b[0m\u001b[0;32mTrue\u001b[0m\u001b[0;34m)\u001b[0m\u001b[0;34m\u001b[0m\u001b[0;34m\u001b[0m\u001b[0m\n",
      "\u001b[0;32m~/anaconda3/lib/python3.7/site-packages/cvxpy/constraints/second_order.py\u001b[0m in \u001b[0;36m__init__\u001b[0;34m(self, t, X, axis, constr_id)\u001b[0m\n\u001b[1;32m     36\u001b[0m     \u001b[0;32mdef\u001b[0m \u001b[0m__init__\u001b[0m\u001b[0;34m(\u001b[0m\u001b[0mself\u001b[0m\u001b[0;34m,\u001b[0m \u001b[0mt\u001b[0m\u001b[0;34m,\u001b[0m \u001b[0mX\u001b[0m\u001b[0;34m,\u001b[0m \u001b[0maxis\u001b[0m\u001b[0;34m=\u001b[0m\u001b[0;36m0\u001b[0m\u001b[0;34m,\u001b[0m \u001b[0mconstr_id\u001b[0m\u001b[0;34m=\u001b[0m\u001b[0;32mNone\u001b[0m\u001b[0;34m)\u001b[0m\u001b[0;34m:\u001b[0m\u001b[0;34m\u001b[0m\u001b[0;34m\u001b[0m\u001b[0m\n\u001b[1;32m     37\u001b[0m         \u001b[0;31m# TODO allow imaginary X.\u001b[0m\u001b[0;34m\u001b[0m\u001b[0;34m\u001b[0m\u001b[0;34m\u001b[0m\u001b[0m\n\u001b[0;32m---> 38\u001b[0;31m         \u001b[0;32massert\u001b[0m \u001b[0;32mnot\u001b[0m \u001b[0mt\u001b[0m\u001b[0;34m.\u001b[0m\u001b[0mshape\u001b[0m \u001b[0;32mor\u001b[0m \u001b[0mlen\u001b[0m\u001b[0;34m(\u001b[0m\u001b[0mt\u001b[0m\u001b[0;34m.\u001b[0m\u001b[0mshape\u001b[0m\u001b[0;34m)\u001b[0m \u001b[0;34m==\u001b[0m \u001b[0;36m1\u001b[0m\u001b[0;34m\u001b[0m\u001b[0;34m\u001b[0m\u001b[0m\n\u001b[0m\u001b[1;32m     39\u001b[0m         \u001b[0mself\u001b[0m\u001b[0;34m.\u001b[0m\u001b[0maxis\u001b[0m \u001b[0;34m=\u001b[0m \u001b[0maxis\u001b[0m\u001b[0;34m\u001b[0m\u001b[0;34m\u001b[0m\u001b[0m\n\u001b[1;32m     40\u001b[0m         \u001b[0msuper\u001b[0m\u001b[0;34m(\u001b[0m\u001b[0mSOC\u001b[0m\u001b[0;34m,\u001b[0m \u001b[0mself\u001b[0m\u001b[0;34m)\u001b[0m\u001b[0;34m.\u001b[0m\u001b[0m__init__\u001b[0m\u001b[0;34m(\u001b[0m\u001b[0;34m[\u001b[0m\u001b[0mt\u001b[0m\u001b[0;34m,\u001b[0m \u001b[0mX\u001b[0m\u001b[0;34m]\u001b[0m\u001b[0;34m,\u001b[0m \u001b[0mconstr_id\u001b[0m\u001b[0;34m)\u001b[0m\u001b[0;34m\u001b[0m\u001b[0;34m\u001b[0m\u001b[0m\n",
      "\u001b[0;31mAttributeError\u001b[0m: 'int' object has no attribute 'shape'"
     ]
    }
   ],
   "source": [
    "k = 2\n",
    "G = np.random.randn(k, k)\n",
    "G = G.dot(G.T)\n",
    "x = np.array(sp(G, 1))[:, 0].reshape(k, k)"
   ]
  },
  {
   "cell_type": "code",
   "execution_count": 226,
   "metadata": {},
   "outputs": [
    {
     "data": {
      "text/plain": [
       "0.9999999999999922"
      ]
     },
     "execution_count": 226,
     "metadata": {},
     "output_type": "execute_result"
    }
   ],
   "source": [
    "np.trace(x)"
   ]
  },
  {
   "cell_type": "code",
   "execution_count": 117,
   "metadata": {},
   "outputs": [],
   "source": [
    "def sp(G, alpha, max_iter=100):\n",
    "    G_i = np.linalg.pinv(G)\n",
    "    p, _ = G.shape\n",
    "    x = np.ones(p)\n",
    "    for i in range(max_iter):\n",
    "        x = np.sign(x) * np.abs(x) ** (alpha - 1)\n",
    "        x = G_i.dot(x)\n",
    "        x /= np.sum(np.abs(x) ** alpha) ** (1 / alpha)\n",
    "        print(x.dot(G_i.dot(x)))\n",
    "    return x\n",
    "        "
   ]
  },
  {
   "cell_type": "code",
   "execution_count": 180,
   "metadata": {},
   "outputs": [],
   "source": []
  },
  {
   "cell_type": "code",
   "execution_count": 127,
   "metadata": {},
   "outputs": [
    {
     "data": {
      "text/plain": [
       "array([6.14437969e-04, 1.01416086e+00, 1.31353138e+00, 2.99406693e+00,\n",
       "       5.45397511e+00, 1.05300420e+01, 1.12084235e+01, 1.79393738e+01,\n",
       "       1.92114856e+01, 2.36238581e+01])"
      ]
     },
     "execution_count": 127,
     "metadata": {},
     "output_type": "execute_result"
    }
   ],
   "source": [
    "np.linalg.eigvalsh(G)"
   ]
  },
  {
   "cell_type": "code",
   "execution_count": 129,
   "metadata": {
    "scrolled": false
   },
   "outputs": [
    {
     "name": "stdout",
     "output_type": "stream",
     "text": [
      "18.107740805309042\n",
      "18.749781697106883\n",
      "18.97520051423207\n",
      "19.063509808083914\n",
      "19.102809856555204\n",
      "19.124483505823306\n",
      "19.13976348875825\n",
      "19.152875565390072\n",
      "19.16573885545987\n",
      "19.179667172947507\n",
      "19.196051263057246\n",
      "19.216729831697656\n",
      "19.244307335188765\n",
      "19.282515970353707\n",
      "19.336647380161935\n",
      "19.414011261709938\n",
      "19.524262269860778\n",
      "19.679239451851554\n",
      "19.89170935803956\n",
      "20.172296098185043\n",
      "20.524406207594772\n",
      "20.93861116614046\n",
      "21.390127307705235\n",
      "21.843099653494292\n",
      "22.261161182246525\n",
      "22.61830292753981\n",
      "22.90379746237747\n",
      "23.120142645063066\n",
      "23.27754173583517\n",
      "23.38869432407242\n",
      "23.46554859861301\n",
      "23.51791627561373\n",
      "23.55324485480635\n",
      "23.576918632845683\n",
      "23.592711265392303\n",
      "23.60321494632119\n",
      "23.610187112094856\n",
      "23.614809070491\n",
      "23.61787040718869\n",
      "23.61989693119674\n",
      "23.621237944525763\n",
      "23.622125123385324\n",
      "23.622711967650137\n",
      "23.623100111111206\n",
      "23.62335681661041\n",
      "23.62352658694278\n",
      "23.623638860831512\n",
      "23.623713109779207\n",
      "23.62376221176857\n",
      "23.62379468359991\n",
      "23.623816157671314\n",
      "23.62383035878821\n",
      "23.623839750211737\n",
      "23.623845960922587\n",
      "23.62385006818262\n",
      "23.623852784397172\n",
      "23.623854580688914\n",
      "23.623855768618064\n",
      "23.62385655422441\n",
      "23.62385707376577\n",
      "23.623857417352127\n",
      "23.62385764457508\n",
      "23.623857794843964\n",
      "23.623857894221068\n",
      "23.623857959942022\n",
      "23.623858003405246\n",
      "23.623858032148775\n",
      "23.623858051157747\n",
      "23.62385806372897\n",
      "23.623858072042697\n",
      "23.623858077540845\n",
      "23.623858081176934\n",
      "23.623858083581588\n",
      "23.62385808517188\n",
      "23.623858086223578\n",
      "23.6238580869191\n",
      "23.62385808737907\n",
      "23.62385808768326\n",
      "23.62385808788445\n",
      "23.623858088017485\n",
      "23.62385808810547\n",
      "23.623858088163665\n",
      "23.623858088202127\n",
      "23.62385808822759\n",
      "23.62385808824442\n",
      "23.62385808825555\n",
      "23.623858088262907\n",
      "23.623858088267777\n",
      "23.623858088271\n",
      "23.623858088273135\n",
      "23.623858088274538\n",
      "23.62385808827547\n",
      "23.62385808827608\n",
      "23.6238580882765\n",
      "23.623858088276755\n",
      "23.62385808827694\n",
      "23.623858088277046\n",
      "23.62385808827713\n",
      "23.62385808827718\n",
      "23.623858088277217\n",
      "23.62385808827724\n",
      "23.623858088277256\n",
      "23.623858088277267\n",
      "23.623858088277274\n",
      "23.62385808827728\n",
      "23.623858088277274\n",
      "23.623858088277274\n",
      "23.623858088277277\n",
      "23.623858088277284\n",
      "23.623858088277284\n",
      "23.62385808827728\n",
      "23.623858088277274\n",
      "23.623858088277288\n",
      "23.62385808827728\n",
      "23.623858088277284\n",
      "23.62385808827728\n",
      "23.62385808827729\n",
      "23.623858088277288\n",
      "23.623858088277284\n",
      "23.62385808827728\n",
      "23.623858088277284\n",
      "23.623858088277284\n",
      "23.62385808827728\n",
      "23.623858088277277\n",
      "23.623858088277288\n",
      "23.623858088277288\n",
      "23.62385808827728\n",
      "23.623858088277288\n",
      "23.62385808827728\n",
      "23.623858088277274\n",
      "23.623858088277284\n",
      "23.623858088277284\n",
      "23.623858088277288\n",
      "23.623858088277277\n",
      "23.623858088277288\n",
      "23.623858088277288\n",
      "23.623858088277284\n",
      "23.62385808827728\n",
      "23.623858088277288\n",
      "23.623858088277288\n",
      "23.62385808827728\n",
      "23.623858088277277\n",
      "23.623858088277284\n",
      "23.62385808827728\n",
      "23.623858088277288\n",
      "23.62385808827729\n",
      "23.623858088277284\n",
      "23.62385808827728\n",
      "23.623858088277288\n",
      "23.62385808827728\n",
      "23.623858088277288\n",
      "23.62385808827728\n",
      "23.623858088277295\n",
      "23.623858088277288\n",
      "23.62385808827728\n",
      "23.623858088277284\n",
      "23.623858088277277\n",
      "23.623858088277288\n",
      "23.623858088277288\n",
      "23.62385808827728\n",
      "23.623858088277288\n",
      "23.62385808827728\n",
      "23.62385808827729\n",
      "23.623858088277288\n",
      "23.62385808827728\n",
      "23.623858088277288\n",
      "23.623858088277288\n",
      "23.623858088277284\n",
      "23.62385808827729\n",
      "23.623858088277288\n",
      "23.623858088277277\n",
      "23.623858088277288\n",
      "23.62385808827729\n",
      "23.623858088277284\n",
      "23.623858088277284\n",
      "23.623858088277288\n",
      "23.62385808827728\n",
      "23.62385808827728\n",
      "23.623858088277284\n",
      "23.62385808827728\n",
      "23.623858088277288\n",
      "23.623858088277288\n",
      "23.623858088277288\n",
      "23.62385808827728\n",
      "23.623858088277284\n",
      "23.62385808827729\n",
      "23.623858088277284\n",
      "23.623858088277284\n",
      "23.623858088277288\n",
      "23.623858088277284\n",
      "23.62385808827728\n",
      "23.623858088277284\n",
      "23.62385808827728\n",
      "23.62385808827728\n",
      "23.62385808827728\n",
      "23.62385808827728\n",
      "23.62385808827728\n",
      "23.62385808827728\n",
      "23.62385808827728\n",
      "23.62385808827728\n"
     ]
    },
    {
     "data": {
      "text/plain": [
       "array([-0.16267914, -0.47880124, -0.05331004,  0.38952694,  0.37852062,\n",
       "       -0.29720779,  0.45617844, -0.32991637,  0.18884932, -0.07411946])"
      ]
     },
     "execution_count": 129,
     "metadata": {},
     "output_type": "execute_result"
    }
   ],
   "source": [
    "sp(np.linalg.pinv(G), 2, 200)"
   ]
  },
  {
   "cell_type": "code",
   "execution_count": 45,
   "metadata": {
    "scrolled": true
   },
   "outputs": [
    {
     "name": "stdout",
     "output_type": "stream",
     "text": [
      "1.8025009252216604\n",
      "1.8025009252142632\n"
     ]
    },
    {
     "data": {
      "image/png": "[encoded data removed]",
      "text/plain": [
       "<Figure size 432x288 with 1 Axes>"
      ]
     },
     "metadata": {
      "needs_background": "light"
     },
     "output_type": "display_data"
    }
   ],
   "source": [
    "alpha = 0.3\n",
    "\n",
    "s = np.sum(np.abs(x) ** alpha, axis=0)\n",
    "plt.plot(np.sort(s))\n",
    "print(k ** (1 - alpha / 2))\n",
    "print(s.max())"
   ]
  },
  {
   "cell_type": "code",
   "execution_count": 41,
   "metadata": {},
   "outputs": [],
   "source": [
    "alpha = 0.1\n",
    "x = np.random.randn(k, N)\n",
    "s = np.sum(np.abs(x) ** alpha, axis=0) ** (1 / alpha)\n",
    "x /= s\n",
    "x *= k ** (1 / alpha - 1 / 2)\n"
   ]
  },
  {
   "cell_type": "code",
   "execution_count": 42,
   "metadata": {},
   "outputs": [
    {
     "data": {
      "text/plain": [
       "array([[1.30159872e+03, 7.31923082e+02, 5.98779747e+02, ...,\n",
       "        1.02279515e+00, 5.65336135e+02, 7.04200661e+02]])"
      ]
     },
     "execution_count": 42,
     "metadata": {},
     "output_type": "execute_result"
    }
   ],
   "source": [
    "s2"
   ]
  },
  {
   "cell_type": "code",
   "execution_count": 43,
   "metadata": {},
   "outputs": [
    {
     "data": {
      "text/plain": [
       "<matplotlib.collections.PathCollection at 0x7f4aca9e70f0>"
      ]
     },
     "execution_count": 43,
     "metadata": {},
     "output_type": "execute_result"
    },
    {
     "data": {
      "image/png": "[encoded data removed]",
      "text/plain": [
       "<Figure size 432x288 with 1 Axes>"
      ]
     },
     "metadata": {
      "needs_background": "light"
     },
     "output_type": "display_data"
    }
   ],
   "source": [
    "plt.scatter(x[0], x[1])"
   ]
  },
  {
   "cell_type": "code",
   "execution_count": null,
   "metadata": {},
   "outputs": [],
   "source": []
  }
 ],
 "metadata": {
  "kernelspec": {
   "display_name": "Python 3",
   "language": "python",
   "name": "python3"
  },
  "language_info": {
   "codemirror_mode": {
    "name": "ipython",
    "version": 3
   },
   "file_extension": ".py",
   "mimetype": "text/x-python",
   "name": "python",
   "nbconvert_exporter": "python",
   "pygments_lexer": "ipython3",
   "version": "3.7.1"
  }
 },
 "nbformat": 4,
 "nbformat_minor": 2
}
