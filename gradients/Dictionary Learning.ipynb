{
 "cells": [
  {
   "cell_type": "code",
   "execution_count": 1,
   "metadata": {},
   "outputs": [],
   "source": [
    "import numpy as np\n",
    "\n",
    "from sklearn.datasets import load_digits\n",
    "from sklearn.decomposition import DictionaryLearning\n",
    "\n",
    "from adopty.lista import Lista"
   ]
  },
  {
   "cell_type": "code",
   "execution_count": 2,
   "metadata": {},
   "outputs": [],
   "source": [
    "# Parameters\n",
    "\n",
    "n_components = 20\n",
    "lmbd = .3"
   ]
  },
  {
   "cell_type": "code",
   "execution_count": 3,
   "metadata": {},
   "outputs": [],
   "source": [
    "#Load the data\n",
    "X, y = load_digits(return_X_y=True)\n",
    "i0 = np.random.choice(range(len(X)), size=n_components, replace=False)\n",
    "D_init = X[i0]\n",
    "D_init /= np.linalg.norm(D_init, axis=1, keepdims=True)\n",
    "X /= np.max(X.dot(D_init.T),axis=1, keepdims=True)"
   ]
  },
  {
   "cell_type": "code",
   "execution_count": 4,
   "metadata": {},
   "outputs": [
    {
     "name": "stdout",
     "output_type": "stream",
     "text": [
      "Iteration   0 (elapsed time:   0s,  0.0mn, current cost     nan)\n",
      "Iteration   1 (elapsed time:   1s,  0.0mn, current cost  1084.819)\n",
      "Iteration   2 (elapsed time:   2s,  0.0mn, current cost  701.671)\n",
      "Iteration   3 (elapsed time:   2s,  0.0mn, current cost  675.356)\n",
      "Iteration   4 (elapsed time:   3s,  0.1mn, current cost  664.527)\n",
      "Iteration   5 (elapsed time:   4s,  0.1mn, current cost  658.562)\n",
      "Iteration   6 (elapsed time:   5s,  0.1mn, current cost  654.792)\n",
      "Iteration   7 (elapsed time:   6s,  0.1mn, current cost  653.288)\n",
      "Iteration   8 (elapsed time:   6s,  0.1mn, current cost  652.576)\n",
      "Iteration   9 (elapsed time:   7s,  0.1mn, current cost  652.029)\n",
      "Iteration  10 (elapsed time:   8s,  0.1mn, current cost  651.552)\n",
      "Iteration  11 (elapsed time:   9s,  0.2mn, current cost  651.135)\n",
      "Iteration  12 (elapsed time:  10s,  0.2mn, current cost  650.827)\n",
      "Iteration  13 (elapsed time:  10s,  0.2mn, current cost  650.630)\n",
      "Iteration  14 (elapsed time:  11s,  0.2mn, current cost  650.500)\n",
      "Iteration  15 (elapsed time:  12s,  0.2mn, current cost  650.401)\n",
      "Iteration  16 (elapsed time:  13s,  0.2mn, current cost  650.318)\n",
      "Iteration  17 (elapsed time:  14s,  0.2mn, current cost  650.238)\n",
      "Iteration  18 (elapsed time:  14s,  0.2mn, current cost  650.160)\n",
      "Iteration  19 (elapsed time:  15s,  0.3mn, current cost  650.097)\n",
      "Iteration  20 (elapsed time:  16s,  0.3mn, current cost  650.055)\n",
      "Iteration  21 (elapsed time:  17s,  0.3mn, current cost  650.027)\n",
      "Iteration  22 (elapsed time:  18s,  0.3mn, current cost  650.008)\n",
      "Iteration  23 (elapsed time:  18s,  0.3mn, current cost  649.994)\n",
      "Iteration  24 (elapsed time:  19s,  0.3mn, current cost  649.983)\n",
      "Iteration  25 (elapsed time:  20s,  0.3mn, current cost  649.975)\n",
      "Iteration  26 (elapsed time:  20s,  0.3mn, current cost  649.969)\n",
      "Iteration  27 (elapsed time:  21s,  0.4mn, current cost  649.965)\n",
      "Iteration  28 (elapsed time:  22s,  0.4mn, current cost  649.961)\n",
      "Iteration  29 (elapsed time:  23s,  0.4mn, current cost  649.958)\n",
      "Iteration  30 (elapsed time:  23s,  0.4mn, current cost  649.956)\n",
      "Iteration  31 (elapsed time:  24s,  0.4mn, current cost  649.954)\n",
      "Iteration  32 (elapsed time:  25s,  0.4mn, current cost  649.953)\n",
      "Iteration  33 (elapsed time:  26s,  0.4mn, current cost  649.951)\n",
      "Iteration  34 (elapsed time:  26s,  0.4mn, current cost  649.950)\n",
      "Iteration  35 (elapsed time:  27s,  0.5mn, current cost  649.949)\n",
      "Iteration  36 (elapsed time:  28s,  0.5mn, current cost  649.949)\n",
      "Iteration  37 (elapsed time:  29s,  0.5mn, current cost  649.948)\n",
      "Iteration  38 (elapsed time:  30s,  0.5mn, current cost  649.947)\n",
      "Iteration  39 (elapsed time:  31s,  0.5mn, current cost  649.946)\n",
      "Iteration  40 (elapsed time:  32s,  0.5mn, current cost  649.946)\n",
      "Iteration  41 (elapsed time:  34s,  0.6mn, current cost  649.945)\n",
      "Iteration  42 (elapsed time:  34s,  0.6mn, current cost  649.945)\n",
      "Iteration  43 (elapsed time:  36s,  0.6mn, current cost  649.944)\n",
      "Iteration  44 (elapsed time:  36s,  0.6mn, current cost  649.943)\n",
      "Iteration  45 (elapsed time:  38s,  0.6mn, current cost  649.943)\n",
      "Iteration  46 (elapsed time:  39s,  0.7mn, current cost  649.942)\n",
      "Iteration  47 (elapsed time:  40s,  0.7mn, current cost  649.941)\n",
      "Iteration  48 (elapsed time:  40s,  0.7mn, current cost  649.941)\n",
      "Iteration  49 (elapsed time:  41s,  0.7mn, current cost  649.940)\n"
     ]
    },
    {
     "data": {
      "text/plain": [
       "DictionaryLearning(alpha=0.3, code_init=None,\n",
       "                   dict_init=array([[0.        , 0.        , 0.14443163, ..., 0.18053954, 0.        ,\n",
       "        0.        ],\n",
       "       [0.        , 0.        , 0.10264286, ..., 0.        , 0.        ,\n",
       "        0.        ],\n",
       "       [0.        , 0.01444731, 0.17336769, ..., 0.        , 0.        ,\n",
       "        0.        ],\n",
       "       ...,\n",
       "       [0.        , 0.        , 0.        , ..., 0.        , 0.        ,\n",
       "        0.        ],\n",
       "       [0.        , 0.        , 0.12795921, ..., 0.18482997, 0.04265307,\n",
       "        0.        ],\n",
       "       [0.        , 0.        , 0.        , ..., 0.08935698, 0.        ,\n",
       "        0.        ]]),\n",
       "                   fit_algorithm='lars', max_iter=50, n_components=20,\n",
       "                   n_jobs=None, positive_code=True, positive_dict=False,\n",
       "                   random_state=None, split_sign=False, tol=1e-08,\n",
       "                   transform_algorithm='omp', transform_alpha=None,\n",
       "                   transform_n_nonzero_coefs=None, verbose=100)"
      ]
     },
     "execution_count": 4,
     "metadata": {},
     "output_type": "execute_result"
    }
   ],
   "source": [
    "dl = DictionaryLearning(n_components=n_components, alpha=lmbd, dict_init=D_init, verbose=100, max_iter=50, positive_code=True)\n",
    "dl.fit(X)"
   ]
  },
  {
   "cell_type": "code",
   "execution_count": 5,
   "metadata": {},
   "outputs": [
    {
     "data": {
      "image/png": "[encoded data removed]",
      "text/plain": [
       "<Figure size 720x504 with 20 Axes>"
      ]
     },
     "metadata": {
      "needs_background": "light"
     },
     "output_type": "display_data"
    }
   ],
   "source": [
    "import matplotlib.pyplot as plt\n",
    "plt.figure(figsize=(10, 7))\n",
    "for k, dk in enumerate(dl.components_):\n",
    "    plt.subplot(4, 5, k + 1)\n",
    "    plt.imshow(dk.reshape(8, 8), cmap='gray')"
   ]
  },
  {
   "cell_type": "code",
   "execution_count": 6,
   "metadata": {},
   "outputs": [
    {
     "name": "stdout",
     "output_type": "stream",
     "text": [
      "[LISTA-20] Fitting model: done                                                 \n"
     ]
    }
   ],
   "source": [
    "lista = Lista(n_layers=20, D=D_init, parametrization='dictionary', per_layer='oneshot', max_iter=500)\n",
    "lista.fit(X, lmbd=lmbd)"
   ]
  },
  {
   "cell_type": "code",
   "execution_count": 7,
   "metadata": {},
   "outputs": [
    {
     "data": {
      "image/png": "[encoded data removed]",
      "text/plain": [
       "<Figure size 720x504 with 20 Axes>"
      ]
     },
     "metadata": {
      "needs_background": "light"
     },
     "output_type": "display_data"
    }
   ],
   "source": [
    "import matplotlib.pyplot as plt\n",
    "plt.figure(figsize=(10, 7))\n",
    "for k, dk in enumerate(lista.get_parameters('D_hat')[-1]):\n",
    "    plt.subplot(4, 5, k + 1)\n",
    "    plt.imshow(dk.reshape(8, 8), cmap='gray')"
   ]
  },
  {
   "cell_type": "code",
   "execution_count": 8,
   "metadata": {},
   "outputs": [
    {
     "data": {
      "text/plain": [
       "array(0.4055362)"
      ]
     },
     "execution_count": 8,
     "metadata": {},
     "output_type": "execute_result"
    }
   ],
   "source": [
    "lista.score(X, lmbd=lmbd)"
   ]
  },
  {
   "cell_type": "code",
   "execution_count": 9,
   "metadata": {},
   "outputs": [
    {
     "data": {
      "text/plain": [
       "[array(0.15910195),\n",
       " array(0.16051327),\n",
       " array(0.16351288),\n",
       " array(0.15578253),\n",
       " array(0.122327),\n",
       " array(0.06618062),\n",
       " array(1.27756863),\n",
       " array(0.3685148),\n",
       " array(0.0467891),\n",
       " array(0.11578476),\n",
       " array(0.07434694),\n",
       " array(0.15828691),\n",
       " array(0.23145375),\n",
       " array(0.2322305),\n",
       " array(0.26897161),\n",
       " array(0.26767019),\n",
       " array(0.3165276),\n",
       " array(0.31487143),\n",
       " array(0.35067625),\n",
       " array(0.345201)]"
      ]
     },
     "execution_count": 9,
     "metadata": {},
     "output_type": "execute_result"
    }
   ],
   "source": [
    "D_hat = lista.get_parameters('D_hat')[0]\n",
    "lista.get_parameters('step_size')"
   ]
  },
  {
   "cell_type": "code",
   "execution_count": null,
   "metadata": {},
   "outputs": [],
   "source": []
  },
  {
   "cell_type": "code",
   "execution_count": 10,
   "metadata": {},
   "outputs": [
    {
     "data": {
      "text/plain": [
       "0.2717672340666153"
      ]
     },
     "execution_count": 10,
     "metadata": {},
     "output_type": "execute_result"
    }
   ],
   "source": [
    "1 / np.linalg.norm(D_hat, ord=2)"
   ]
  },
  {
   "cell_type": "code",
   "execution_count": 11,
   "metadata": {},
   "outputs": [],
   "source": [
    "z_hat = lista.transform(X, lmbd=.3)"
   ]
  },
  {
   "cell_type": "code",
   "execution_count": 12,
   "metadata": {},
   "outputs": [
    {
     "data": {
      "text/plain": [
       "(array(0.66644295), array(0.42856405))"
      ]
     },
     "execution_count": 12,
     "metadata": {},
     "output_type": "execute_result"
    }
   ],
   "source": [
    "D_random = np.random.randn(*D_hat.shape)\n",
    "D_random /= np.linalg.norm(D_random, axis=1, keepdims=True)\n",
    "Lista(n_layers=10, D=D_random).score(X, lmbd=.3), Lista(n_layers=10, D=D_hat).score(X, lmbd=.3)"
   ]
  },
  {
   "cell_type": "code",
   "execution_count": 13,
   "metadata": {},
   "outputs": [],
   "source": [
    "lmbd = .3\n",
    "lista.zero_grad()\n",
    "loss = lista._loss_fn(X, lmbd, lista(X[:1], lmbd))\n",
    "loss.backward()\n",
    "g = lista.layers_parameters[-1]['D_hat'].grad.numpy()\n",
    "z = Lista(n_layers=1000, D=D_hat)(X[:1], lmbd=.3).detach().numpy()\n",
    "g2 = z.T.dot(z.dot(D_hat) - X[:1])"
   ]
  },
  {
   "cell_type": "code",
   "execution_count": 14,
   "metadata": {},
   "outputs": [
    {
     "data": {
      "image/png": "[encoded data removed]",
      "text/plain": [
       "<Figure size 720x504 with 20 Axes>"
      ]
     },
     "metadata": {
      "needs_background": "light"
     },
     "output_type": "display_data"
    }
   ],
   "source": [
    "gD = g / np.linalg.norm(g2)\n",
    "import matplotlib.pyplot as plt\n",
    "plt.figure(figsize=(10, 7))\n",
    "for k, dk in enumerate(gD):\n",
    "    plt.subplot(4, 5, k + 1)\n",
    "    plt.imshow(dk.reshape(8, 8), cmap='gray')"
   ]
  },
  {
   "cell_type": "code",
   "execution_count": 15,
   "metadata": {},
   "outputs": [
    {
     "data": {
      "text/plain": [
       "False"
      ]
     },
     "execution_count": 15,
     "metadata": {},
     "output_type": "execute_result"
    }
   ],
   "source": [
    "np.allclose(g[-3], g[-2])"
   ]
  },
  {
   "cell_type": "code",
   "execution_count": 16,
   "metadata": {},
   "outputs": [
    {
     "data": {
      "text/plain": [
       "tensor(0.3464, dtype=torch.float64, grad_fn=<DivBackward0>)"
      ]
     },
     "execution_count": 16,
     "metadata": {},
     "output_type": "execute_result"
    }
   ],
   "source": [
    "loss"
   ]
  },
  {
   "cell_type": "code",
   "execution_count": null,
   "metadata": {},
   "outputs": [],
   "source": []
  }
 ],
 "metadata": {
  "kernelspec": {
   "display_name": "Python 3",
   "language": "python",
   "name": "python3"
  },
  "language_info": {
   "codemirror_mode": {
    "name": "ipython",
    "version": 3
   },
   "file_extension": ".py",
   "mimetype": "text/x-python",
   "name": "python",
   "nbconvert_exporter": "python",
   "pygments_lexer": "ipython3",
   "version": "3.7.0"
  }
 },
 "nbformat": 4,
 "nbformat_minor": 2
}
