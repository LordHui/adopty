{
 "cells": [
  {
   "cell_type": "code",
   "execution_count": 22,
   "metadata": {},
   "outputs": [
    {
     "name": "stdout",
     "output_type": "stream",
     "text": [
      "773\n"
     ]
    }
   ],
   "source": [
    "from sys import getsizeof\n",
    "import numpy as np\n",
    "import matplotlib.pyplot as plt\n",
    "import torch\n",
    "from adopty.lista import Lista\n",
    "from adopty.datasets import make_coding\n",
    "from adopty.loss_and_gradient import cost_lasso\n",
    "\n",
    "\n",
    "from itertools import combinations, permutations\n",
    "from copy import deepcopy\n",
    "from pympler.asizeof import asizeof\n",
    "\n",
    "seed = np.random.randint(0, 1000)\n",
    "print(seed)\n",
    "rng = np.random.RandomState(seed)"
   ]
  },
  {
   "cell_type": "code",
   "execution_count": 23,
   "metadata": {},
   "outputs": [],
   "source": [
    "def loss_lasso(z, x, D, reg):\n",
    "    res = np.dot(z, D) - x\n",
    "    return 0.5 * np.sum(res ** 2, axis=1) + reg * np.sum(np.abs(z), axis=1)\n"
   ]
  },
  {
   "cell_type": "code",
   "execution_count": 24,
   "metadata": {},
   "outputs": [],
   "source": [
    "n_dim = 2\n",
    "n_atoms = 5\n",
    "n_s = 5000\n",
    "\n",
    "x, D, z = make_coding(n_s, n_atoms, n_dim, rng)\n",
    "L = np.linalg.norm(D, ord=2) ** 2\n",
    "reg = 0.5"
   ]
  },
  {
   "cell_type": "code",
   "execution_count": 25,
   "metadata": {},
   "outputs": [],
   "source": [
    "def spca_bourin(A, k_=None):\n",
    "    k, _ = A.shape\n",
    "    if k_ is None:\n",
    "        k_ = k\n",
    "    l_list = []\n",
    "    for i in range(1, k_+1):\n",
    "        l_max = 0.\n",
    "        for idx in permutations(range(k), i):\n",
    "            B = A[idx, :][:, idx]\n",
    "            l_max = max(l_max, np.linalg.norm(B, ord=2))\n",
    "        l_list.append(l_max)\n",
    "    return l_list"
   ]
  },
  {
   "cell_type": "code",
   "execution_count": 26,
   "metadata": {},
   "outputs": [],
   "source": [
    "step_list = spca_bourin(D.dot(D.T), n_atoms)"
   ]
  },
  {
   "cell_type": "code",
   "execution_count": 27,
   "metadata": {},
   "outputs": [
    {
     "name": "stdout",
     "output_type": "stream",
     "text": [
      "[1.0000000000000002, 1.999966830928037, 2.964472913372718, 3.8808372097944384, 3.881130864947346] 3.8811308649473455\n"
     ]
    }
   ],
   "source": [
    "print(step_list, L)"
   ]
  },
  {
   "cell_type": "code",
   "execution_count": 28,
   "metadata": {},
   "outputs": [],
   "source": [
    "z_star = Lista(D, 1000).transform(x, reg)\n",
    "l_star = loss_lasso(z_star, x, D, reg)"
   ]
  },
  {
   "cell_type": "code",
   "execution_count": 32,
   "metadata": {},
   "outputs": [
    {
     "name": "stdout",
     "output_type": "stream",
     "text": [
      "Fitting model (layer 17/30):  20.20%"
     ]
    },
    {
     "ename": "KeyboardInterrupt",
     "evalue": "",
     "output_type": "error",
     "traceback": [
      "\u001b[0;31m---------------------------------------------------------------------------\u001b[0m",
      "\u001b[0;31mKeyboardInterrupt\u001b[0m                         Traceback (most recent call last)",
      "\u001b[0;32m<ipython-input-32-fe1947656034>\u001b[0m in \u001b[0;36m<module>\u001b[0;34m\u001b[0m\n\u001b[1;32m      7\u001b[0m     \u001b[0mz_ista\u001b[0m \u001b[0;34m=\u001b[0m \u001b[0mista\u001b[0m\u001b[0;34m.\u001b[0m\u001b[0mtransform\u001b[0m\u001b[0;34m(\u001b[0m\u001b[0mx\u001b[0m\u001b[0;34m,\u001b[0m \u001b[0mreg\u001b[0m\u001b[0;34m)\u001b[0m\u001b[0;34m\u001b[0m\u001b[0;34m\u001b[0m\u001b[0m\n\u001b[1;32m      8\u001b[0m     \u001b[0mloss_ista\u001b[0m \u001b[0;34m=\u001b[0m \u001b[0mloss_lasso\u001b[0m\u001b[0;34m(\u001b[0m\u001b[0mz_ista\u001b[0m\u001b[0;34m,\u001b[0m \u001b[0mx\u001b[0m\u001b[0;34m,\u001b[0m \u001b[0mD\u001b[0m\u001b[0;34m,\u001b[0m \u001b[0mreg\u001b[0m\u001b[0;34m)\u001b[0m\u001b[0;34m\u001b[0m\u001b[0;34m\u001b[0m\u001b[0m\n\u001b[0;32m----> 9\u001b[0;31m     \u001b[0mlista\u001b[0m \u001b[0;34m=\u001b[0m \u001b[0mLista\u001b[0m\u001b[0;34m(\u001b[0m\u001b[0mD\u001b[0m\u001b[0;34m,\u001b[0m \u001b[0mn_layers\u001b[0m\u001b[0;34m,\u001b[0m \u001b[0mparametrization\u001b[0m\u001b[0;34m=\u001b[0m\u001b[0;34m'coupled'\u001b[0m\u001b[0;34m,\u001b[0m \u001b[0mlearn_threshold\u001b[0m\u001b[0;34m=\u001b[0m\u001b[0;32mTrue\u001b[0m\u001b[0;34m,\u001b[0m \u001b[0mmax_iter\u001b[0m\u001b[0;34m=\u001b[0m\u001b[0;36m500\u001b[0m\u001b[0;34m)\u001b[0m\u001b[0;34m.\u001b[0m\u001b[0mfit\u001b[0m\u001b[0;34m(\u001b[0m\u001b[0mx\u001b[0m\u001b[0;34m,\u001b[0m \u001b[0mreg\u001b[0m\u001b[0;34m)\u001b[0m\u001b[0;34m\u001b[0m\u001b[0;34m\u001b[0m\u001b[0m\n\u001b[0m\u001b[1;32m     10\u001b[0m     \u001b[0mz_lista\u001b[0m \u001b[0;34m=\u001b[0m \u001b[0mlista\u001b[0m\u001b[0;34m.\u001b[0m\u001b[0mtransform\u001b[0m\u001b[0;34m(\u001b[0m\u001b[0mx\u001b[0m\u001b[0;34m,\u001b[0m \u001b[0mreg\u001b[0m\u001b[0;34m)\u001b[0m\u001b[0;34m\u001b[0m\u001b[0;34m\u001b[0m\u001b[0m\n\u001b[1;32m     11\u001b[0m     \u001b[0mloss_lista\u001b[0m \u001b[0;34m=\u001b[0m \u001b[0mloss_lasso\u001b[0m\u001b[0;34m(\u001b[0m\u001b[0mz_lista\u001b[0m\u001b[0;34m,\u001b[0m \u001b[0mx\u001b[0m\u001b[0;34m,\u001b[0m \u001b[0mD\u001b[0m\u001b[0;34m,\u001b[0m \u001b[0mreg\u001b[0m\u001b[0;34m)\u001b[0m\u001b[0;34m\u001b[0m\u001b[0;34m\u001b[0m\u001b[0m\n",
      "\u001b[0;32m~/work/adopty/adopty/lista.py\u001b[0m in \u001b[0;36mfit\u001b[0;34m(self, x, lmbd)\u001b[0m\n\u001b[1;32m    174\u001b[0m \u001b[0;34m\u001b[0m\u001b[0m\n\u001b[1;32m    175\u001b[0m                 \u001b[0;31m# Next gradient iterate\u001b[0m\u001b[0;34m\u001b[0m\u001b[0;34m\u001b[0m\u001b[0;34m\u001b[0m\u001b[0m\n\u001b[0;32m--> 176\u001b[0;31m                 \u001b[0mloss\u001b[0m\u001b[0;34m.\u001b[0m\u001b[0mbackward\u001b[0m\u001b[0;34m(\u001b[0m\u001b[0;34m)\u001b[0m\u001b[0;34m\u001b[0m\u001b[0;34m\u001b[0m\u001b[0m\n\u001b[0m\u001b[1;32m    177\u001b[0m                 \u001b[0mlr\u001b[0m \u001b[0;34m=\u001b[0m \u001b[0mself\u001b[0m\u001b[0;34m.\u001b[0m\u001b[0mupdate_parameters\u001b[0m\u001b[0;34m(\u001b[0m\u001b[0mparameters\u001b[0m\u001b[0;34m,\u001b[0m \u001b[0mlr\u001b[0m\u001b[0;34m=\u001b[0m\u001b[0mlr\u001b[0m\u001b[0;34m)\u001b[0m\u001b[0;34m\u001b[0m\u001b[0;34m\u001b[0m\u001b[0m\n\u001b[1;32m    178\u001b[0m             \u001b[0mgc\u001b[0m\u001b[0;34m.\u001b[0m\u001b[0mcollect\u001b[0m\u001b[0;34m(\u001b[0m\u001b[0;34m)\u001b[0m\u001b[0;34m\u001b[0m\u001b[0;34m\u001b[0m\u001b[0m\n",
      "\u001b[0;32m~/anaconda3/lib/python3.7/site-packages/torch/tensor.py\u001b[0m in \u001b[0;36mbackward\u001b[0;34m(self, gradient, retain_graph, create_graph)\u001b[0m\n\u001b[1;32m    100\u001b[0m                 \u001b[0mproducts\u001b[0m\u001b[0;34m.\u001b[0m \u001b[0mDefaults\u001b[0m \u001b[0mto\u001b[0m\u001b[0;31m \u001b[0m\u001b[0;31m`\u001b[0m\u001b[0;31m`\u001b[0m\u001b[0;32mFalse\u001b[0m\u001b[0;31m`\u001b[0m\u001b[0;31m`\u001b[0m\u001b[0;34m.\u001b[0m\u001b[0;34m\u001b[0m\u001b[0;34m\u001b[0m\u001b[0m\n\u001b[1;32m    101\u001b[0m         \"\"\"\n\u001b[0;32m--> 102\u001b[0;31m         \u001b[0mtorch\u001b[0m\u001b[0;34m.\u001b[0m\u001b[0mautograd\u001b[0m\u001b[0;34m.\u001b[0m\u001b[0mbackward\u001b[0m\u001b[0;34m(\u001b[0m\u001b[0mself\u001b[0m\u001b[0;34m,\u001b[0m \u001b[0mgradient\u001b[0m\u001b[0;34m,\u001b[0m \u001b[0mretain_graph\u001b[0m\u001b[0;34m,\u001b[0m \u001b[0mcreate_graph\u001b[0m\u001b[0;34m)\u001b[0m\u001b[0;34m\u001b[0m\u001b[0;34m\u001b[0m\u001b[0m\n\u001b[0m\u001b[1;32m    103\u001b[0m \u001b[0;34m\u001b[0m\u001b[0m\n\u001b[1;32m    104\u001b[0m     \u001b[0;32mdef\u001b[0m \u001b[0mregister_hook\u001b[0m\u001b[0;34m(\u001b[0m\u001b[0mself\u001b[0m\u001b[0;34m,\u001b[0m \u001b[0mhook\u001b[0m\u001b[0;34m)\u001b[0m\u001b[0;34m:\u001b[0m\u001b[0;34m\u001b[0m\u001b[0;34m\u001b[0m\u001b[0m\n",
      "\u001b[0;32m~/anaconda3/lib/python3.7/site-packages/torch/autograd/__init__.py\u001b[0m in \u001b[0;36mbackward\u001b[0;34m(tensors, grad_tensors, retain_graph, create_graph, grad_variables)\u001b[0m\n\u001b[1;32m     82\u001b[0m         \u001b[0mgrad_tensors\u001b[0m \u001b[0;34m=\u001b[0m \u001b[0mlist\u001b[0m\u001b[0;34m(\u001b[0m\u001b[0mgrad_tensors\u001b[0m\u001b[0;34m)\u001b[0m\u001b[0;34m\u001b[0m\u001b[0;34m\u001b[0m\u001b[0m\n\u001b[1;32m     83\u001b[0m \u001b[0;34m\u001b[0m\u001b[0m\n\u001b[0;32m---> 84\u001b[0;31m     \u001b[0mgrad_tensors\u001b[0m \u001b[0;34m=\u001b[0m \u001b[0m_make_grads\u001b[0m\u001b[0;34m(\u001b[0m\u001b[0mtensors\u001b[0m\u001b[0;34m,\u001b[0m \u001b[0mgrad_tensors\u001b[0m\u001b[0;34m)\u001b[0m\u001b[0;34m\u001b[0m\u001b[0;34m\u001b[0m\u001b[0m\n\u001b[0m\u001b[1;32m     85\u001b[0m     \u001b[0;32mif\u001b[0m \u001b[0mretain_graph\u001b[0m \u001b[0;32mis\u001b[0m \u001b[0;32mNone\u001b[0m\u001b[0;34m:\u001b[0m\u001b[0;34m\u001b[0m\u001b[0;34m\u001b[0m\u001b[0m\n\u001b[1;32m     86\u001b[0m         \u001b[0mretain_graph\u001b[0m \u001b[0;34m=\u001b[0m \u001b[0mcreate_graph\u001b[0m\u001b[0;34m\u001b[0m\u001b[0;34m\u001b[0m\u001b[0m\n",
      "\u001b[0;32m~/anaconda3/lib/python3.7/site-packages/torch/autograd/__init__.py\u001b[0m in \u001b[0;36m_make_grads\u001b[0;34m(outputs, grads)\u001b[0m\n\u001b[1;32m     27\u001b[0m                 \u001b[0;32mif\u001b[0m \u001b[0mout\u001b[0m\u001b[0;34m.\u001b[0m\u001b[0mnumel\u001b[0m\u001b[0;34m(\u001b[0m\u001b[0;34m)\u001b[0m \u001b[0;34m!=\u001b[0m \u001b[0;36m1\u001b[0m\u001b[0;34m:\u001b[0m\u001b[0;34m\u001b[0m\u001b[0;34m\u001b[0m\u001b[0m\n\u001b[1;32m     28\u001b[0m                     \u001b[0;32mraise\u001b[0m \u001b[0mRuntimeError\u001b[0m\u001b[0;34m(\u001b[0m\u001b[0;34m\"grad can be implicitly created only for scalar outputs\"\u001b[0m\u001b[0;34m)\u001b[0m\u001b[0;34m\u001b[0m\u001b[0;34m\u001b[0m\u001b[0m\n\u001b[0;32m---> 29\u001b[0;31m                 \u001b[0mnew_grads\u001b[0m\u001b[0;34m.\u001b[0m\u001b[0mappend\u001b[0m\u001b[0;34m(\u001b[0m\u001b[0mtorch\u001b[0m\u001b[0;34m.\u001b[0m\u001b[0mones_like\u001b[0m\u001b[0;34m(\u001b[0m\u001b[0mout\u001b[0m\u001b[0;34m)\u001b[0m\u001b[0;34m)\u001b[0m\u001b[0;34m\u001b[0m\u001b[0;34m\u001b[0m\u001b[0m\n\u001b[0m\u001b[1;32m     30\u001b[0m             \u001b[0;32melse\u001b[0m\u001b[0;34m:\u001b[0m\u001b[0;34m\u001b[0m\u001b[0;34m\u001b[0m\u001b[0m\n\u001b[1;32m     31\u001b[0m                 \u001b[0mnew_grads\u001b[0m\u001b[0;34m.\u001b[0m\u001b[0mappend\u001b[0m\u001b[0;34m(\u001b[0m\u001b[0;32mNone\u001b[0m\u001b[0;34m)\u001b[0m\u001b[0;34m\u001b[0m\u001b[0;34m\u001b[0m\u001b[0m\n",
      "\u001b[0;31mKeyboardInterrupt\u001b[0m: "
     ]
    }
   ],
   "source": [
    "l_lista = []\n",
    "l_ista = []\n",
    "layers = [30]\n",
    "#layers = [2]\n",
    "for n_layers in layers:\n",
    "    ista = Lista(D, n_layers)\n",
    "    z_ista = ista.transform(x, reg)\n",
    "    loss_ista = loss_lasso(z_ista, x, D, reg)\n",
    "    lista = Lista(D, n_layers, parametrization='coupled', learn_threshold=True, max_iter=500).fit(x, reg)\n",
    "    z_lista = lista.transform(x, reg)\n",
    "    loss_lista = loss_lasso(z_lista, x, D, reg)\n",
    "    l_lista.append(np.mean(loss_lista - l_star))\n",
    "    l_ista.append(np.mean(loss_ista - l_star))\n",
    "\n",
    "l_lista = np.array(l_lista)\n",
    "l_ista = np.array(l_ista)"
   ]
  },
  {
   "cell_type": "code",
   "execution_count": null,
   "metadata": {
    "scrolled": true
   },
   "outputs": [],
   "source": [
    "cs_list = []\n",
    "stp_list = []\n",
    "tresh_list = []\n",
    "for layer in range(n_layers):\n",
    "    W = list(lista.parameters())[2 * layer].detach().numpy()\n",
    "    cs = np.dot(W.T.ravel(), D.ravel()) / np.sqrt(W.ravel().dot(W.ravel()) * D.ravel().dot(D.ravel()))\n",
    "    cs_list.append(cs)\n",
    "    stp = np.median(W.T / D * L)\n",
    "    stp_list.append(stp)\n",
    "    tresh = list(lista.parameters())[2 * layer + 1].detach().numpy() * L\n",
    "    tresh_list.append(tresh)\n",
    "plt.plot(stp_list)   \n",
    "plt.plot(cs_list)\n",
    "plt.plot(tresh_list)\n",
    "plt.hlines(1, 0, n_layers, linestyles='--')\n",
    "plt.hlines(L / step_list[-3], 0, n_layers, linestyles='-')"
   ]
  },
  {
   "cell_type": "code",
   "execution_count": null,
   "metadata": {},
   "outputs": [],
   "source": [
    "layer_start = 20\n",
    "lista_dumb = deepcopy(lista)\n",
    "for layer in range(layer_start, n_layers):\n",
    "    parameters_layer = lista_dumb.params[layer]\n",
    "    parameters_layer[0].data = torch.from_numpy(D.T / L)\n",
    "    parameters_layer[1].data = torch.tensor([1. / L]).double()\n",
    "loss_dumb = np.median(loss_lasso(lista_dumb.transform(x, reg), x, D, reg) - l_star)"
   ]
  },
  {
   "cell_type": "code",
   "execution_count": null,
   "metadata": {
    "scrolled": false
   },
   "outputs": [],
   "source": [
    "lista_hack = deepcopy(lista)\n",
    "s_change = []\n",
    "s_old = np.max(np.sum(lista_hack.transform(x, reg, output_layer=layer_start) != 0, axis=1))\n",
    "print(s_old)\n",
    "for layer in range(layer_start, n_layers):\n",
    "    s = np.max(np.sum(lista_hack.transform(x, reg, output_layer=layer) != 0, axis=1))\n",
    "    if s != s_old:\n",
    "        s_change.append(layer)\n",
    "    s_old = s\n",
    "    L_better = step_list[s-2]\n",
    "    parameters_layer = lista_hack.params[layer]\n",
    "    parameters_layer[0].data = torch.from_numpy(D.T / L_better)\n",
    "    parameters_layer[1].data = torch.tensor([1. / L_better]).double()\n",
    "    #parameters_layer[0].data *= L / L_better\n",
    "    #parameters_layer[1].data *= L / L_better\n",
    "loss_hack = np.median(loss_lasso(lista_hack.transform(x, reg), x, D, reg) - l_star)"
   ]
  },
  {
   "cell_type": "code",
   "execution_count": null,
   "metadata": {},
   "outputs": [],
   "source": [
    "L / L_better"
   ]
  },
  {
   "cell_type": "code",
   "execution_count": null,
   "metadata": {},
   "outputs": [],
   "source": [
    "networks = [ista, lista, lista_hack, lista_dumb]\n",
    "names = ['ista', 'lista', 'hack', 'dumb']\n",
    "\n",
    "losses = {}\n",
    "for name in names:\n",
    "    losses[name] = []\n",
    "layers_ = range(1, n_layers)\n",
    "for layer in layers_:\n",
    "    for network, name in zip(networks, names):\n",
    "        z = network.transform(x, reg, output_layer=layer)\n",
    "        loss_network = loss_lasso(z, x, D, reg)\n",
    "        losses[name].append(np.mean(loss_network - l_star))\n"
   ]
  },
  {
   "cell_type": "code",
   "execution_count": null,
   "metadata": {
    "scrolled": true
   },
   "outputs": [],
   "source": [
    "for name in names:\n",
    "    plt.semilogy(layers_, losses[name], label=name)\n",
    "plt.vlines(s_change, *plt.ylim())\n",
    "plt.legend()\n",
    "plt.show()"
   ]
  },
  {
   "cell_type": "code",
   "execution_count": 15,
   "metadata": {},
   "outputs": [
    {
     "data": {
      "text/plain": [
       "[Parameter containing:\n",
       " tensor([[-0.2669,  0.2306,  0.2766,  0.0017,  0.2834],\n",
       "         [ 0.0991,  0.1667,  0.0650, -0.2841, -0.0210]], dtype=torch.float64,\n",
       "        requires_grad=True), Parameter containing:\n",
       " tensor(0.2844, dtype=torch.float64, requires_grad=True)]"
      ]
     },
     "execution_count": 15,
     "metadata": {},
     "output_type": "execute_result"
    }
   ],
   "source": [
    "list(lista.parameters())[-2:]"
   ]
  },
  {
   "cell_type": "code",
   "execution_count": 16,
   "metadata": {},
   "outputs": [
    {
     "data": {
      "text/plain": [
       "[5.368208566290194,\n",
       " 2.4590897240068075,\n",
       " 1.4390737406032188,\n",
       " 1.4093806336589794,\n",
       " 1.2219765438291368,\n",
       " 1.1712411427672254,\n",
       " 1.1314893767022596,\n",
       " 1.0816979655763257,\n",
       " 1.1171617453680334,\n",
       " 1.0882991561115798,\n",
       " 1.0688079909825037,\n",
       " 1.05475627463895,\n",
       " 1.0423246444240015,\n",
       " 1.029618265504395,\n",
       " 1.0171097989063607,\n",
       " 1.0101421248488287,\n",
       " 1.0101866370817438,\n",
       " 1.0097508310568604,\n",
       " 1.0085179971329419,\n",
       " 1.0076209829390907,\n",
       " 1.0065139006336663,\n",
       " 1.005760800030528,\n",
       " 1.0047876981954391,\n",
       " 1.003743267602735,\n",
       " 1.0034854614646633,\n",
       " 1.002344589316091,\n",
       " 1.001356177490925,\n",
       " 1.0007461006903706,\n",
       " 1.0006658916671207,\n",
       " 1.00049599435775]"
      ]
     },
     "execution_count": 16,
     "metadata": {},
     "output_type": "execute_result"
    }
   ],
   "source": [
    "tresh_list"
   ]
  },
  {
   "cell_type": "code",
   "execution_count": 17,
   "metadata": {},
   "outputs": [
    {
     "data": {
      "text/plain": [
       "array([[1.00196853, 0.99818494],\n",
       "       [1.00119368, 1.00069622],\n",
       "       [0.9998827 , 0.99746835],\n",
       "       [0.98217105, 0.99941302],\n",
       "       [0.99994973, 0.97097629]])"
      ]
     },
     "execution_count": 17,
     "metadata": {},
     "output_type": "execute_result"
    }
   ],
   "source": [
    "L = np.linalg.norm(D, ord=2) ** 2\n",
    "W.T / D * L"
   ]
  },
  {
   "cell_type": "code",
   "execution_count": 18,
   "metadata": {
    "scrolled": true
   },
   "outputs": [
    {
     "ename": "NameError",
     "evalue": "name 'd' is not defined",
     "output_type": "error",
     "traceback": [
      "\u001b[0;31m---------------------------------------------------------------------------\u001b[0m",
      "\u001b[0;31mNameError\u001b[0m                                 Traceback (most recent call last)",
      "\u001b[0;32m<ipython-input-18-e983f374794d>\u001b[0m in \u001b[0;36m<module>\u001b[0;34m\u001b[0m\n\u001b[0;32m----> 1\u001b[0;31m \u001b[0md\u001b[0m\u001b[0;34m\u001b[0m\u001b[0;34m\u001b[0m\u001b[0m\n\u001b[0m",
      "\u001b[0;31mNameError\u001b[0m: name 'd' is not defined"
     ]
    }
   ],
   "source": [
    "d"
   ]
  },
  {
   "cell_type": "code",
   "execution_count": null,
   "metadata": {
    "scrolled": true
   },
   "outputs": [],
   "source": [
    "print(list(lista_hack.parameters())[-1])\n",
    "print(list(lista.parameters())[-1])"
   ]
  },
  {
   "cell_type": "code",
   "execution_count": null,
   "metadata": {},
   "outputs": [],
   "source": []
  },
  {
   "cell_type": "code",
   "execution_count": null,
   "metadata": {},
   "outputs": [],
   "source": [
    "cs_list = []\n",
    "stp_list = []\n",
    "tresh_list = []\n",
    "for layer in range(n_layers):\n",
    "    W = list(lista.parameters())[2 * layer].detach().numpy()\n",
    "    cs = np.dot(W.T.ravel(), D.ravel()) / np.sqrt(W.ravel().dot(W.ravel()) * D.ravel().dot(D.ravel()))\n",
    "    cs_list.append(cs)\n",
    "    stp = np.median(W.T / D * L)\n",
    "    stp_list.append(stp)\n",
    "    tresh = list(lista.parameters())[2 * layer + 1].detach().numpy() * L\n",
    "    tresh_list.append(tresh)\n",
    "plt.plot(stp_list)   \n",
    "plt.plot(cs_list)\n",
    "plt.plot(tresh_list)\n",
    "plt.hlines(1, 0, n_layers, linestyles='--')"
   ]
  },
  {
   "cell_type": "code",
   "execution_count": null,
   "metadata": {},
   "outputs": [],
   "source": []
  },
  {
   "cell_type": "code",
   "execution_count": null,
   "metadata": {
    "scrolled": true
   },
   "outputs": [],
   "source": [
    "tresh_list"
   ]
  },
  {
   "cell_type": "code",
   "execution_count": null,
   "metadata": {},
   "outputs": [],
   "source": []
  },
  {
   "cell_type": "code",
   "execution_count": null,
   "metadata": {},
   "outputs": [],
   "source": [
    "l_ista"
   ]
  }
 ],
 "metadata": {
  "kernelspec": {
   "display_name": "Python 3",
   "language": "python",
   "name": "python3"
  },
  "language_info": {
   "codemirror_mode": {
    "name": "ipython",
    "version": 3
   },
   "file_extension": ".py",
   "mimetype": "text/x-python",
   "name": "python",
   "nbconvert_exporter": "python",
   "pygments_lexer": "ipython3",
   "version": "3.7.1"
  }
 },
 "nbformat": 4,
 "nbformat_minor": 2
}
