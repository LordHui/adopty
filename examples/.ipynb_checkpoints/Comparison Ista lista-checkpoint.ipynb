{
 "cells": [
  {
   "cell_type": "code",
   "execution_count": 1,
   "metadata": {},
   "outputs": [
    {
     "name": "stdout",
     "output_type": "stream",
     "text": [
      "166\n"
     ]
    }
   ],
   "source": [
    "from sys import getsizeof\n",
    "import numpy as np\n",
    "import matplotlib.pyplot as plt\n",
    "import torch\n",
    "from adopty.lista import Lista\n",
    "from adopty.datasets import make_coding\n",
    "from adopty.loss_and_gradient import cost_lasso\n",
    "\n",
    "\n",
    "from itertools import combinations, permutations\n",
    "from copy import deepcopy\n",
    "from pympler.asizeof import asizeof\n",
    "\n",
    "seed = np.random.randint(0, 1000)\n",
    "print(seed)\n",
    "rng = np.random.RandomState(seed)"
   ]
  },
  {
   "cell_type": "code",
   "execution_count": 2,
   "metadata": {},
   "outputs": [],
   "source": [
    "def loss_lasso(z, x, D, reg):\n",
    "    res = np.dot(z, D) - x\n",
    "    return 0.5 * np.sum(res ** 2, axis=1) + reg * np.sum(np.abs(z), axis=1)\n"
   ]
  },
  {
   "cell_type": "code",
   "execution_count": 6,
   "metadata": {},
   "outputs": [],
   "source": [
    "n_dim = 2\n",
    "n_atoms = 8\n",
    "n_s = 1000\n",
    "\n",
    "x, D, z = make_coding(n_s, n_atoms, n_dim, rng)\n",
    "L = np.linalg.norm(D, ord=2) ** 2\n",
    "reg = 0.5"
   ]
  },
  {
   "cell_type": "code",
   "execution_count": 7,
   "metadata": {},
   "outputs": [],
   "source": [
    "def spca_bourin(A, k_=None):\n",
    "    k, _ = A.shape\n",
    "    if k_ is None:\n",
    "        k_ = k\n",
    "    l_list = []\n",
    "    for i in range(1, k_+1):\n",
    "        l_max = 0.\n",
    "        for idx in permutations(range(k), i):\n",
    "            B = A[idx, :][:, idx]\n",
    "            l_max = max(l_max, np.linalg.norm(B, ord=2))\n",
    "        l_list.append(l_max)\n",
    "    return l_list"
   ]
  },
  {
   "cell_type": "code",
   "execution_count": 8,
   "metadata": {},
   "outputs": [],
   "source": [
    "step_list = spca_bourin(D.dot(D.T), n_atoms)"
   ]
  },
  {
   "cell_type": "code",
   "execution_count": 9,
   "metadata": {},
   "outputs": [
    {
     "name": "stdout",
     "output_type": "stream",
     "text": [
      "[1.0000000000000002, 1.9940207398666128, 2.8524291653580267, 3.6257505595472845, 4.208575485509462, 4.538026283355786, 4.689262675889404, 4.727505850457203] 4.727505850457199\n"
     ]
    }
   ],
   "source": [
    "print(step_list, L)"
   ]
  },
  {
   "cell_type": "code",
   "execution_count": 10,
   "metadata": {},
   "outputs": [],
   "source": [
    "z_star = Lista(D, 1000).transform(x, reg)\n",
    "l_star = loss_lasso(z_star, x, D, reg)"
   ]
  },
  {
   "cell_type": "code",
   "execution_count": 11,
   "metadata": {},
   "outputs": [
    {
     "name": "stdout",
     "output_type": "stream",
     "text": [
      "Fitting model: done                                                            \n"
     ]
    }
   ],
   "source": [
    "l_lista = []\n",
    "l_ista = []\n",
    "layers = [30]\n",
    "#layers = [2]\n",
    "for n_layers in layers:\n",
    "    ista = Lista(D, n_layers)\n",
    "    z_ista = ista.transform(x, reg)\n",
    "    loss_ista = loss_lasso(z_ista, x, D, reg)\n",
    "    lista = Lista(D, n_layers, parametrization='coupled', learn_threshold=True, max_iter=500).fit(x, reg)\n",
    "    z_lista = lista.transform(x, reg)\n",
    "    loss_lista = loss_lasso(z_lista, x, D, reg)\n",
    "    l_lista.append(np.mean(loss_lista - l_star))\n",
    "    l_ista.append(np.mean(loss_ista - l_star))\n",
    "\n",
    "l_lista = np.array(l_lista)\n",
    "l_ista = np.array(l_ista)"
   ]
  },
  {
   "cell_type": "code",
   "execution_count": 12,
   "metadata": {
    "scrolled": true
   },
   "outputs": [
    {
     "data": {
      "text/plain": [
       "<matplotlib.collections.LineCollection at 0x7fd60c568550>"
      ]
     },
     "execution_count": 12,
     "metadata": {},
     "output_type": "execute_result"
    },
    {
     "data": {
      "image/png": "[encoded data removed]",
      "text/plain": [
       "<Figure size 432x288 with 1 Axes>"
      ]
     },
     "metadata": {
      "needs_background": "light"
     },
     "output_type": "display_data"
    }
   ],
   "source": [
    "cs_list = []\n",
    "stp_list = []\n",
    "tresh_list = []\n",
    "for layer in range(n_layers):\n",
    "    W = list(lista.parameters())[2 * layer].detach().numpy()\n",
    "    cs = np.dot(W.T.ravel(), D.ravel()) / np.sqrt(W.ravel().dot(W.ravel()) * D.ravel().dot(D.ravel()))\n",
    "    cs_list.append(cs)\n",
    "    stp = np.median(W.T / D * L)\n",
    "    stp_list.append(stp)\n",
    "    tresh = list(lista.parameters())[2 * layer + 1].detach().numpy() * L\n",
    "    tresh_list.append(tresh)\n",
    "plt.plot(stp_list)   \n",
    "plt.plot(cs_list)\n",
    "plt.plot(tresh_list)\n",
    "plt.hlines(1, 0, n_layers, linestyles='--')\n",
    "plt.hlines(L / step_list[-3], 0, n_layers, linestyles='-')"
   ]
  },
  {
   "cell_type": "code",
   "execution_count": 13,
   "metadata": {},
   "outputs": [],
   "source": [
    "layer_start = 20\n",
    "lista_dumb = deepcopy(lista)\n",
    "for layer in range(layer_start, n_layers):\n",
    "    parameters_layer = lista_dumb.params[layer]\n",
    "    parameters_layer[0].data = torch.from_numpy(D.T / L)\n",
    "    parameters_layer[1].data = torch.tensor([1. / L]).double()\n",
    "loss_dumb = np.median(loss_lasso(lista_dumb.transform(x, reg), x, D, reg) - l_star)"
   ]
  },
  {
   "cell_type": "code",
   "execution_count": 14,
   "metadata": {
    "scrolled": false
   },
   "outputs": [
    {
     "name": "stdout",
     "output_type": "stream",
     "text": [
      "3\n"
     ]
    }
   ],
   "source": [
    "lista_hack = deepcopy(lista)\n",
    "s_change = []\n",
    "s_old = np.max(np.sum(lista_hack.transform(x, reg, output_layer=layer_start) != 0, axis=1))\n",
    "print(s_old)\n",
    "for layer in range(layer_start, n_layers):\n",
    "    s = np.max(np.sum(lista_hack.transform(x, reg, output_layer=layer) != 0, axis=1))\n",
    "    if s != s_old:\n",
    "        s_change.append(layer)\n",
    "    s_old = s\n",
    "    L_better = step_list[s-2]\n",
    "    parameters_layer = lista_hack.params[layer]\n",
    "    parameters_layer[0].data = torch.from_numpy(D.T / L_better)\n",
    "    parameters_layer[1].data = torch.tensor([1. / L_better]).double()\n",
    "    #parameters_layer[0].data *= L / L_better\n",
    "    #parameters_layer[1].data *= L / L_better\n",
    "loss_hack = np.median(loss_lasso(lista_hack.transform(x, reg), x, D, reg) - l_star)"
   ]
  },
  {
   "cell_type": "code",
   "execution_count": 15,
   "metadata": {},
   "outputs": [
    {
     "data": {
      "text/plain": [
       "2.3708408623540387"
      ]
     },
     "execution_count": 15,
     "metadata": {},
     "output_type": "execute_result"
    }
   ],
   "source": [
    "L / L_better"
   ]
  },
  {
   "cell_type": "code",
   "execution_count": 16,
   "metadata": {},
   "outputs": [],
   "source": [
    "networks = [ista, lista, lista_hack, lista_dumb]\n",
    "names = ['ista', 'lista', 'hack', 'dumb']\n",
    "\n",
    "losses = {}\n",
    "layers_ = range(1, n_layers)\n",
    "for layer in layers_:\n",
    "    for network, name in zip(networks, names):\n",
    "        z = network.transform(x, reg, output_layer=layer)\n",
    "    loss_ista = loss_lasso(z_ista, x, D, reg)\n",
    "    z_lista = lista.transform(x, reg, output_layer=layer)\n",
    "    loss_lista = loss_lasso(z_lista, x, D, reg)\n",
    "    z_hack = lista_hack.transform(x, reg, output_layer=layer)\n",
    "    loss_hack = loss_lasso(z_hack, x, D, reg)\n",
    "    z_dumb = lista_dumb.transform(x, reg, output_layer=layer)\n",
    "    loss_dumb = loss_lasso(z_dumb, x, D, reg)\n",
    "    l_lista.append(np.mean(loss_lista - l_star))\n",
    "    l_ista.append(np.mean(loss_ista - l_star))\n",
    "    l_hack.append(np.mean(loss_hack - l_star))\n",
    "    l_dumb.append(np.mean(loss_dumb - l_star))\n"
   ]
  },
  {
   "cell_type": "code",
   "execution_count": 17,
   "metadata": {
    "scrolled": true
   },
   "outputs": [
    {
     "data": {
      "image/png": "[encoded data removed]",
      "text/plain": [
       "<Figure size 432x288 with 1 Axes>"
      ]
     },
     "metadata": {
      "needs_background": "light"
     },
     "output_type": "display_data"
    }
   ],
   "source": [
    "plt.semilogy(layers_, l_lista, label='lista')\n",
    "plt.semilogy(layers_, l_ista, label='ista')\n",
    "plt.semilogy(layers_, l_hack, label='hack')\n",
    "plt.semilogy(layers_, l_dumb, label='dumb')\n",
    "plt.vlines(s_change, *plt.ylim())\n",
    "plt.legend()\n",
    "plt.show()"
   ]
  },
  {
   "cell_type": "code",
   "execution_count": 17,
   "metadata": {},
   "outputs": [
    {
     "data": {
      "text/plain": [
       "[Parameter containing:\n",
       " tensor([[-0.0506, -0.1832,  0.1528,  0.1807,  0.0233,  0.1017, -0.1635, -0.0016],\n",
       "         [ 0.1772, -0.0176, -0.1036,  0.0355, -0.1825, -0.1535,  0.0832,  0.1838]],\n",
       "        dtype=torch.float64, requires_grad=True), Parameter containing:\n",
       " tensor(0.1848, dtype=torch.float64, requires_grad=True)]"
      ]
     },
     "execution_count": 17,
     "metadata": {},
     "output_type": "execute_result"
    }
   ],
   "source": [
    "list(lista.parameters())[-2:]"
   ]
  },
  {
   "cell_type": "code",
   "execution_count": 18,
   "metadata": {},
   "outputs": [
    {
     "data": {
      "text/plain": [
       "[3.2441115564920695,\n",
       " 2.6008388405670715,\n",
       " 2.1670491430513525,\n",
       " 1.9894779351517689,\n",
       " 1.8281073245152075,\n",
       " 1.6963149971365967,\n",
       " 1.6059209835293171,\n",
       " 1.5370299468803243,\n",
       " 1.478282928663519,\n",
       " 1.427001268237035,\n",
       " 1.3767319263753257,\n",
       " 1.3406724701921193,\n",
       " 1.3079224381137229,\n",
       " 1.2787442962786673,\n",
       " 1.2545556691769117,\n",
       " 1.2291764949798423,\n",
       " 1.2035688272167624,\n",
       " 1.1796081305079813,\n",
       " 1.1587853765021823,\n",
       " 1.1380342234723453,\n",
       " 1.119997280807718,\n",
       " 1.1039317874745413,\n",
       " 1.0857259123731455,\n",
       " 1.0698391035017871,\n",
       " 1.0543443016356966,\n",
       " 1.0390315181194432,\n",
       " 1.0220749754679745,\n",
       " 1.0072841231237522,\n",
       " 0.9945046752575791,\n",
       " 1.0068939086421504]"
      ]
     },
     "execution_count": 18,
     "metadata": {},
     "output_type": "execute_result"
    }
   ],
   "source": [
    "tresh_list"
   ]
  },
  {
   "cell_type": "code",
   "execution_count": 19,
   "metadata": {},
   "outputs": [
    {
     "data": {
      "text/plain": [
       "array([[1.00889605, 1.00353144],\n",
       "       [1.00261822, 1.00320281],\n",
       "       [1.00589866, 1.00564214],\n",
       "       [1.00456743, 0.97937141],\n",
       "       [0.98056103, 1.00259862],\n",
       "       [0.99816105, 1.00590696],\n",
       "       [1.00058477, 0.99613032],\n",
       "       [2.18371052, 1.00153012]])"
      ]
     },
     "execution_count": 19,
     "metadata": {},
     "output_type": "execute_result"
    }
   ],
   "source": [
    "L = np.linalg.norm(D, ord=2) ** 2\n",
    "W.T / D * L"
   ]
  },
  {
   "cell_type": "code",
   "execution_count": 20,
   "metadata": {
    "scrolled": true
   },
   "outputs": [
    {
     "ename": "NameError",
     "evalue": "name 'd' is not defined",
     "output_type": "error",
     "traceback": [
      "\u001b[0;31m---------------------------------------------------------------------------\u001b[0m",
      "\u001b[0;31mNameError\u001b[0m                                 Traceback (most recent call last)",
      "\u001b[0;32m<ipython-input-20-e983f374794d>\u001b[0m in \u001b[0;36m<module>\u001b[0;34m\u001b[0m\n\u001b[0;32m----> 1\u001b[0;31m \u001b[0md\u001b[0m\u001b[0;34m\u001b[0m\u001b[0;34m\u001b[0m\u001b[0m\n\u001b[0m",
      "\u001b[0;31mNameError\u001b[0m: name 'd' is not defined"
     ]
    }
   ],
   "source": [
    "d"
   ]
  },
  {
   "cell_type": "code",
   "execution_count": null,
   "metadata": {
    "scrolled": true
   },
   "outputs": [],
   "source": [
    "print(list(lista_hack.parameters())[-1])\n",
    "print(list(lista.parameters())[-1])"
   ]
  },
  {
   "cell_type": "code",
   "execution_count": null,
   "metadata": {},
   "outputs": [],
   "source": []
  },
  {
   "cell_type": "code",
   "execution_count": null,
   "metadata": {},
   "outputs": [],
   "source": [
    "cs_list = []\n",
    "stp_list = []\n",
    "tresh_list = []\n",
    "for layer in range(n_layers):\n",
    "    W = list(lista.parameters())[2 * layer].detach().numpy()\n",
    "    cs = np.dot(W.T.ravel(), D.ravel()) / np.sqrt(W.ravel().dot(W.ravel()) * D.ravel().dot(D.ravel()))\n",
    "    cs_list.append(cs)\n",
    "    stp = np.median(W.T / D * L)\n",
    "    stp_list.append(stp)\n",
    "    tresh = list(lista.parameters())[2 * layer + 1].detach().numpy() * L\n",
    "    tresh_list.append(tresh)\n",
    "plt.plot(stp_list)   \n",
    "plt.plot(cs_list)\n",
    "plt.plot(tresh_list)\n",
    "plt.hlines(1, 0, n_layers, linestyles='--')"
   ]
  },
  {
   "cell_type": "code",
   "execution_count": null,
   "metadata": {},
   "outputs": [],
   "source": []
  },
  {
   "cell_type": "code",
   "execution_count": null,
   "metadata": {
    "scrolled": true
   },
   "outputs": [],
   "source": [
    "tresh_list"
   ]
  },
  {
   "cell_type": "code",
   "execution_count": null,
   "metadata": {},
   "outputs": [],
   "source": []
  },
  {
   "cell_type": "code",
   "execution_count": null,
   "metadata": {},
   "outputs": [],
   "source": [
    "l_ista"
   ]
  }
 ],
 "metadata": {
  "kernelspec": {
   "display_name": "Python 3",
   "language": "python",
   "name": "python3"
  },
  "language_info": {
   "codemirror_mode": {
    "name": "ipython",
    "version": 3
   },
   "file_extension": ".py",
   "mimetype": "text/x-python",
   "name": "python",
   "nbconvert_exporter": "python",
   "pygments_lexer": "ipython3",
   "version": "3.7.1"
  }
 },
 "nbformat": 4,
 "nbformat_minor": 2
}
