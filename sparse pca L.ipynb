{
 "cells": [
  {
   "cell_type": "code",
   "execution_count": 1,
   "metadata": {},
   "outputs": [],
   "source": [
    "import numpy as np\n",
    "import matplotlib.pyplot as plt\n",
    "from itertools import permutations\n",
    "from numba import njit"
   ]
  },
  {
   "cell_type": "code",
   "execution_count": 2,
   "metadata": {},
   "outputs": [],
   "source": [
    "from scipy import array, real, dot, column_stack, row_stack, append\n",
    "import numpy as np\n",
    "ra = np.random\n",
    "la = np.linalg\n",
    "\n",
    "def PathSPCA(A, k):\n",
    "    \"\"\"Compute leading k-sparse principal component for matrix A\"\"\"\n",
    "    M, N = A.shape\n",
    "\n",
    "    set_N = set(range(N))\n",
    "    # Loop through variables\n",
    "    As = (A * A).sum(axis=0)\n",
    "    vp = As.argmax()\n",
    "    subset = [vp]\n",
    "    vars = []\n",
    "    res = subset\n",
    "    rhos = [(A[:, vp] * A[:, vp]).sum()]\n",
    "    Stemp = array([rhos])\n",
    "    for i in range(1, k):\n",
    "        lev, v = la.eig(Stemp)\n",
    "        vars.append(real(lev).max())\n",
    "        vp = real(lev).argmax()\n",
    "        x = dot(A[:, subset], v[:, vp])\n",
    "        x = x / la.norm(x)\n",
    "        seto = list(set_N - set(subset))\n",
    "        vals = dot(x.T, A[:, seto])\n",
    "        vals = vals * vals\n",
    "        rhos.append(vals.max())\n",
    "        vpo = seto[vals.argmax()]\n",
    "        Stemp = column_stack((Stemp, dot(A[:, subset].T, A[:, vpo])))\n",
    "        vbuf = append(dot(A[:, vpo].T, A[:, subset]),\n",
    "                      array([(A[:, vpo] * A[:, vpo]).sum()]))\n",
    "        Stemp = row_stack((Stemp, vbuf))\n",
    "        subset.append(vpo)\n",
    "    lev, v = la.eig(Stemp)\n",
    "    vars.append(real(lev).max())\n",
    "    return vars, res, rhos"
   ]
  },
  {
   "cell_type": "code",
   "execution_count": 3,
   "metadata": {},
   "outputs": [],
   "source": [
    "def spca_bourin(A, k_=None):\n",
    "    k, _ = A.shape\n",
    "    if k_ is None:\n",
    "        k_ = k\n",
    "    l_list = []\n",
    "    for i in range(1, k_+1):\n",
    "        l_max = 0.\n",
    "        for idx in permutations(range(k), i):\n",
    "            B = A[idx, :][:, idx]\n",
    "            l_max = max(l_max, np.linalg.norm(B, ord=2))\n",
    "        l_list.append(l_max)\n",
    "    return l_list"
   ]
  },
  {
   "cell_type": "code",
   "execution_count": 4,
   "metadata": {},
   "outputs": [],
   "source": [
    "@njit\n",
    "def st(x, u):\n",
    "    return np.sign(x) * np.maximum(np.abs(x) - u, 0.)"
   ]
  },
  {
   "cell_type": "code",
   "execution_count": 5,
   "metadata": {},
   "outputs": [],
   "source": [
    "@njit\n",
    "def loss(D, x, z, lbda):\n",
    "    res = D.dot(z) - x\n",
    "    return 0.5 * np.sum(res ** 2) + lbda * np.sum(np.abs(z))"
   ]
  },
  {
   "cell_type": "code",
   "execution_count": 26,
   "metadata": {},
   "outputs": [],
   "source": [
    "@njit\n",
    "def ista(D, x, lbda, L, max_iter, z):\n",
    "    k, p = D.shape\n",
    "    l_list = np.zeros(max_iter)\n",
    "    for i in range(max_iter):\n",
    "        l_list[i] = loss(D, x, z, lbda)\n",
    "        u = st(z - D.T.dot(D.dot(z) - x) / L, lbda / L)\n",
    "        if u.dot(u) < 1e-12:\n",
    "            break\n",
    "        z = u\n",
    "    return z, l_list"
   ]
  },
  {
   "cell_type": "code",
   "execution_count": 139,
   "metadata": {},
   "outputs": [],
   "source": [
    "@njit\n",
    "def ista_s(D, x, lbda, v, max_iter, z):\n",
    "    k, p = D.shape\n",
    "    l_list = []\n",
    "    k_list = []\n",
    "    success = False\n",
    "    for i in range(max_iter):\n",
    "        l_list.append(loss(D, x, z, lbda))\n",
    "        k = np.sum(z != 0)\n",
    "        k_list.append(k)\n",
    "        L = v[k-1]\n",
    "        u = st(z - D.T.dot(D.dot(z) - x) / L, lbda / L)\n",
    "        d = z - u\n",
    "        if d.dot(d) < 1e-12:\n",
    "            success = True\n",
    "            break\n",
    "        z = u\n",
    "    return z, l_list, success, k_list"
   ]
  },
  {
   "cell_type": "code",
   "execution_count": 248,
   "metadata": {},
   "outputs": [],
   "source": [
    "@njit\n",
    "def fista(A, b, l, v, maxit, x):\n",
    "    t = 1\n",
    "    z = x.copy()\n",
    "    l_list = []\n",
    "    k_list = []\n",
    "    for _ in range(maxit):\n",
    "        l_list.append(loss(A, b, x, l))\n",
    "        xold = x.copy()\n",
    "        k = np.sum(x != 0)\n",
    "        k_list.append(k)\n",
    "        L = v[k - 1]\n",
    "        z = z + A.T.dot(b - A.dot(z)) / L\n",
    "        x = st(z, l / L)\n",
    "        t0 = t\n",
    "        t = (1. + np.sqrt(1. + 4. * t ** 2)) / 2.\n",
    "        z = x + ((t0 - 1.) / t) * (x - xold)\n",
    "    return x, np.array(l_list), np.array(k_list)"
   ]
  },
  {
   "cell_type": "code",
   "execution_count": 326,
   "metadata": {
    "scrolled": true
   },
   "outputs": [
    {
     "name": "stdout",
     "output_type": "stream",
     "text": [
      "[3.38120931719268, 4.1936774008306115, 5.0471480354649625, 5.556745352891595, 5.606072115225226]\n"
     ]
    },
    {
     "data": {
      "text/plain": [
       "<matplotlib.legend.Legend at 0x7f136fcdcfd0>"
      ]
     },
     "execution_count": 326,
     "metadata": {},
     "output_type": "execute_result"
    },
    {
     "data": {
      "image/png": "[encoded data removed]",
      "text/plain": [
       "<Figure size 432x288 with 2 Axes>"
      ]
     },
     "metadata": {
      "needs_background": "light"
     },
     "output_type": "display_data"
    }
   ],
   "source": [
    "k, p = 2, 5\n",
    "D = np.random.randn(k, p)\n",
    "L = np.linalg.norm(D, ord=2) ** 2\n",
    "x = np.random.randn(k)\n",
    "z0 = np.zeros(p)\n",
    "lbda = 0.5 * np.max(np.abs(D.T.dot(x)))\n",
    "v = spca_bourin(D.T.dot(D), p)\n",
    "print(v)\n",
    "fig, ax1 = plt.subplots()\n",
    "\n",
    "_, l_l, _ = fista(D, x, lbda, L * np.ones(p), 10000, z0)\n",
    "for v_, label in zip([L * np.ones(p), v], ['fista', 'fista+step']):\n",
    "    z, l_list, k_list = fista(D, x, lbda, v_, 100, z0)\n",
    "    ax1.semilogy(l_list - l_l[-1], label=label)\n",
    "ax2 = ax1.twinx()\n",
    "ax2.plot(k_list, c='k')\n",
    "ax2.set_ylabel('sparsity')\n",
    "ax2.tick_params('y')\n",
    "ax1.legend()"
   ]
  },
  {
   "cell_type": "code",
   "execution_count": 322,
   "metadata": {},
   "outputs": [
    {
     "data": {
      "text/plain": [
       "array([0, 1, 1, 1, 1, 1, 1, 1, 1, 1, 1, 1, 1, 1, 1, 1, 1, 1, 1, 1, 1, 1,\n",
       "       1, 1, 1, 1, 1, 1, 1, 1, 1, 1, 1, 1, 1, 1, 1, 1, 1, 1, 1, 1, 1, 1,\n",
       "       1, 1, 1, 1, 1, 1, 1, 1, 1, 1, 1, 1, 1, 1, 1, 1, 1, 1, 1, 1, 1, 1,\n",
       "       1, 1, 1, 1, 1, 1, 1, 1, 1, 1, 1, 1, 1, 1, 1, 1, 1, 1, 1, 1, 1, 1,\n",
       "       1, 1, 1, 1, 1, 1, 1, 1, 1, 1, 1, 1])"
      ]
     },
     "execution_count": 322,
     "metadata": {},
     "output_type": "execute_result"
    }
   ],
   "source": [
    "k_list"
   ]
  },
  {
   "cell_type": "code",
   "execution_count": 192,
   "metadata": {},
   "outputs": [],
   "source": [
    "p = 5\n",
    "D = np.random.randn(k, p)\n",
    "L = np.linalg.norm(D, ord=2) ** 2\n",
    "x = np.random.randn(k)\n",
    "z0 = np.zeros(p)\n",
    "lbda = 0.5 * np.max(np.abs(D.T.dot(x)))\n",
    "v = spca_bourin(D.T.dot(D), p)\n",
    "\n",
    "z_star, l_star, s, k_list = ista_s(D, x, lbda, v, max_iter, z=z0.copy())\n",
    "z_star, l_list = ista(D, x, lbda, L, max_iter, z=z0.copy())\n",
    "k_list[0] = p"
   ]
  },
  {
   "cell_type": "code",
   "execution_count": 193,
   "metadata": {
    "scrolled": true
   },
   "outputs": [
    {
     "data": {
      "text/plain": [
       "<matplotlib.legend.Legend at 0x7f1376475390>"
      ]
     },
     "execution_count": 193,
     "metadata": {},
     "output_type": "execute_result"
    },
    {
     "data": {
      "image/png": "[encoded data removed]",
      "text/plain": [
       "<Figure size 432x288 with 2 Axes>"
      ]
     },
     "metadata": {
      "needs_background": "light"
     },
     "output_type": "display_data"
    }
   ],
   "source": [
    "fig, ax1 = plt.subplots()\n",
    "ax1.plot(l_list - l_star[-1], label='ISTA')\n",
    "ax1.plot(np.array(l_star) - l_star[-1], label='ISTA + good step')\n",
    "ax1.set_ylabel('f - f^*')\n",
    "ax1.tick_params('y')\n",
    "ax1.set_xlim([0, len(l_star) + 50])\n",
    "ax1.set_yscale('log')\n",
    "ax2 = ax1.twinx()\n",
    "ax2.plot(k_list, c='k')\n",
    "ax2.set_ylabel('sparsity')\n",
    "ax2.tick_params('y')\n",
    "ax1.legend()"
   ]
  },
  {
   "cell_type": "code",
   "execution_count": 154,
   "metadata": {
    "scrolled": true
   },
   "outputs": [
    {
     "data": {
      "text/plain": [
       "<matplotlib.legend.Legend at 0x7f1376e4bfd0>"
      ]
     },
     "execution_count": 154,
     "metadata": {},
     "output_type": "execute_result"
    },
    {
     "data": {
      "image/png": "[encoded data removed]",
      "text/plain": [
       "<Figure size 432x288 with 1 Axes>"
      ]
     },
     "metadata": {
      "needs_background": "light"
     },
     "output_type": "display_data"
    }
   ],
   "source": [
    "plt.semilogy()\n",
    "plt.semilogy(np.array(l_star) - l_star[-1], label='ISTA + good step')\n",
    "plt.xlim(0, 100)\n",
    "plt.legend()"
   ]
  },
  {
   "cell_type": "code",
   "execution_count": 155,
   "metadata": {},
   "outputs": [
    {
     "data": {
      "text/plain": [
       "[0, 3, 2, 1, 1, 1, 1, 1]"
      ]
     },
     "execution_count": 155,
     "metadata": {},
     "output_type": "execute_result"
    }
   ],
   "source": [
    "k_list"
   ]
  },
  {
   "cell_type": "code",
   "execution_count": 92,
   "metadata": {
    "scrolled": true
   },
   "outputs": [
    {
     "data": {
      "text/plain": [
       "[5.845869124745449,\n",
       " 9.942295251365273,\n",
       " 12.229187672048585,\n",
       " 12.386052757091166,\n",
       " 12.387106194608887]"
      ]
     },
     "execution_count": 92,
     "metadata": {},
     "output_type": "execute_result"
    }
   ],
   "source": [
    "v"
   ]
  },
  {
   "cell_type": "code",
   "execution_count": 93,
   "metadata": {
    "scrolled": true
   },
   "outputs": [
    {
     "data": {
      "text/plain": [
       "12.38710619460888"
      ]
     },
     "execution_count": 93,
     "metadata": {},
     "output_type": "execute_result"
    }
   ],
   "source": [
    "L"
   ]
  },
  {
   "cell_type": "code",
   "execution_count": 94,
   "metadata": {},
   "outputs": [
    {
     "data": {
      "text/plain": [
       "array([0., 0., 0., 0., 0.])"
      ]
     },
     "execution_count": 94,
     "metadata": {},
     "output_type": "execute_result"
    }
   ],
   "source": [
    "z0"
   ]
  },
  {
   "cell_type": "code",
   "execution_count": 95,
   "metadata": {
    "scrolled": false
   },
   "outputs": [
    {
     "data": {
      "text/plain": [
       "array([0.99866238, 0.96596346, 0.94595165, ..., 0.87116036, 0.87116036,\n",
       "       0.87116036])"
      ]
     },
     "execution_count": 95,
     "metadata": {},
     "output_type": "execute_result"
    }
   ],
   "source": [
    "l_star"
   ]
  },
  {
   "cell_type": "code",
   "execution_count": 96,
   "metadata": {
    "scrolled": true
   },
   "outputs": [
    {
     "data": {
      "text/plain": [
       "[<matplotlib.lines.Line2D at 0x7f1377fa0160>]"
      ]
     },
     "execution_count": 96,
     "metadata": {},
     "output_type": "execute_result"
    },
    {
     "data": {
      "image/png": "[encoded data removed]",
      "text/plain": [
       "<Figure size 432x288 with 1 Axes>"
      ]
     },
     "metadata": {
      "needs_background": "light"
     },
     "output_type": "display_data"
    }
   ],
   "source": [
    "plt.semilogy(l_star)\n"
   ]
  },
  {
   "cell_type": "code",
   "execution_count": 97,
   "metadata": {},
   "outputs": [
    {
     "data": {
      "text/plain": [
       "array([ 2.99729378e-06, -1.70405929e-06,  0.00000000e+00, -1.29354318e-06,\n",
       "        0.00000000e+00])"
      ]
     },
     "execution_count": 97,
     "metadata": {},
     "output_type": "execute_result"
    }
   ],
   "source": [
    "z_star - st(z_star - D.T.dot(D.dot(z_star) - x) / L, lbda / L)"
   ]
  }
 ],
 "metadata": {
  "kernelspec": {
   "display_name": "Python 3",
   "language": "python",
   "name": "python3"
  },
  "language_info": {
   "codemirror_mode": {
    "name": "ipython",
    "version": 3
   },
   "file_extension": ".py",
   "mimetype": "text/x-python",
   "name": "python",
   "nbconvert_exporter": "python",
   "pygments_lexer": "ipython3",
   "version": "3.7.1"
  }
 },
 "nbformat": 4,
 "nbformat_minor": 2
}
