{
 "cells": [
  {
   "cell_type": "code",
   "execution_count": 1,
   "metadata": {},
   "outputs": [],
   "source": [
    "import matplotlib.pyplot as plt\n",
    "\n",
    "import numpy as np\n",
    "from numba import njit"
   ]
  },
  {
   "cell_type": "code",
   "execution_count": 2,
   "metadata": {},
   "outputs": [],
   "source": [
    "njit = lambda f: f"
   ]
  },
  {
   "cell_type": "code",
   "execution_count": 2,
   "metadata": {},
   "outputs": [],
   "source": [
    "@njit\n",
    "def st(x, u):\n",
    "    return np.sign(x) * np.maximum(np.abs(x) - u, 0.)"
   ]
  },
  {
   "cell_type": "code",
   "execution_count": 69,
   "metadata": {},
   "outputs": [],
   "source": [
    "@njit\n",
    "def f(D, x, lbda, L, p):\n",
    "    z = D.T.dot(x)\n",
    "    mask = (np.abs(z) > lbda) * 1.\n",
    "    M = np.diag(mask)\n",
    "    G = np.eye(p) - D.T.dot(D) / L\n",
    "    G = np.dot(M, np.dot(G, M))\n",
    "    return np.dot(G, z - lbda * np.sign(z))"
   ]
  },
  {
   "cell_type": "code",
   "execution_count": 164,
   "metadata": {
    "scrolled": true
   },
   "outputs": [],
   "source": [
    "p_list = []\n",
    "u_list = []\n",
    "lbda = 0.5\n",
    "p = 3\n",
    "k = 2\n",
    "#_, _, D = np.linalg.svd(np.random.randn(k, p), full_matrices=False)\n",
    "D = np.random.randn(k, p)\n",
    "L = np.linalg.norm(D, ord=2) ** 2\n",
    "\n",
    "@njit\n",
    "def run_expe(D, n_expe=1000, n_trials=10000, normalize=True, p=3, k=3, tol=1e-5):\n",
    "    conjecture = True\n",
    "    i_list = np.zeros(n_expe)\n",
    "    for expe in range(n_expe):\n",
    "        eps = np.random.randn(p, k)\n",
    "        is_neg = False\n",
    "        is_pos = False\n",
    "        u_min = 1000\n",
    "        u_max = -1000\n",
    "        # print('\\r %d' % expe, flush=True, end='')\n",
    "        u_list = np.zeros(n_trials)\n",
    "        for i in range(n_trials):\n",
    "            x = np.random.randn(k, )\n",
    "            if normalize:\n",
    "                x /= np.max(np.abs(D.T.dot(x)))\n",
    "            P = f(D, x, lbda, L, p)\n",
    "            u = np.dot(eps, x).dot(P)\n",
    "            u_list[i] = u\n",
    "            if u > -tol:\n",
    "                is_pos = True\n",
    "            if u < tol:\n",
    "                is_neg = True\n",
    "            if is_pos and is_neg:\n",
    "                i_list[expe] = i\n",
    "                break \n",
    "        else:\n",
    "            conjecture = False\n",
    "            print(expe, 'fail')\n",
    "            break\n",
    "    return conjecture, i_list, u_list"
   ]
  },
  {
   "cell_type": "code",
   "execution_count": 165,
   "metadata": {
    "scrolled": false
   },
   "outputs": [
    {
     "name": "stdout",
     "output_type": "stream",
     "text": [
      "776 fail\n",
      "False\n"
     ]
    },
    {
     "data": {
      "text/plain": [
       "[<matplotlib.lines.Line2D at 0x7f36a5db5b00>]"
      ]
     },
     "execution_count": 165,
     "metadata": {},
     "output_type": "execute_result"
    },
    {
     "data": {
      "image/png": "[encoded data removed]",
      "text/plain": [
       "<Figure size 432x288 with 1 Axes>"
      ]
     },
     "metadata": {
      "needs_background": "light"
     },
     "output_type": "display_data"
    }
   ],
   "source": [
    "conj, i_list, u_list = run_expe(D, n_expe=100000, n_trials=1000000, normalize=True, p=p, k=k)\n",
    "print(conj)\n",
    "plt.semilogy(np.abs(np.sort(u_list)))"
   ]
  },
  {
   "cell_type": "code",
   "execution_count": 166,
   "metadata": {},
   "outputs": [
    {
     "data": {
      "text/plain": [
       "array([-0.01058982, -0.01052302, -0.0105461 , ..., -0.01055063,\n",
       "       -0.01061307, -0.01054864])"
      ]
     },
     "execution_count": 166,
     "metadata": {},
     "output_type": "execute_result"
    }
   ],
   "source": [
    "u_list"
   ]
  },
  {
   "cell_type": "code",
   "execution_count": 163,
   "metadata": {},
   "outputs": [
    {
     "data": {
      "text/plain": [
       "array([0.24238297, 0.19668471, 0.54868404, ..., 0.        , 0.        ,\n",
       "       0.        ])"
      ]
     },
     "execution_count": 163,
     "metadata": {},
     "output_type": "execute_result"
    }
   ],
   "source": [
    "u_list"
   ]
  },
  {
   "cell_type": "code",
   "execution_count": 109,
   "metadata": {},
   "outputs": [
    {
     "data": {
      "text/plain": [
       "4186.0"
      ]
     },
     "execution_count": 109,
     "metadata": {},
     "output_type": "execute_result"
    }
   ],
   "source": [
    "i_list.max()"
   ]
  },
  {
   "cell_type": "code",
   "execution_count": null,
   "metadata": {},
   "outputs": [],
   "source": []
  }
 ],
 "metadata": {
  "kernelspec": {
   "display_name": "Python 3",
   "language": "python",
   "name": "python3"
  },
  "language_info": {
   "codemirror_mode": {
    "name": "ipython",
    "version": 3
   },
   "file_extension": ".py",
   "mimetype": "text/x-python",
   "name": "python",
   "nbconvert_exporter": "python",
   "pygments_lexer": "ipython3",
   "version": "3.7.1"
  }
 },
 "nbformat": 4,
 "nbformat_minor": 2
}
